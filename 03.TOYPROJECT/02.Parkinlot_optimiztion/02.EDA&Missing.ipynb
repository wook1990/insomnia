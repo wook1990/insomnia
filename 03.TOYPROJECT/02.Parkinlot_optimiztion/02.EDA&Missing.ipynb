{
    "cells": [
        {
            "cell_type": "code",
            "execution_count": 1,
            "source": [
                "import pandas\r\n",
                "import numpy\r\n",
                "import os\r\n",
                "import math\r\n",
                "import warnings\r\n",
                "from IPython.core.display import display, HTML\r\n",
                "\r\n",
                "## 전체 구간을 넓게\r\n",
                "display(HTML(\"<style>.container { width:100% !important; }</style>\"))\r\n",
                "## 각 컬럼 width 최대로\r\n",
                "pandas.set_option('display.max_colwidth', -1)\r\n",
                "## rows 500\r\n",
                "pandas.set_option('display.max_rows', 500)\r\n",
                "## columns\r\n",
                "pandas.set_option('display.max_columns', 500)\r\n",
                "pandas.set_option('display.width', 1000)\r\n",
                "\r\n",
                "pandas.options.display.float_format = '{:.5f}'.format\r\n",
                "warnings.filterwarnings(action = 'ignore')\r\n",
                "\r\n",
                "PATH = 'C:/Users/WAI/OneDrive/04.DOMHWANGCHA/DOMHWANGCHA/99.DATA/98.DACON/01.주차수요예측AI경진대회/'"
            ],
            "outputs": [
                {
                    "output_type": "display_data",
                    "data": {
                        "text/plain": [
                            "<IPython.core.display.HTML object>"
                        ],
                        "text/html": [
                            "<style>.container { width:100% !important; }</style>"
                        ]
                    },
                    "metadata": {}
                },
                {
                    "output_type": "stream",
                    "name": "stderr",
                    "text": [
                        "C:\\Users\\WAI\\Anaconda3\\envs\\analysis\\lib\\site-packages\\ipykernel_launcher.py:11: FutureWarning: Passing a negative integer is deprecated in version 1.0 and will not be supported in future version. Instead, use None to not limit the column width.\n",
                        "  # This is added back by InteractiveShellApp.init_path()\n"
                    ]
                }
            ],
            "metadata": {}
        },
        {
            "cell_type": "code",
            "execution_count": 2,
            "source": [
                "df = pandas.read_csv(PATH + \"train.csv\", index_col = False)\r\n",
                "test_df = pandas.read_csv(PATH + \"test.csv\", index_col = False)\r\n",
                "df = df.append(test_df)\r\n",
                "age_df = pandas.read_csv(PATH + \"age_gender_info.csv\", index_col=False)\r\n",
                "\r\n",
                "print(\"Training Set Shape : {}\".format(df.shape))\r\n",
                "print(\"Test Set Shape : {}\".format(test_df.shape))\r\n",
                "print(\"Total Set Shape : {}\".format(df.shape))\r\n",
                "print(\"Age Gender Set Shape : {}\".format(age_df.shape))\r\n"
            ],
            "outputs": [
                {
                    "output_type": "stream",
                    "name": "stdout",
                    "text": [
                        "Training Set Shape : (2952, 15)\n",
                        "Test Set Shape : (1022, 14)\n",
                        "Total Set Shape : (3974, 15)\n",
                        "Age Gender Set Shape : (16, 23)\n"
                    ]
                }
            ],
            "metadata": {}
        },
        {
            "cell_type": "code",
            "execution_count": 13,
            "source": [
                "print(\"전체 아파트 단지 : {}\".format(len(df[\"단지코드\"].unique())))\r\n",
                "print(\"공급유형 : {}\\n\".format(df[\"공급유형\"].value_counts()))\r\n",
                "print(\"임대건물구분: {}\\n\".format(df[\"임대건물구분\"].value_counts()))\r\n",
                "#df.groupby([\"단지코드\", \"임대건물구분\"]).count() # Pivot으로 아파트 ,상가 단지 구분\r\n"
            ],
            "outputs": [
                {
                    "output_type": "stream",
                    "name": "stdout",
                    "text": [
                        "전체 아파트 단지 : 573\n",
                        "공급유형 : 국민임대         2380\n",
                        "임대상가         739 \n",
                        "행복주택         337 \n",
                        "공공임대(10년)    240 \n",
                        "영구임대         197 \n",
                        "공공임대(50년)    44  \n",
                        "공공임대(분납)     18  \n",
                        "장기전세         9   \n",
                        "공공분양         7   \n",
                        "공공임대(5년)     3   \n",
                        "Name: 공급유형, dtype: int64\n",
                        "\n",
                        "임대건물구분: 아파트    3235\n",
                        "상가     739 \n",
                        "Name: 임대건물구분, dtype: int64\n",
                        "\n"
                    ]
                }
            ],
            "metadata": {}
        },
        {
            "cell_type": "code",
            "execution_count": 24,
            "source": [
                "# 이상한 관측치 철\r\n",
                "df = df.replace(\"-\",numpy.nan)\r\n",
                "df = df.astype({\"임대보증금\" : float, \"임대료\" : float}) \r\n",
                "# null 값 확인\r\n",
                "df = df.rename(columns = {\"도보 10분거리 내 지하철역 수(환승노선 수 반영)\" : \"인접지하철역수\", \"도보 10분거리 내 버스정류장 수\": \"인접버스정거장수\"})\r\n",
                "df.describe().T"
            ],
            "outputs": [
                {
                    "output_type": "execute_result",
                    "data": {
                        "text/plain": [
                            "              count           mean            std           min            25%            50%            75%             max\n",
                            "총세대수     3974.00000 880.33971      519.54239      26.00000      504.00000      775.00000      1116.00000     2572.00000     \n",
                            "전용면적     3974.00000 44.48695       32.95255       9.96000       32.12750       39.84000       51.28250       583.40000      \n",
                            "전용면적별세대수 3974.00000 102.14796      130.95242      1.00000       14.00000       60.00000       142.00000      1865.00000     \n",
                            "공가수      3974.00000 13.59562       10.91349       0.00000       4.00000        13.00000       21.00000       55.00000       \n",
                            "임대보증금    3207.00000 26391607.17181 20396806.18297 2249000.00000 14487000.00000 21015000.00000 32443000.00000 216423000.00000\n",
                            "임대료      3198.00000 190975.06567   123166.23443   16650.00000   110877.50000   159960.00000   232200.00000   1058030.00000  \n",
                            "인접지하철역수  3721.00000 0.16608        0.42985        0.00000       0.00000        0.00000        0.00000        3.00000        \n",
                            "인접버스정거장수 3970.00000 3.93526        3.59174        0.00000       2.00000        3.00000        4.00000        50.00000       \n",
                            "단지내주차면수  3974.00000 588.06467      383.95503      13.00000      280.00000      499.50000      804.00000      1798.00000     \n",
                            "등록차량수    2952.00000 559.76829      433.37503      13.00000      220.00000      487.00000      770.00000      2550.00000     \n",
                            "전용면적평수   3974.00000 13.53543       9.98488        3.10000       9.80000        12.10000       15.60000       176.80000      \n",
                            "평수범주     3974.00000 2703.81832     1546.82176     1001.00000    1001.00000     2001.00000     4001.00000     8001.00000     "
                        ],
                        "text/html": [
                            "<div>\n",
                            "<style scoped>\n",
                            "    .dataframe tbody tr th:only-of-type {\n",
                            "        vertical-align: middle;\n",
                            "    }\n",
                            "\n",
                            "    .dataframe tbody tr th {\n",
                            "        vertical-align: top;\n",
                            "    }\n",
                            "\n",
                            "    .dataframe thead th {\n",
                            "        text-align: right;\n",
                            "    }\n",
                            "</style>\n",
                            "<table border=\"1\" class=\"dataframe\">\n",
                            "  <thead>\n",
                            "    <tr style=\"text-align: right;\">\n",
                            "      <th></th>\n",
                            "      <th>count</th>\n",
                            "      <th>mean</th>\n",
                            "      <th>std</th>\n",
                            "      <th>min</th>\n",
                            "      <th>25%</th>\n",
                            "      <th>50%</th>\n",
                            "      <th>75%</th>\n",
                            "      <th>max</th>\n",
                            "    </tr>\n",
                            "  </thead>\n",
                            "  <tbody>\n",
                            "    <tr>\n",
                            "      <th>총세대수</th>\n",
                            "      <td>3974.00000</td>\n",
                            "      <td>880.33971</td>\n",
                            "      <td>519.54239</td>\n",
                            "      <td>26.00000</td>\n",
                            "      <td>504.00000</td>\n",
                            "      <td>775.00000</td>\n",
                            "      <td>1116.00000</td>\n",
                            "      <td>2572.00000</td>\n",
                            "    </tr>\n",
                            "    <tr>\n",
                            "      <th>전용면적</th>\n",
                            "      <td>3974.00000</td>\n",
                            "      <td>44.48695</td>\n",
                            "      <td>32.95255</td>\n",
                            "      <td>9.96000</td>\n",
                            "      <td>32.12750</td>\n",
                            "      <td>39.84000</td>\n",
                            "      <td>51.28250</td>\n",
                            "      <td>583.40000</td>\n",
                            "    </tr>\n",
                            "    <tr>\n",
                            "      <th>전용면적별세대수</th>\n",
                            "      <td>3974.00000</td>\n",
                            "      <td>102.14796</td>\n",
                            "      <td>130.95242</td>\n",
                            "      <td>1.00000</td>\n",
                            "      <td>14.00000</td>\n",
                            "      <td>60.00000</td>\n",
                            "      <td>142.00000</td>\n",
                            "      <td>1865.00000</td>\n",
                            "    </tr>\n",
                            "    <tr>\n",
                            "      <th>공가수</th>\n",
                            "      <td>3974.00000</td>\n",
                            "      <td>13.59562</td>\n",
                            "      <td>10.91349</td>\n",
                            "      <td>0.00000</td>\n",
                            "      <td>4.00000</td>\n",
                            "      <td>13.00000</td>\n",
                            "      <td>21.00000</td>\n",
                            "      <td>55.00000</td>\n",
                            "    </tr>\n",
                            "    <tr>\n",
                            "      <th>임대보증금</th>\n",
                            "      <td>3207.00000</td>\n",
                            "      <td>26391607.17181</td>\n",
                            "      <td>20396806.18297</td>\n",
                            "      <td>2249000.00000</td>\n",
                            "      <td>14487000.00000</td>\n",
                            "      <td>21015000.00000</td>\n",
                            "      <td>32443000.00000</td>\n",
                            "      <td>216423000.00000</td>\n",
                            "    </tr>\n",
                            "    <tr>\n",
                            "      <th>임대료</th>\n",
                            "      <td>3198.00000</td>\n",
                            "      <td>190975.06567</td>\n",
                            "      <td>123166.23443</td>\n",
                            "      <td>16650.00000</td>\n",
                            "      <td>110877.50000</td>\n",
                            "      <td>159960.00000</td>\n",
                            "      <td>232200.00000</td>\n",
                            "      <td>1058030.00000</td>\n",
                            "    </tr>\n",
                            "    <tr>\n",
                            "      <th>인접지하철역수</th>\n",
                            "      <td>3721.00000</td>\n",
                            "      <td>0.16608</td>\n",
                            "      <td>0.42985</td>\n",
                            "      <td>0.00000</td>\n",
                            "      <td>0.00000</td>\n",
                            "      <td>0.00000</td>\n",
                            "      <td>0.00000</td>\n",
                            "      <td>3.00000</td>\n",
                            "    </tr>\n",
                            "    <tr>\n",
                            "      <th>인접버스정거장수</th>\n",
                            "      <td>3970.00000</td>\n",
                            "      <td>3.93526</td>\n",
                            "      <td>3.59174</td>\n",
                            "      <td>0.00000</td>\n",
                            "      <td>2.00000</td>\n",
                            "      <td>3.00000</td>\n",
                            "      <td>4.00000</td>\n",
                            "      <td>50.00000</td>\n",
                            "    </tr>\n",
                            "    <tr>\n",
                            "      <th>단지내주차면수</th>\n",
                            "      <td>3974.00000</td>\n",
                            "      <td>588.06467</td>\n",
                            "      <td>383.95503</td>\n",
                            "      <td>13.00000</td>\n",
                            "      <td>280.00000</td>\n",
                            "      <td>499.50000</td>\n",
                            "      <td>804.00000</td>\n",
                            "      <td>1798.00000</td>\n",
                            "    </tr>\n",
                            "    <tr>\n",
                            "      <th>등록차량수</th>\n",
                            "      <td>2952.00000</td>\n",
                            "      <td>559.76829</td>\n",
                            "      <td>433.37503</td>\n",
                            "      <td>13.00000</td>\n",
                            "      <td>220.00000</td>\n",
                            "      <td>487.00000</td>\n",
                            "      <td>770.00000</td>\n",
                            "      <td>2550.00000</td>\n",
                            "    </tr>\n",
                            "    <tr>\n",
                            "      <th>전용면적평수</th>\n",
                            "      <td>3974.00000</td>\n",
                            "      <td>13.53543</td>\n",
                            "      <td>9.98488</td>\n",
                            "      <td>3.10000</td>\n",
                            "      <td>9.80000</td>\n",
                            "      <td>12.10000</td>\n",
                            "      <td>15.60000</td>\n",
                            "      <td>176.80000</td>\n",
                            "    </tr>\n",
                            "    <tr>\n",
                            "      <th>평수범주</th>\n",
                            "      <td>3974.00000</td>\n",
                            "      <td>2703.81832</td>\n",
                            "      <td>1546.82176</td>\n",
                            "      <td>1001.00000</td>\n",
                            "      <td>1001.00000</td>\n",
                            "      <td>2001.00000</td>\n",
                            "      <td>4001.00000</td>\n",
                            "      <td>8001.00000</td>\n",
                            "    </tr>\n",
                            "  </tbody>\n",
                            "</table>\n",
                            "</div>"
                        ]
                    },
                    "metadata": {},
                    "execution_count": 24
                }
            ],
            "metadata": {}
        },
        {
            "cell_type": "code",
            "execution_count": 25,
            "source": [
                "df.isnull().sum().to_frame().T"
            ],
            "outputs": [
                {
                    "output_type": "execute_result",
                    "data": {
                        "text/plain": [
                            "   단지코드  총세대수  임대건물구분  지역  공급유형  전용면적  전용면적별세대수  공가수  자격유형  임대보증금  임대료  인접지하철역수  인접버스정거장수  단지내주차면수  등록차량수  전용면적평수  평수범주\n",
                            "0  0     0     0       0   0     0     0         0    2     767    776  253      4         0        1022   0       0   "
                        ],
                        "text/html": [
                            "<div>\n",
                            "<style scoped>\n",
                            "    .dataframe tbody tr th:only-of-type {\n",
                            "        vertical-align: middle;\n",
                            "    }\n",
                            "\n",
                            "    .dataframe tbody tr th {\n",
                            "        vertical-align: top;\n",
                            "    }\n",
                            "\n",
                            "    .dataframe thead th {\n",
                            "        text-align: right;\n",
                            "    }\n",
                            "</style>\n",
                            "<table border=\"1\" class=\"dataframe\">\n",
                            "  <thead>\n",
                            "    <tr style=\"text-align: right;\">\n",
                            "      <th></th>\n",
                            "      <th>단지코드</th>\n",
                            "      <th>총세대수</th>\n",
                            "      <th>임대건물구분</th>\n",
                            "      <th>지역</th>\n",
                            "      <th>공급유형</th>\n",
                            "      <th>전용면적</th>\n",
                            "      <th>전용면적별세대수</th>\n",
                            "      <th>공가수</th>\n",
                            "      <th>자격유형</th>\n",
                            "      <th>임대보증금</th>\n",
                            "      <th>임대료</th>\n",
                            "      <th>인접지하철역수</th>\n",
                            "      <th>인접버스정거장수</th>\n",
                            "      <th>단지내주차면수</th>\n",
                            "      <th>등록차량수</th>\n",
                            "      <th>전용면적평수</th>\n",
                            "      <th>평수범주</th>\n",
                            "    </tr>\n",
                            "  </thead>\n",
                            "  <tbody>\n",
                            "    <tr>\n",
                            "      <th>0</th>\n",
                            "      <td>0</td>\n",
                            "      <td>0</td>\n",
                            "      <td>0</td>\n",
                            "      <td>0</td>\n",
                            "      <td>0</td>\n",
                            "      <td>0</td>\n",
                            "      <td>0</td>\n",
                            "      <td>0</td>\n",
                            "      <td>2</td>\n",
                            "      <td>767</td>\n",
                            "      <td>776</td>\n",
                            "      <td>253</td>\n",
                            "      <td>4</td>\n",
                            "      <td>0</td>\n",
                            "      <td>1022</td>\n",
                            "      <td>0</td>\n",
                            "      <td>0</td>\n",
                            "    </tr>\n",
                            "  </tbody>\n",
                            "</table>\n",
                            "</div>"
                        ]
                    },
                    "metadata": {},
                    "execution_count": 25
                }
            ],
            "metadata": {}
        },
        {
            "cell_type": "code",
            "execution_count": 22,
            "source": [
                "\r\n",
                "# 전용 면적의 그룹핑필요\r\n",
                "# 전용 면적 평수 변환하여 평수별 그룹핑\r\n",
                "\r\n",
                "df[\"전용면적평수\"] = [math.ceil(x)/10 for x in df[\"전용면적\"]/3.3*10]\r\n",
                "# df[\"전용면적평수\"].hist()\r\n",
                "# 임대 상가의 경우 면적평수가 매우 넓음!\r\n",
                "# df[df[\"전용면적평수\"] > 60]\r\n",
                "\r\n",
                "\r\n",
                "\r\n",
                "\r\n",
                "# 전용평수 범주화\r\n",
                "# 아파트 -> 25.8평이 최대 \r\n",
                "print(\"최대 평수 : {}, 최소 평수 : {}, 평균평수 : {} \".format(df[\"전용면적평수\"].max(),df[\"전용면적평수\"].min(),round(df[\"전용면적평수\"].mean(),1)))\r\n",
                "# 범주 구분 \r\n",
                "# 원룸 -> 10평 미만 -> 1001\r\n",
                "# 10평이상 13평 미만 -> 2001\r\n",
                "# 13평이상 18평 미만 -> 3001\r\n",
                "# 18평이상 21평 미만 -> 4001\r\n",
                "# 21평 이상 24평 미만 -> 5001\r\n",
                "# 24평 이상 -> 6001\r\n",
                "\r\n",
                "df.loc[df[\"전용면적평수\"] < 10, \"평수범주\"] = 1001\r\n",
                "df.loc[(df[\"전용면적평수\"] >= 10) & (df[\"전용면적평수\"] < 13), \"평수범주\"] = 2001\r\n",
                "df.loc[(df[\"전용면적평수\"] >= 13) & (df[\"전용면적평수\"] < 15), \"평수범주\"] = 3001\r\n",
                "df.loc[(df[\"전용면적평수\"] >= 15) & (df[\"전용면적평수\"] < 18), \"평수범주\"] = 4001\r\n",
                "df.loc[(df[\"전용면적평수\"] >= 18) & (df[\"전용면적평수\"] < 21), \"평수범주\"] = 5001\r\n",
                "df.loc[(df[\"전용면적평수\"] >= 21) & (df[\"전용면적평수\"] < 24), \"평수범주\"] = 6001\r\n",
                "df.loc[(df[\"전용면적평수\"] >= 24) & (df[\"전용면적평수\"] < 28), \"평수범주\"] = 7001\r\n",
                "df.loc[(df[\"전용면적평수\"] >= 28), \"평수범주\"] = 8001\r\n",
                "\r\n",
                "\r\n",
                "df = df.astype({\"평수범주\" : numpy.int16})\r\n",
                "\r\n"
            ],
            "outputs": [
                {
                    "output_type": "stream",
                    "name": "stdout",
                    "text": [
                        "아파트 최대 평수 : 176.8, 최소 평수 : 3.1, 평균평수 : 13.5 \n"
                    ]
                }
            ],
            "metadata": {}
        },
        {
            "cell_type": "code",
            "execution_count": 38,
            "source": [
                "# 아파트와 상가로 데이터 분할\r\n",
                "# Null 포함되지 않은 데이터셋과, Null 포함된 데이터 분할 \r\n",
                "df_apt = df.loc[df[\"임대건물구분\"] == \"아파트\"]\r\n",
                "df_store = df.loc[df[\"임대건물구분\"] == \"상가\"]\r\n",
                "\r\n",
                "print(\"아파트 : {} , 상가 : {}\".format(len(df_apt), len(df_store)))\r\n",
                "\r\n",
                "df_apt_null = df_apt[df_apt[\"임대보증금\"].isnull() == True]\r\n",
                "df_store_null = df_store[df_store[\"임대보증금\"].isnull() == True]\r\n",
                "\r\n",
                "df_apt_not_null = df_apt[df_apt[\"임대보증금\"].isnull() != True]\r\n",
                "df_store_not_null = df_store[df_store[\"임대보증금\"].isnull() != True]\r\n",
                "\r\n",
                "\r\n"
            ],
            "outputs": [
                {
                    "output_type": "stream",
                    "name": "stdout",
                    "text": [
                        "아파트 : 3235 , 상가 : 739\n"
                    ]
                }
            ],
            "metadata": {}
        },
        {
            "cell_type": "code",
            "execution_count": 54,
            "source": [
                "# 1. 임대보증금\r\n",
                "# 1. 임대보증금, 임대료가 NaN인 데이터에서 상가 아파트에 따른 정보 확인 \r\n",
                "print(\"임대보증금이 임대건물구분별 Null 데이터 : \\n {}\".format(df[df[\"임대보증금\"].isnull() == True].groupby([\"임대건물구분\"]).count()[\"단지코드\"]))\r\n",
                "print(\"---------------------------------------------------------\")\r\n",
                "print(\"임대보증금이 자격유형별 Null 데이터 : \\n {}\".format(df[df[\"임대보증금\"].isnull() == True].groupby([\"자격유형\"]).count()[\"단지코드\"]))\r\n",
                "print(\"---------------------------------------------------------\")\r\n",
                "print(\"결측이 존재하는 아파트 건수 : {}\".format(len(df_apt_null)))\r\n",
                "print(\"---------------------------------------------------------\")\r\n",
                "print(\"결측이 존재하는 아파트 건수 : {}\".format(len(df_store_null)))\r\n",
                "print(\"---------------------------------------------------------\")\r\n",
                "print(\"Null이 존재하는 Apt의 단지코드 : {}\".format(df_apt_null[\"단지코드\"].unique()))\r\n",
                "# ['C1350' 'C1326' 'C1786' 'C2186' 'C1006' 'C2152' 'C1267']\r\n",
                "\r\n",
                "df.loc[df[\"단지코드\"].isin(['C1350', 'C1326', 'C1786', 'C2186', 'C1006', 'C2152', 'C1267'])]\r\n",
                "\r\n",
                "df_apt_null.loc[df_apt_null[\"단지코드\"].isin(['C1350', 'C1326', 'C1786', 'C2186', 'C1006', 'C2152', 'C1267'])][[\"지역\",\"공급유형\",\"평수범주\",\"임대보증금\",\"임대료\"]]\r\n",
                "\r\n",
                "print(\"결측치가 존재하는 아파트 지역 : {}\".format(df.loc[df[\"단지코드\"].isin(['C1350', 'C1326', 'C1786', 'C2186', 'C1006', 'C2152', 'C1267'])][\"지역\"].unique()))\r\n",
                "# ['대전광역시' '부산광역시' '강원도' '대구광역시' '경상남도']"
            ],
            "outputs": [
                {
                    "output_type": "stream",
                    "name": "stdout",
                    "text": [
                        "임대보증금이 임대건물구분별 Null 데이터 : \n",
                        " 임대건물구분\n",
                        "상가     739\n",
                        "아파트    28 \n",
                        "Name: 단지코드, dtype: int64\n",
                        "---------------------------------------------------------\n",
                        "임대보증금이 자격유형별 Null 데이터 : \n",
                        " 자격유형\n",
                        "C    2  \n",
                        "D    749\n",
                        "H    8  \n",
                        "K    4  \n",
                        "L    4  \n",
                        "Name: 단지코드, dtype: int64\n",
                        "---------------------------------------------------------\n",
                        "결측이 존재하는 아파트 건수 : 28\n",
                        "---------------------------------------------------------\n",
                        "결측이 존재하는 아파트 건수 : 739\n",
                        "---------------------------------------------------------\n",
                        "Null이 존재하는 Apt의 단지코드 : ['C1350' 'C1326' 'C1786' 'C2186' 'C1006' 'C2152' 'C1267']\n",
                        "결측치가 존재하는 아파트 지역 : ['대전광역시' '부산광역시' '강원도' '대구광역시' '경상남도']\n"
                    ]
                }
            ],
            "metadata": {}
        },
        {
            "cell_type": "code",
            "execution_count": 66,
            "source": [
                "# 임대보증금 보완을 위한 데이터 처리 \r\n",
                "df_area = df_apt_not_null.loc[df_apt_not_null[\"지역\"].isin(['대전광역시', '부산광역시', '강원도', '대구광역시', '경상남도'])][[\"지역\",\"공급유형\",\"평수범주\",\"임대보증금\",\"임대료\"]]\r\n",
                "df_grouped_area = df_area.groupby([\"지역\",\"공급유형\",\"평수범주\"]).mean()\r\n",
                "\r\n",
                "df_grouped_area.to_csv(PATH + \"grouped_area.csv\", index = True,encoding = \"utf-8\")"
            ],
            "outputs": [],
            "metadata": {}
        },
        {
            "cell_type": "code",
            "execution_count": 64,
            "source": [
                "# Null 지역의 공급유형 특징 파악\r\n",
                "\r\n",
                "df_apt_null[[\"지역\",\"공급유형\",\"평수범주\",\"임대보증금\",\"임대료\"]].groupby([\"지역\",\"공급유형\",\"평수범주\"]).max()\r\n",
                "df_grouped_null_area = df_apt_null[[\"지역\",\"공급유형\",\"전용면적\",\"평수범주\",\"임대보증금\",\"임대료\"]]\r\n",
                "df_grouped_null_area.to_csv(PATH + \"grouped_null_area.csv\", index=True, encoding = \"utf-8\")\r\n",
                "\r\n",
                "# 범위에 없는 결측치도 발생..\r\n",
                "# Test + Train 합치고\r\n",
                "# 에러 데이터 삭제후 진행 "
            ],
            "outputs": [],
            "metadata": {}
        }
    ],
    "metadata": {
        "orig_nbformat": 4,
        "language_info": {
            "name": "python",
            "version": "3.7.10",
            "mimetype": "text/x-python",
            "codemirror_mode": {
                "name": "ipython",
                "version": 3
            },
            "pygments_lexer": "ipython3",
            "nbconvert_exporter": "python",
            "file_extension": ".py"
        },
        "kernelspec": {
            "name": "python3",
            "display_name": "Python 3.7.10 64-bit ('analysis': conda)"
        },
        "interpreter": {
            "hash": "b93001225728b99e51adba9f8af0e0d4fa33af88688185137188ede2401578f5"
        }
    },
    "nbformat": 4,
    "nbformat_minor": 2
}