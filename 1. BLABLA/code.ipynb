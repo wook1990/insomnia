{
 "cells": [
  {
   "cell_type": "code",
   "execution_count": 1,
   "outputs": [
    {
     "name": "stdout",
     "output_type": "stream",
     "text": [
      "양수\n",
      "4987\n"
     ]
    }
   ],
   "source": [
    "num1 = 7894\n",
    "string = str(num1)\n",
    "if string[0] == \"-\":\n",
    "    print(\"음수\")\n",
    "    reverse = string[0] + string[1:len(string)][::-1]\n",
    "    print(int(reverse))\n",
    "else:\n",
    "    print(\"양수\")\n",
    "    reverse = string[::-1]\n",
    "    print(int(reverse))\n",
    "\n",
    "\n",
    "\n",
    "\n",
    "\n"
   ],
   "metadata": {
    "collapsed": false,
    "pycharm": {
     "name": "#%%\n"
    }
   }
  },
  {
   "cell_type": "code",
   "execution_count": 5,
   "outputs": [
    {
     "ename": "IndentationError",
     "evalue": "unexpected indent (<ipython-input-5-bd6a73fd81a9>, line 16)",
     "output_type": "error",
     "traceback": [
      "\u001B[1;36m  File \u001B[1;32m\"<ipython-input-5-bd6a73fd81a9>\"\u001B[1;36m, line \u001B[1;32m16\u001B[0m\n\u001B[1;33m    '''\u001B[0m\n\u001B[1;37m    ^\u001B[0m\n\u001B[1;31mIndentationError\u001B[0m\u001B[1;31m:\u001B[0m unexpected indent\n"
     ]
    }
   ],
   "source": [
    "import pandas\n",
    "import xml.etree.ElementTree as et\n",
    "tree = et.parse(\"C:\\\\Users\\\\WAI\\\\Downloads\\\\803 골든출력본.xml\")\n",
    "root = tree.getroot()\n",
    "\n",
    "tag = root.findall(\"ROW\")\n",
    "\n",
    "for child in root.iter():\n",
    "    print(child.attrib)\n",
    "\n",
    "'''\n",
    "for idx, t in enumerate(tag):\n",
    "    child = t.getchildren()\n",
    "'''\n",
    "    #print(child.__getattribute__())\n",
    "    '''\n",
    "    for idx, chi in enumerate(child):\n",
    "        if idx == 1:\n",
    "    '''\n",
    "\n",
    "    #        print(chi.tag, chi.text)\n",
    "\n",
    "\n",
    "'''\n",
    "for child in range(len(tag)){}\n",
    "for i in iter(child):\n",
    "    print(i.tag, i.text)\n",
    "'''\n"
   ],
   "metadata": {
    "collapsed": false,
    "pycharm": {
     "name": "#%%\n"
    }
   }
  }
 ],
 "metadata": {
  "kernelspec": {
   "name": "lab_kernel",
   "language": "python",
   "display_name": "lab_kernel"
  },
  "language_info": {
   "codemirror_mode": {
    "name": "ipython",
    "version": 2
   },
   "file_extension": ".py",
   "mimetype": "text/x-python",
   "name": "python",
   "nbconvert_exporter": "python",
   "pygments_lexer": "ipython2",
   "version": "2.7.6"
  }
 },
 "nbformat": 4,
 "nbformat_minor": 0
}