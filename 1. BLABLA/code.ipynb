{
 "cells": [
  {
   "cell_type": "code",
   "execution_count": 43,
   "outputs": [
    {
     "name": "stdout",
     "output_type": "stream",
     "text": [
      "양수\n",
      "4987\n"
     ]
    }
   ],
   "source": [
    "num1 = 7894\n",
    "string = str(num1)\n",
    "if string[0] == \"-\":\n",
    "    print(\"음수\")\n",
    "    reverse = string[0] + string[1:len(string)][::-1]\n",
    "    print(int(reverse))\n",
    "else:\n",
    "    print(\"양수\")\n",
    "    reverse = string[::-1]\n",
    "    print(int(reverse))\n",
    "\n",
    "\n",
    "\n",
    "\n",
    "\n",
    "\n"
   ],
   "metadata": {
    "collapsed": false,
    "pycharm": {
     "name": "#%%\n"
    }
   }
  }
 ],
 "metadata": {
  "kernelspec": {
   "display_name": "Python 3",
   "language": "python",
   "name": "python3"
  },
  "language_info": {
   "codemirror_mode": {
    "name": "ipython",
    "version": 2
   },
   "file_extension": ".py",
   "mimetype": "text/x-python",
   "name": "python",
   "nbconvert_exporter": "python",
   "pygments_lexer": "ipython2",
   "version": "2.7.6"
  }
 },
 "nbformat": 4,
 "nbformat_minor": 0
}