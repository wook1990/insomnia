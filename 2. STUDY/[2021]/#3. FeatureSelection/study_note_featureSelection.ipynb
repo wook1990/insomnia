#%% md
#### Feature Selection(변수 선택)

[FeatureSelection](https://machinelearningmastery.com/feature-selection-with-real-and-categorical-data/)

<img aria-describedby="caption-attachment-10919" loading="lazy" class="size-full wp-image-10919" src="https://machinelearningmastery.com/wp-content/uploads/2019/11/Overview-of-Feature-Selection-Techniques3.png" alt="Overview of Feature Selection Techniques" width="640" height="398" srcset="https://machinelearningmastery.com/wp-content/uploads/2019/11/Overview-of-Feature-Selection-Techniques3.png 640w, https://machinelearningmastery.com/wp-content/uploads/2019/11/Overview-of-Feature-Selection-Techniques3-300x187.png 300w" sizes="(max-width: 640px) 100vw, 640px">