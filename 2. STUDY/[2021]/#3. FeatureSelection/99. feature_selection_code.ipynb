{
 "cells": [
  {
   "cell_type": "markdown",
   "metadata": {
    "collapsed": true,
    "pycharm": {
     "name": "#%% md\n"
    }
   },
   "source": [
    "##### 1. Wrapper Method\r\n",
    "> Greedy Search Algorithms 기반으로 특정 Machine Learning 알고리즘에 대해 최상의 결과를 얻을 수 있는 조합을 찾는 방법이다.  \r\n",
    "> 가능한 모든 방법을 테스트하기 때문에, 학습 데이터가 매우클 경우 Calculating Cost 가 매우 큰 단점이있다.\r\n",
    "\r\n",
    "Wrapper Method Feature Selection 크게 세가지 방법으로 구분하여 Step Forward, Step BackWard, Exhaustive 구분할 수 있다.\r\n",
    "데이터 사이언스를 위한 기능 모음 패키지인 mlxtend를 사용하여 Wrapper Method 구현해보고자 한다.\r\n",
    "\r\n",
    "Kaggle에서 제공하는 [BNP Paribas Cardif Claims Management](https://www.kaggle.com/c/bnp-paribas-cardif-claims-management/data)데이터를 활용하여,\r\n",
    "Wrapper Methods Feature selection 을 수행해보자.\r\n",
    "\r\n",
    "###### *Description*\r\n",
    "BNP Paribas Cardif 청구관리 데이터 셋으로 고객의 클레임에 신속한 대처를 할 수 있게 클레임 여부를 판단하는 모형을 만들어내는 것이 목표이다."
   ]
  },
  {
   "cell_type": "code",
   "execution_count": 2,
   "metadata": {
    "collapsed": false,
    "pycharm": {
     "name": "#%%\n"
    }
   },
   "outputs": [
    {
     "name": "stdout",
     "output_type": "stream",
     "text": [
      "----Raw Data Shape----\n",
      "(200, 133)\n",
      "----Numerical Data Shape----\n",
      "(200, 114)\n",
      "{'v81', 'v64', 'v123', 'v55', 'v65', 'v73', 'v121', 'v93', 'v76', 'v92', 'v115', 'v89', 'v48', 'v59', 'v84', 'v87', 'v126', 'v46', 'v118', 'v122', 'v106', 'v32', 'v109', 'v98', 'v128', 'v60', 'v67', 'v86', 'v103', 'v105', 'v117', 'v96', 'v12', 'v28', 'v100', 'v21', 'v54', 'v83', 'v124', 'v130', 'v43', 'v111', 'v40', 'v37', 'v68', 'v116', 'v53', 'v41', 'v49', 'v114', 'v25', 'v63', 'v61', 'v95', 'v77', 'v108', 'v104'}\n",
      "57\n",
      "Train Shape : (160, 55), Test Shape : (40, 55)\n"
     ]
    }
   ],
   "source": [
    "# Feature Selection에 들어가기 앞서 Data Preprocessing을 수행\n",
    "# 0. Data Preprocessing\n",
    "\n",
    "import pandas\n",
    "import numpy\n",
    "from sklearn.model_selection import train_test_split\n",
    "\n",
    "paribas_data = pandas.read_csv(\"../../../data/3.FeatureSelection/01.Wrapper/train.csv\", nrows = 200)\n",
    "print(\"----Raw Data Shape----\")\n",
    "print(paribas_data.shape)\n",
    "# Numeric Columns 추출\n",
    "num_columns = ['int16','int32', 'int64', 'float16', 'float32','float64']\n",
    "numerical_columns = list(paribas_data.select_dtypes(include=num_columns).columns)\n",
    "# 114개 연속형 변수만 추출\n",
    "paribas_data = paribas_data[numerical_columns]\n",
    "print(\"----Numerical Data Shape----\")\n",
    "print(paribas_data.shape)\n",
    "\n",
    "# Split Train, Test Data Set\n",
    "train_x, test_x, train_y, test_y = train_test_split(paribas_data.drop(labels=[\"ID\",\"target\"], axis=1),\n",
    "                                                    paribas_data[\"target\"],\n",
    "                                                    test_size=0.2,\n",
    "                                                    random_state=42)\n",
    "\n",
    "# Correlation > |0.8| 인 컬럼 제거(Filter Method 사용)\n",
    "correlated_features = set()\n",
    "correlation_matrix = paribas_data.corr()\n",
    "\n",
    "for idx, colname in enumerate(correlation_matrix):\n",
    "    #print(\"-------\")\n",
    "    #print(\"{0} : {1}\".format(idx, colname))\n",
    "    for j in range(idx):\n",
    "        #print(j)\n",
    "        if abs(correlation_matrix.iloc[idx, j]) > 0.8:\n",
    "            correlated_features.add(colname)\n",
    "\n",
    "print(correlated_features)\n",
    "print(len(correlated_features))\n",
    "\n",
    "train_x.drop(labels=correlated_features, axis=1, inplace=True)\n",
    "test_x.drop(labels=correlated_features, axis=1, inplace=True)\n",
    "\n",
    "print(\"Train Shape : {0}, Test Shape : {1}\".format(train_x.shape, test_x.shape))"
   ]
  },
  {
   "cell_type": "code",
   "execution_count": 2,
   "metadata": {
    "collapsed": false,
    "pycharm": {
     "name": "#%%\n"
    }
   },
   "outputs": [
    {
     "name": "stderr",
     "output_type": "stream",
     "text": [
      "[Parallel(n_jobs=1)]: Using backend SequentialBackend with 1 concurrent workers.\n",
      "[Parallel(n_jobs=1)]: Done   1 out of   1 | elapsed:    8.6s remaining:    0.0s\n",
      "[Parallel(n_jobs=1)]: Done  57 out of  57 | elapsed:  2.7min finished\n",
      "\n",
      "[2021-07-06 13:21:00] Features: 1/5 -- score: 0.6266769729350319[Parallel(n_jobs=1)]: Using backend SequentialBackend with 1 concurrent workers.\n",
      "[Parallel(n_jobs=1)]: Done   1 out of   1 | elapsed:    1.8s remaining:    0.0s\n",
      "[Parallel(n_jobs=1)]: Done  56 out of  56 | elapsed:  1.6min finished\n",
      "\n",
      "[2021-07-06 13:22:36] Features: 2/5 -- score: 0.6471830158899302[Parallel(n_jobs=1)]: Using backend SequentialBackend with 1 concurrent workers.\n",
      "[Parallel(n_jobs=1)]: Done   1 out of   1 | elapsed:    2.0s remaining:    0.0s\n",
      "[Parallel(n_jobs=1)]: Done  55 out of  55 | elapsed:  2.0min finished\n",
      "\n",
      "[2021-07-06 13:24:38] Features: 3/5 -- score: 0.6769255999998907[Parallel(n_jobs=1)]: Using backend SequentialBackend with 1 concurrent workers.\n",
      "[Parallel(n_jobs=1)]: Done   1 out of   1 | elapsed:    3.2s remaining:    0.0s\n",
      "[Parallel(n_jobs=1)]: Done  54 out of  54 | elapsed:  2.9min finished\n",
      "\n",
      "[2021-07-06 13:27:31] Features: 4/5 -- score: 0.6576173189055996[Parallel(n_jobs=1)]: Using backend SequentialBackend with 1 concurrent workers.\n",
      "[Parallel(n_jobs=1)]: Done   1 out of   1 | elapsed:    2.9s remaining:    0.0s\n"
     ]
    },
    {
     "name": "stdout",
     "output_type": "stream",
     "text": [
      "Index(['v10', 'v23', 'v38', 'v50', 'v129'], dtype='object')\n"
     ]
    },
    {
     "name": "stderr",
     "output_type": "stream",
     "text": [
      "[Parallel(n_jobs=1)]: Done  53 out of  53 | elapsed:  2.6min finished\n",
      "\n",
      "[2021-07-06 13:30:10] Features: 5/5 -- score: 0.6672852887557451"
     ]
    }
   ],
   "source": [
    "from sklearn.ensemble import RandomForestClassifier\n",
    "from sklearn.metrics import roc_auc_score\n",
    "# mlxtend\n",
    "# A Python Library with Intersting Tools for Data Science\n",
    "from mlxtend.feature_selection import SequentialFeatureSelector\n",
    "#1. Step Forward Feature Selection(SFS)\n",
    "# SequentialFeatureSelector를 사용한 Feature Selection\n",
    "# 적합시킬 모델은 RandomForest Classifier에\n",
    "# k_feature : 선택할 변수의 갯수(int)\n",
    "# forward : step forward selection(True/false)\n",
    "# verbose : logging level parameter(int)\n",
    "# scoring : performance evaluation criteria and finally(string)\n",
    "# cv : cross validation folds(int)\n",
    "feature_selector = SequentialFeatureSelector(RandomForestClassifier(n_estimators=10, n_jobs=-1),\n",
    "                                            k_features=5,\n",
    "                                            forward=True,\n",
    "                                            verbose=2,\n",
    "                                            scoring='roc_auc',\n",
    "                                            cv=4)\n",
    "\n",
    "# Step Forward Feature Selection\n",
    "features = feature_selector.fit(numpy.array(train_x.fillna(0)), train_y)\n",
    "\n",
    "# Selected Feature\n",
    "filtered_features = train_x.columns[list(features.k_feature_idx_)]\n",
    "print(filtered_features)"
   ]
  },
  {
   "cell_type": "code",
   "execution_count": 4,
   "metadata": {
    "collapsed": false,
    "pycharm": {
     "name": "#%%\n"
    }
   },
   "outputs": [
    {
     "name": "stdout",
     "output_type": "stream",
     "text": [
      "Accuracy Train Set : 0.7015030227203434\n",
      "Accuracy Train Set : 0.7045711191866473\n",
      "Accuracy Train Set : 0.7015030227203434\n",
      "Accuracy Train Set : 0.7045711191866473\n"
     ]
    }
   ],
   "source": [
    "# modeling with filtered features\n",
    "\n",
    "clf = RandomForestClassifier(n_estimators=100, random_state=41, max_depth=3)\n",
    "clf.fit(train_x[filtered_features].fillna(0), train_y)\n",
    "train_pred = clf.predict_proba(train_x[filtered_features].fillna(0))\n",
    "print('Accuracy Train Set : {}'.format(roc_auc_score(train_y, train_pred[:,1])))\n",
    "\n",
    "test_pred = clf.predict_proba(test_x[filtered_features].fillna(0))\n",
    "print('Accuracy Train Set : {}'.format(roc_auc_score(test_y, test_pred[:,1])))"
   ]
  },
  {
   "cell_type": "code",
   "execution_count": 5,
   "metadata": {
    "collapsed": false,
    "pycharm": {
     "name": "#%%\n"
    }
   },
   "outputs": [
    {
     "name": "stdout",
     "output_type": "stream",
     "text": [
      "           feature_idx                                          cv_scores  \\\n",
      "1                 (8,)  [0.6226707395177802, 0.6315323139255412, 0.624...   \n",
      "2              (8, 31)  [0.6495408564438854, 0.6452232378892845, 0.645...   \n",
      "3          (8, 18, 31)  [0.6741671824108526, 0.6713043090777824, 0.683...   \n",
      "4      (8, 18, 31, 55)  [0.6521134445123267, 0.6588058532070914, 0.662...   \n",
      "5  (8, 18, 27, 31, 55)  [0.6671076804116082, 0.6687994086533074, 0.669...   \n",
      "\n",
      "  avg_score        feature_names  ci_bound   std_dev   std_err  \n",
      "1  0.626677                 (8,)  0.005467   0.00341  0.001969  \n",
      "2  0.647183              (8, 31)   0.00311   0.00194   0.00112  \n",
      "3  0.676926          (8, 18, 31)  0.007262   0.00453  0.002615  \n",
      "4  0.657617      (8, 18, 31, 55)  0.006041  0.003769  0.002176  \n",
      "5  0.667285  (8, 18, 27, 31, 55)  0.003139  0.001958  0.001131  \n"
     ]
    }
   ],
   "source": [
    "result = pandas.DataFrame.from_dict(features.get_metric_dict()).T\n",
    "print(result)\n",
    "result.to_csv(\"SFS_result.csv\",index=False)"
   ]
  },
  {
   "cell_type": "code",
   "execution_count": 7,
   "metadata": {
    "collapsed": false,
    "pycharm": {
     "name": "#%%\n"
    }
   },
   "outputs": [
    {
     "name": "stderr",
     "output_type": "stream",
     "text": [
      "[Parallel(n_jobs=1)]: Done  57 out of  57 | elapsed:  2.6min finished\n",
      "\n",
      "[2021-07-06 13:38:26] Features: 1/15 -- score: 0.6271481626317197[Parallel(n_jobs=1)]: Using backend SequentialBackend with 1 concurrent workers.\n",
      "[Parallel(n_jobs=1)]: Done   1 out of   1 | elapsed:    1.8s remaining:    0.0s\n",
      "[Parallel(n_jobs=1)]: Done  56 out of  56 | elapsed:  1.7min finished\n",
      "\n",
      "[2021-07-06 13:40:10] Features: 2/15 -- score: 0.6492631534510429[Parallel(n_jobs=1)]: Using backend SequentialBackend with 1 concurrent workers.\n",
      "[Parallel(n_jobs=1)]: Done   1 out of   1 | elapsed:    2.0s remaining:    0.0s\n",
      "[Parallel(n_jobs=1)]: Done  55 out of  55 | elapsed:  2.1min finished\n",
      "\n",
      "[2021-07-06 13:42:14] Features: 3/15 -- score: 0.6758021846655323[Parallel(n_jobs=1)]: Using backend SequentialBackend with 1 concurrent workers.\n",
      "[Parallel(n_jobs=1)]: Done   1 out of   1 | elapsed:    3.4s remaining:    0.0s\n",
      "[Parallel(n_jobs=1)]: Done  54 out of  54 | elapsed:  3.0min finished\n",
      "\n",
      "[2021-07-06 13:45:13] Features: 4/15 -- score: 0.6615308187081644[Parallel(n_jobs=1)]: Using backend SequentialBackend with 1 concurrent workers.\n",
      "[Parallel(n_jobs=1)]: Done   1 out of   1 | elapsed:    3.0s remaining:    0.0s\n",
      "[Parallel(n_jobs=1)]: Done  53 out of  53 | elapsed:  2.7min finished\n",
      "\n",
      "[2021-07-06 13:47:53] Features: 5/15 -- score: 0.6700853610671668[Parallel(n_jobs=1)]: Using backend SequentialBackend with 1 concurrent workers.\n",
      "[Parallel(n_jobs=1)]: Done   1 out of   1 | elapsed:    2.9s remaining:    0.0s\n",
      "[Parallel(n_jobs=1)]: Done  52 out of  52 | elapsed:  2.5min finished\n",
      "\n",
      "[2021-07-06 13:50:25] Features: 6/15 -- score: 0.6700897576643503[Parallel(n_jobs=1)]: Using backend SequentialBackend with 1 concurrent workers.\n",
      "[Parallel(n_jobs=1)]: Done   1 out of   1 | elapsed:    3.1s remaining:    0.0s\n",
      "[Parallel(n_jobs=1)]: Done  51 out of  51 | elapsed:  2.6min finished\n",
      "\n",
      "[2021-07-06 13:53:03] Features: 7/15 -- score: 0.6680104137497388[Parallel(n_jobs=1)]: Using backend SequentialBackend with 1 concurrent workers.\n",
      "[Parallel(n_jobs=1)]: Done   1 out of   1 | elapsed:    3.0s remaining:    0.0s\n",
      "[Parallel(n_jobs=1)]: Done  50 out of  50 | elapsed:  2.8min finished\n",
      "\n",
      "[2021-07-06 13:55:48] Features: 8/15 -- score: 0.6675166082806586[Parallel(n_jobs=1)]: Using backend SequentialBackend with 1 concurrent workers.\n",
      "[Parallel(n_jobs=1)]: Done   1 out of   1 | elapsed:    3.6s remaining:    0.0s\n",
      "[Parallel(n_jobs=1)]: Done  49 out of  49 | elapsed:  3.3min finished\n",
      "\n",
      "[2021-07-06 13:59:06] Features: 9/15 -- score: 0.661808247285224[Parallel(n_jobs=1)]: Using backend SequentialBackend with 1 concurrent workers.\n",
      "[Parallel(n_jobs=1)]: Done   1 out of   1 | elapsed:    3.8s remaining:    0.0s\n",
      "[Parallel(n_jobs=1)]: Done  48 out of  48 | elapsed:  3.2min finished\n",
      "\n",
      "[2021-07-06 14:02:17] Features: 10/15 -- score: 0.6619624288919663[Parallel(n_jobs=1)]: Using backend SequentialBackend with 1 concurrent workers.\n",
      "[Parallel(n_jobs=1)]: Done   1 out of   1 | elapsed:    3.9s remaining:    0.0s\n",
      "[Parallel(n_jobs=1)]: Done  47 out of  47 | elapsed:  2.9min finished\n",
      "\n",
      "[2021-07-06 14:05:09] Features: 11/15 -- score: 0.6634100417545936[Parallel(n_jobs=1)]: Using backend SequentialBackend with 1 concurrent workers.\n",
      "[Parallel(n_jobs=1)]: Done   1 out of   1 | elapsed:    3.5s remaining:    0.0s\n",
      "[Parallel(n_jobs=1)]: Done  46 out of  46 | elapsed:  2.8min finished\n",
      "\n",
      "[2021-07-06 14:07:59] Features: 12/15 -- score: 0.6635733166128814[Parallel(n_jobs=1)]: Using backend SequentialBackend with 1 concurrent workers.\n",
      "[Parallel(n_jobs=1)]: Done   1 out of   1 | elapsed:    3.6s remaining:    0.0s\n",
      "[Parallel(n_jobs=1)]: Done  45 out of  45 | elapsed:  2.8min finished\n",
      "\n",
      "[2021-07-06 14:10:45] Features: 13/15 -- score: 0.6653630992079564[Parallel(n_jobs=1)]: Using backend SequentialBackend with 1 concurrent workers.\n",
      "[Parallel(n_jobs=1)]: Done   1 out of   1 | elapsed:    3.6s remaining:    0.0s\n",
      "[Parallel(n_jobs=1)]: Done  44 out of  44 | elapsed:  3.1min finished\n",
      "\n",
      "[2021-07-06 14:13:53] Features: 14/15 -- score: 0.6639563221910745[Parallel(n_jobs=1)]: Using backend SequentialBackend with 1 concurrent workers.\n",
      "[Parallel(n_jobs=1)]: Done   1 out of   1 | elapsed:    4.6s remaining:    0.0s\n",
      "[Parallel(n_jobs=1)]: Done  43 out of  43 | elapsed:  3.2min finished\n",
      "\n",
      "[2021-07-06 14:17:04] Features: 15/15 -- score: 0.6642616524798848"
     ]
    },
    {
     "name": "stdout",
     "output_type": "stream",
     "text": [
      "                                          feature_idx  \\\n",
      "1                                                (8,)   \n",
      "2                                             (8, 31)   \n",
      "3                                         (8, 18, 31)   \n",
      "4                                     (8, 18, 31, 55)   \n",
      "5                                 (8, 18, 27, 31, 55)   \n",
      "6                             (8, 18, 24, 27, 31, 55)   \n",
      "7                         (8, 18, 24, 27, 31, 47, 55)   \n",
      "8                     (8, 18, 24, 27, 31, 40, 47, 55)   \n",
      "9                  (8, 9, 18, 24, 27, 31, 40, 47, 55)   \n",
      "10             (8, 9, 18, 22, 24, 27, 31, 40, 47, 55)   \n",
      "11         (8, 9, 18, 22, 24, 27, 31, 40, 47, 52, 55)   \n",
      "12     (8, 9, 18, 22, 24, 27, 31, 40, 47, 50, 52, 55)   \n",
      "13  (8, 9, 18, 22, 24, 27, 31, 40, 47, 48, 50, 52,...   \n",
      "14  (8, 9, 18, 22, 24, 27, 31, 40, 46, 47, 48, 50,...   \n",
      "15  (8, 9, 18, 22, 24, 27, 31, 40, 46, 47, 48, 50,...   \n",
      "\n",
      "                                            cv_scores avg_score  \\\n",
      "1   [0.6221089830923745, 0.6335824516345774, 0.625...  0.627148   \n",
      "2   [0.64824233613502, 0.6486722518203789, 0.65473...  0.649263   \n",
      "3   [0.671396444011294, 0.6754759381813045, 0.6730...  0.675802   \n",
      "4   [0.6601120211835554, 0.6645770282811063, 0.661...  0.661531   \n",
      "5   [0.6685331551584575, 0.6712326240284687, 0.674...  0.670085   \n",
      "6   [0.6635883647438401, 0.6730727559436869, 0.676...   0.67009   \n",
      "7   [0.6625211627109868, 0.6658381623304865, 0.672...   0.66801   \n",
      "8   [0.6631431852817471, 0.6654974150830919, 0.675...  0.667517   \n",
      "9   [0.6629800806240892, 0.6598919219412351, 0.663...  0.661808   \n",
      "10  [0.6613021697295575, 0.6609755817126827, 0.667...  0.661962   \n",
      "11  [0.6641656111149665, 0.6560352568206176, 0.669...   0.66341   \n",
      "12  [0.6593501262438466, 0.6640871094375869, 0.666...  0.663573   \n",
      "13  [0.6653736375304101, 0.6646217887015085, 0.667...  0.665363   \n",
      "14  [0.6638270256223058, 0.6648822301793731, 0.662...  0.663956   \n",
      "15  [0.6624917081452699, 0.6677160907652122, 0.667...  0.664262   \n",
      "\n",
      "                                        feature_names  ci_bound   std_dev  \\\n",
      "1                                              (v10,)  0.006694  0.004176   \n",
      "2                                          (v10, v50)  0.005454  0.003402   \n",
      "3                                     (v10, v23, v50)  0.007267  0.004534   \n",
      "4                               (v10, v23, v50, v129)  0.003162  0.001973   \n",
      "5                          (v10, v23, v38, v50, v129)  0.005209   0.00325   \n",
      "6                     (v10, v23, v34, v38, v50, v129)  0.008309  0.005183   \n",
      "7                (v10, v23, v34, v38, v50, v94, v129)  0.006434  0.004014   \n",
      "8           (v10, v23, v34, v38, v50, v72, v94, v129)  0.007521  0.004692   \n",
      "9      (v10, v11, v23, v34, v38, v50, v72, v94, v129)  0.002159  0.001347   \n",
      "10  (v10, v11, v23, v29, v34, v38, v50, v72, v94, ...  0.005945  0.003709   \n",
      "11  (v10, v11, v23, v29, v34, v38, v50, v72, v94, ...  0.007562  0.004717   \n",
      "12  (v10, v11, v23, v29, v34, v38, v50, v72, v94, ...  0.004157  0.002593   \n",
      "13  (v10, v11, v23, v29, v34, v38, v50, v72, v94, ...  0.002495  0.001556   \n",
      "14  (v10, v11, v23, v29, v34, v38, v50, v72, v92, ...   0.00188  0.001173   \n",
      "15  (v10, v11, v23, v29, v34, v38, v50, v72, v92, ...  0.005496  0.003429   \n",
      "\n",
      "     std_err  \n",
      "1   0.002411  \n",
      "2   0.001964  \n",
      "3   0.002617  \n",
      "4   0.001139  \n",
      "5   0.001876  \n",
      "6   0.002993  \n",
      "7   0.002317  \n",
      "8   0.002709  \n",
      "9   0.000778  \n",
      "10  0.002141  \n",
      "11  0.002723  \n",
      "12  0.001497  \n",
      "13  0.000898  \n",
      "14  0.000677  \n",
      "15   0.00198  \n"
     ]
    },
    {
     "data": {
      "image/png": "[encoded data removed]",
      "text/plain": [
       "<Figure size 432x288 with 1 Axes>"
      ]
     },
     "metadata": {
      "needs_background": "light"
     },
     "output_type": "display_data"
    },
    {
     "name": "stderr",
     "output_type": "stream",
     "text": [
      "[Parallel(n_jobs=1)]: Using backend SequentialBackend with 1 concurrent workers.\n",
      "[Parallel(n_jobs=1)]: Done   1 out of   1 | elapsed:    3.2s remaining:    0.0s\n",
      "[Parallel(n_jobs=1)]: Done  57 out of  57 | elapsed:  2.6min finished\n",
      "\n",
      "[2021-07-06 14:19:42] Features: 1/15 -- score: 0.6275997305814526[Parallel(n_jobs=1)]: Using backend SequentialBackend with 1 concurrent workers.\n",
      "[Parallel(n_jobs=1)]: Done   1 out of   1 | elapsed:    1.9s remaining:    0.0s\n",
      "[Parallel(n_jobs=1)]: Done  56 out of  56 | elapsed:  1.8min finished\n",
      "\n",
      "[2021-07-06 14:21:29] Features: 2/15 -- score: 0.6491950285494446[Parallel(n_jobs=1)]: Using backend SequentialBackend with 1 concurrent workers.\n",
      "[Parallel(n_jobs=1)]: Done   1 out of   1 | elapsed:    2.3s remaining:    0.0s\n",
      "[Parallel(n_jobs=1)]: Done  55 out of  55 | elapsed:  2.1min finished\n",
      "\n",
      "[2021-07-06 14:23:35] Features: 3/15 -- score: 0.6755691199981676[Parallel(n_jobs=1)]: Using backend SequentialBackend with 1 concurrent workers.\n",
      "[Parallel(n_jobs=1)]: Done   1 out of   1 | elapsed:    3.4s remaining:    0.0s\n",
      "[Parallel(n_jobs=1)]: Done  54 out of  54 | elapsed:  3.1min finished\n",
      "\n",
      "[2021-07-06 14:26:39] Features: 4/15 -- score: 0.6555053191526505[Parallel(n_jobs=1)]: Using backend SequentialBackend with 1 concurrent workers.\n",
      "[Parallel(n_jobs=1)]: Done   1 out of   1 | elapsed:    3.1s remaining:    0.0s\n",
      "[Parallel(n_jobs=1)]: Done  53 out of  53 | elapsed:  2.8min finished\n",
      "\n",
      "[2021-07-06 14:29:30] Features: 5/15 -- score: 0.6691692721206546[Parallel(n_jobs=1)]: Using backend SequentialBackend with 1 concurrent workers.\n",
      "[Parallel(n_jobs=1)]: Done   1 out of   1 | elapsed:    3.0s remaining:    0.0s\n",
      "[Parallel(n_jobs=1)]: Done  52 out of  52 | elapsed:  2.7min finished\n",
      "\n",
      "[2021-07-06 14:32:09] Features: 6/15 -- score: 0.6674535363548579[Parallel(n_jobs=1)]: Using backend SequentialBackend with 1 concurrent workers.\n",
      "[Parallel(n_jobs=1)]: Done   1 out of   1 | elapsed:    3.2s remaining:    0.0s\n",
      "[Parallel(n_jobs=1)]: Done  51 out of  51 | elapsed:  2.7min finished\n",
      "\n",
      "[2021-07-06 14:34:52] Features: 7/15 -- score: 0.6680733185489516[Parallel(n_jobs=1)]: Using backend SequentialBackend with 1 concurrent workers.\n",
      "[Parallel(n_jobs=1)]: Done   1 out of   1 | elapsed:    2.9s remaining:    0.0s\n",
      "[Parallel(n_jobs=1)]: Done  50 out of  50 | elapsed:  2.5min finished\n",
      "\n",
      "[2021-07-06 14:37:24] Features: 8/15 -- score: 0.6689644155398942[Parallel(n_jobs=1)]: Using backend SequentialBackend with 1 concurrent workers.\n",
      "[Parallel(n_jobs=1)]: Done   1 out of   1 | elapsed:    3.4s remaining:    0.0s\n",
      "[Parallel(n_jobs=1)]: Done  49 out of  49 | elapsed:  2.8min finished\n",
      "\n",
      "[2021-07-06 14:40:10] Features: 9/15 -- score: 0.6619098115270952[Parallel(n_jobs=1)]: Using backend SequentialBackend with 1 concurrent workers.\n",
      "[Parallel(n_jobs=1)]: Done   1 out of   1 | elapsed:    3.5s remaining:    0.0s\n",
      "[Parallel(n_jobs=1)]: Done  48 out of  48 | elapsed:  2.8min finished\n",
      "\n",
      "[2021-07-06 14:42:58] Features: 10/15 -- score: 0.6622454012911477[Parallel(n_jobs=1)]: Using backend SequentialBackend with 1 concurrent workers.\n",
      "[Parallel(n_jobs=1)]: Done   1 out of   1 | elapsed:    3.5s remaining:    0.0s\n",
      "[Parallel(n_jobs=1)]: Done  47 out of  47 | elapsed:  2.9min finished\n",
      "\n",
      "[2021-07-06 14:45:50] Features: 11/15 -- score: 0.663029705919205[Parallel(n_jobs=1)]: Using backend SequentialBackend with 1 concurrent workers.\n",
      "[Parallel(n_jobs=1)]: Done   1 out of   1 | elapsed:    3.6s remaining:    0.0s\n",
      "[Parallel(n_jobs=1)]: Done  46 out of  46 | elapsed:  2.8min finished\n",
      "\n",
      "[2021-07-06 14:48:37] Features: 12/15 -- score: 0.6646879555581557[Parallel(n_jobs=1)]: Using backend SequentialBackend with 1 concurrent workers.\n",
      "[Parallel(n_jobs=1)]: Done   1 out of   1 | elapsed:    3.5s remaining:    0.0s\n",
      "[Parallel(n_jobs=1)]: Done  45 out of  45 | elapsed:  2.7min finished\n",
      "\n",
      "[2021-07-06 14:51:22] Features: 13/15 -- score: 0.6648437723746914[Parallel(n_jobs=1)]: Using backend SequentialBackend with 1 concurrent workers.\n",
      "[Parallel(n_jobs=1)]: Done   1 out of   1 | elapsed:    3.7s remaining:    0.0s\n",
      "[Parallel(n_jobs=1)]: Done  44 out of  44 | elapsed:  2.7min finished\n",
      "\n",
      "[2021-07-06 14:54:07] Features: 14/15 -- score: 0.6645773246395431[Parallel(n_jobs=1)]: Using backend SequentialBackend with 1 concurrent workers.\n",
      "[Parallel(n_jobs=1)]: Done   1 out of   1 | elapsed:    3.7s remaining:    0.0s\n",
      "[Parallel(n_jobs=1)]: Done  43 out of  43 | elapsed:  2.9min finished\n",
      "\n",
      "[2021-07-06 14:57:00] Features: 15/15 -- score: 0.6652683081296757"
     ]
    },
    {
     "name": "stdout",
     "output_type": "stream",
     "text": [
      "                                          feature_idx  \\\n",
      "1                                                (8,)   \n",
      "2                                             (8, 31)   \n",
      "3                                         (8, 18, 31)   \n",
      "4                                     (8, 18, 27, 31)   \n",
      "5                                 (8, 18, 27, 31, 55)   \n",
      "6                             (8, 18, 24, 27, 31, 55)   \n",
      "7                         (8, 18, 24, 27, 31, 40, 55)   \n",
      "8                     (8, 18, 24, 27, 31, 37, 40, 55)   \n",
      "9                 (8, 18, 24, 27, 28, 31, 37, 40, 55)   \n",
      "10            (8, 16, 18, 24, 27, 28, 31, 37, 40, 55)   \n",
      "11        (8, 13, 16, 18, 24, 27, 28, 31, 37, 40, 55)   \n",
      "12    (8, 12, 13, 16, 18, 24, 27, 28, 31, 37, 40, 55)   \n",
      "13  (8, 12, 13, 16, 18, 24, 27, 28, 31, 37, 40, 46...   \n",
      "14  (8, 12, 13, 15, 16, 18, 24, 27, 28, 31, 37, 40...   \n",
      "15  (7, 8, 12, 13, 15, 16, 18, 24, 27, 28, 31, 37,...   \n",
      "\n",
      "                                            cv_scores avg_score  \\\n",
      "1   [0.6224179457075141, 0.6343117466817302, 0.625...    0.6276   \n",
      "2   [0.6492934959490452, 0.65000588091963, 0.65029...  0.649195   \n",
      "3   [0.6712146041459427, 0.6774849078750074, 0.678...  0.675569   \n",
      "4   [0.6520209203577683, 0.6519911554671624, 0.663...  0.655505   \n",
      "5   [0.6637175966509232, 0.6697262544207753, 0.673...  0.669169   \n",
      "6   [0.6654186819769816, 0.6646816393270967, 0.672...  0.667454   \n",
      "7   [0.6669776069455043, 0.6663881316698614, 0.676...  0.668073   \n",
      "8   [0.6690659777327901, 0.6662242643493413, 0.673...  0.668964   \n",
      "9   [0.6613811290046545, 0.6629248690926015, 0.663...   0.66191   \n",
      "10  [0.6641379974596069, 0.66413535706818, 0.66247...  0.662245   \n",
      "11  [0.6607037476295782, 0.6631830331013671, 0.666...   0.66303   \n",
      "12  [0.6607237504355463, 0.6651911507165618, 0.665...  0.664688   \n",
      "13  [0.668590060327474, 0.6631897971319942, 0.6633...  0.664844   \n",
      "14  [0.6623870865797918, 0.662460049746868, 0.6666...  0.664577   \n",
      "15  [0.6653758887007899, 0.6678728784704724, 0.662...  0.665268   \n",
      "\n",
      "                                        feature_names  ci_bound   std_dev  \\\n",
      "1                                              (v10,)    0.0071  0.004429   \n",
      "2                                          (v10, v50)  0.001954  0.001219   \n",
      "3                                     (v10, v23, v50)   0.00458  0.002857   \n",
      "4                                (v10, v23, v38, v50)  0.007537  0.004702   \n",
      "5                          (v10, v23, v38, v50, v129)  0.005597  0.003491   \n",
      "6                     (v10, v23, v34, v38, v50, v129)  0.004577  0.002855   \n",
      "7                (v10, v23, v34, v38, v50, v72, v129)   0.00834  0.005202   \n",
      "8           (v10, v23, v34, v38, v50, v62, v72, v129)  0.004558  0.002843   \n",
      "9      (v10, v23, v34, v38, v39, v50, v62, v72, v129)  0.002176  0.001357   \n",
      "10  (v10, v19, v23, v34, v38, v39, v50, v62, v72, ...  0.003868  0.002413   \n",
      "11  (v10, v16, v19, v23, v34, v38, v39, v50, v62, ...  0.003805  0.002373   \n",
      "12  (v10, v15, v16, v19, v23, v34, v38, v39, v50, ...  0.003904  0.002436   \n",
      "13  (v10, v15, v16, v19, v23, v34, v38, v39, v50, ...  0.003532  0.002203   \n",
      "14  (v10, v15, v16, v18, v19, v23, v34, v38, v39, ...  0.003454  0.002155   \n",
      "15  (v9, v10, v15, v16, v18, v19, v23, v34, v38, v...  0.002797  0.001745   \n",
      "\n",
      "     std_err  \n",
      "1   0.002557  \n",
      "2   0.000704  \n",
      "3   0.001649  \n",
      "4   0.002715  \n",
      "5   0.002016  \n",
      "6   0.001648  \n",
      "7   0.003004  \n",
      "8   0.001642  \n",
      "9   0.000784  \n",
      "10  0.001393  \n",
      "11   0.00137  \n",
      "12  0.001406  \n",
      "13  0.001272  \n",
      "14  0.001244  \n",
      "15  0.001008  \n"
     ]
    },
    {
     "data": {
      "image/png": "[encoded data removed]",
      "text/plain": [
       "<Figure size 432x288 with 1 Axes>"
      ]
     },
     "metadata": {
      "needs_background": "light"
     },
     "output_type": "display_data"
    }
   ],
   "source": [
    "# k_features 증가\n",
    "feature_selector = SequentialFeatureSelector(RandomForestClassifier(n_estimators=10, n_jobs=-1),\n",
    "                                            k_features=15,\n",
    "                                            forward=True,\n",
    "                                            verbose=2,\n",
    "                                            scoring='roc_auc',\n",
    "                                            cv=4)\n",
    "features = feature_selector.fit(numpy.array(train_x.fillna(0)), train_y, custom_feature_names= train_x.columns)\n",
    "\n",
    "result = pandas.DataFrame.from_dict(features.get_metric_dict()).T\n",
    "#print(result)\n",
    "result.to_csv(\"SFS_total_result.csv\",index=False)\n",
    "from mlxtend.plotting import plot_sequential_feature_selection as plot_sfs\n",
    "import matplotlib.pyplot as plt\n",
    "fig = plot_sfs(features.get_metric_dict(), kind = 'std_err')\n",
    "plt.title(\"paribas Sequential Forward Selection(w. StdErr)\")\n",
    "plt.grid()\n",
    "plt.show()"
   ]
  },
  {
   "cell_type": "code",
   "execution_count": null,
   "metadata": {
    "collapsed": false,
    "pycharm": {
     "is_executing": true,
     "name": "#%%\n"
    }
   },
   "outputs": [
    {
     "name": "stderr",
     "output_type": "stream",
     "text": [
      "[Parallel(n_jobs=1)]: Using backend SequentialBackend with 1 concurrent workers.\n",
      "[Parallel(n_jobs=1)]: Done   1 out of   1 | elapsed:    7.2s remaining:    0.0s\n",
      "[Parallel(n_jobs=1)]: Done  57 out of  57 | elapsed:  6.9min finished\n",
      "\n",
      "[2021-07-06 15:04:04] Features: 56/15 -- score: 0.6601849559501741[Parallel(n_jobs=1)]: Using backend SequentialBackend with 1 concurrent workers.\n",
      "[Parallel(n_jobs=1)]: Done   1 out of   1 | elapsed:    7.2s remaining:    0.0s\n",
      "[Parallel(n_jobs=1)]: Done  56 out of  56 | elapsed:  6.8min finished\n",
      "\n",
      "[2021-07-06 15:10:50] Features: 55/15 -- score: 0.6588519349825982[Parallel(n_jobs=1)]: Using backend SequentialBackend with 1 concurrent workers.\n",
      "[Parallel(n_jobs=1)]: Done   1 out of   1 | elapsed:    6.9s remaining:    0.0s\n",
      "[Parallel(n_jobs=1)]: Done  55 out of  55 | elapsed:  6.8min finished\n",
      "\n",
      "[2021-07-06 15:17:37] Features: 54/15 -- score: 0.6603030234946778[Parallel(n_jobs=1)]: Using backend SequentialBackend with 1 concurrent workers.\n",
      "[Parallel(n_jobs=1)]: Done   1 out of   1 | elapsed:    7.1s remaining:    0.0s\n",
      "[Parallel(n_jobs=1)]: Done  54 out of  54 | elapsed:  6.5min finished\n",
      "\n",
      "[2021-07-06 15:24:08] Features: 53/15 -- score: 0.6605282025203155[Parallel(n_jobs=1)]: Using backend SequentialBackend with 1 concurrent workers.\n",
      "[Parallel(n_jobs=1)]: Done   1 out of   1 | elapsed:    8.0s remaining:    0.0s\n",
      "[Parallel(n_jobs=1)]: Done  53 out of  53 | elapsed:  6.9min finished\n",
      "\n",
      "[2021-07-06 15:31:04] Features: 52/15 -- score: 0.660145604573842[Parallel(n_jobs=1)]: Using backend SequentialBackend with 1 concurrent workers.\n",
      "[Parallel(n_jobs=1)]: Done   1 out of   1 | elapsed:    8.0s remaining:    0.0s\n",
      "[Parallel(n_jobs=1)]: Done  52 out of  52 | elapsed:  6.6min finished\n",
      "\n",
      "[2021-07-06 15:37:39] Features: 51/15 -- score: 0.6603385732538372[Parallel(n_jobs=1)]: Using backend SequentialBackend with 1 concurrent workers.\n",
      "[Parallel(n_jobs=1)]: Done   1 out of   1 | elapsed:    6.9s remaining:    0.0s\n",
      "[Parallel(n_jobs=1)]: Done  51 out of  51 | elapsed:  6.5min finished\n",
      "\n",
      "[2021-07-06 15:44:10] Features: 50/15 -- score: 0.6621570546471156[Parallel(n_jobs=1)]: Using backend SequentialBackend with 1 concurrent workers.\n",
      "[Parallel(n_jobs=1)]: Done   1 out of   1 | elapsed:    7.5s remaining:    0.0s\n",
      "[Parallel(n_jobs=1)]: Done  50 out of  50 | elapsed:  6.4min finished\n",
      "\n",
      "[2021-07-06 15:50:32] Features: 49/15 -- score: 0.6605893596318051[Parallel(n_jobs=1)]: Using backend SequentialBackend with 1 concurrent workers.\n",
      "[Parallel(n_jobs=1)]: Done   1 out of   1 | elapsed:    7.9s remaining:    0.0s\n",
      "[Parallel(n_jobs=1)]: Done  49 out of  49 | elapsed:  5.4min finished\n",
      "\n",
      "[2021-07-06 15:55:55] Features: 48/15 -- score: 0.6599392224132791[Parallel(n_jobs=1)]: Using backend SequentialBackend with 1 concurrent workers.\n",
      "[Parallel(n_jobs=1)]: Done   1 out of   1 | elapsed:    6.2s remaining:    0.0s\n",
      "[Parallel(n_jobs=1)]: Done  48 out of  48 | elapsed:  5.3min finished\n",
      "\n",
      "[2021-07-06 16:01:15] Features: 47/15 -- score: 0.6606375969821088[Parallel(n_jobs=1)]: Using backend SequentialBackend with 1 concurrent workers.\n",
      "[Parallel(n_jobs=1)]: Done   1 out of   1 | elapsed:    7.3s remaining:    0.0s\n",
      "[Parallel(n_jobs=1)]: Done  47 out of  47 | elapsed:  5.3min finished\n",
      "\n",
      "[2021-07-06 16:06:36] Features: 46/15 -- score: 0.6604361664877695[Parallel(n_jobs=1)]: Using backend SequentialBackend with 1 concurrent workers.\n",
      "[Parallel(n_jobs=1)]: Done   1 out of   1 | elapsed:    6.7s remaining:    0.0s\n",
      "[Parallel(n_jobs=1)]: Done  46 out of  46 | elapsed:  5.2min finished\n",
      "\n",
      "[2021-07-06 16:11:51] Features: 45/15 -- score: 0.6617341281367436[Parallel(n_jobs=1)]: Using backend SequentialBackend with 1 concurrent workers.\n",
      "[Parallel(n_jobs=1)]: Done   1 out of   1 | elapsed:    6.3s remaining:    0.0s\n",
      "[Parallel(n_jobs=1)]: Done  45 out of  45 | elapsed:  5.0min finished\n",
      "\n",
      "[2021-07-06 16:16:50] Features: 44/15 -- score: 0.6609022687108598[Parallel(n_jobs=1)]: Using backend SequentialBackend with 1 concurrent workers.\n",
      "[Parallel(n_jobs=1)]: Done   1 out of   1 | elapsed:    7.0s remaining:    0.0s\n",
      "[Parallel(n_jobs=1)]: Done  44 out of  44 | elapsed:  4.5min finished\n",
      "\n",
      "[2021-07-06 16:21:21] Features: 43/15 -- score: 0.6607874931831981[Parallel(n_jobs=1)]: Using backend SequentialBackend with 1 concurrent workers.\n",
      "[Parallel(n_jobs=1)]: Done   1 out of   1 | elapsed:    5.9s remaining:    0.0s\n",
      "[Parallel(n_jobs=1)]: Done  43 out of  43 | elapsed:  4.4min finished\n",
      "\n",
      "[2021-07-06 16:25:45] Features: 42/15 -- score: 0.6619434433927555[Parallel(n_jobs=1)]: Using backend SequentialBackend with 1 concurrent workers.\n",
      "[Parallel(n_jobs=1)]: Done   1 out of   1 | elapsed:    6.1s remaining:    0.0s\n",
      "[Parallel(n_jobs=1)]: Done  42 out of  42 | elapsed:  4.8min finished\n",
      "\n",
      "[2021-07-06 16:30:32] Features: 41/15 -- score: 0.662563108287915[Parallel(n_jobs=1)]: Using backend SequentialBackend with 1 concurrent workers.\n",
      "[Parallel(n_jobs=1)]: Done   1 out of   1 | elapsed:    6.2s remaining:    0.0s\n",
      "[Parallel(n_jobs=1)]: Done  41 out of  41 | elapsed:  4.4min finished\n",
      "\n",
      "[2021-07-06 16:34:56] Features: 40/15 -- score: 0.660924206094676[Parallel(n_jobs=1)]: Using backend SequentialBackend with 1 concurrent workers.\n",
      "[Parallel(n_jobs=1)]: Done   1 out of   1 | elapsed:    6.4s remaining:    0.0s\n",
      "[Parallel(n_jobs=1)]: Done  40 out of  40 | elapsed:  4.2min finished\n",
      "\n",
      "[2021-07-06 16:39:09] Features: 39/15 -- score: 0.6618496037191417[Parallel(n_jobs=1)]: Using backend SequentialBackend with 1 concurrent workers.\n",
      "[Parallel(n_jobs=1)]: Done   1 out of   1 | elapsed:    6.1s remaining:    0.0s\n",
      "[Parallel(n_jobs=1)]: Done  39 out of  39 | elapsed:  4.1min finished\n",
      "\n",
      "[2021-07-06 16:43:13] Features: 38/15 -- score: 0.6614977680003429[Parallel(n_jobs=1)]: Using backend SequentialBackend with 1 concurrent workers.\n",
      "[Parallel(n_jobs=1)]: Done   1 out of   1 | elapsed:    6.3s remaining:    0.0s\n",
      "[Parallel(n_jobs=1)]: Done  38 out of  38 | elapsed:  4.0min finished\n",
      "\n",
      "[2021-07-06 16:47:12] Features: 37/15 -- score: 0.6642341402804994[Parallel(n_jobs=1)]: Using backend SequentialBackend with 1 concurrent workers.\n",
      "[Parallel(n_jobs=1)]: Done   1 out of   1 | elapsed:    6.0s remaining:    0.0s\n",
      "[Parallel(n_jobs=1)]: Done  37 out of  37 | elapsed:  3.8min finished\n",
      "\n",
      "[2021-07-06 16:50:59] Features: 36/15 -- score: 0.6607530024545587[Parallel(n_jobs=1)]: Using backend SequentialBackend with 1 concurrent workers.\n",
      "[Parallel(n_jobs=1)]: Done   1 out of   1 | elapsed:    5.7s remaining:    0.0s\n",
      "[Parallel(n_jobs=1)]: Done  36 out of  36 | elapsed:  3.5min finished\n",
      "\n",
      "[2021-07-06 16:54:31] Features: 35/15 -- score: 0.6620169724095393[Parallel(n_jobs=1)]: Using backend SequentialBackend with 1 concurrent workers.\n",
      "[Parallel(n_jobs=1)]: Done   1 out of   1 | elapsed:    5.9s remaining:    0.0s\n",
      "[Parallel(n_jobs=1)]: Done  35 out of  35 | elapsed:  3.5min finished\n",
      "\n",
      "[2021-07-06 16:57:58] Features: 34/15 -- score: 0.6609653108183715[Parallel(n_jobs=1)]: Using backend SequentialBackend with 1 concurrent workers.\n",
      "[Parallel(n_jobs=1)]: Done   1 out of   1 | elapsed:    6.0s remaining:    0.0s\n",
      "[Parallel(n_jobs=1)]: Done  34 out of  34 | elapsed:  3.4min finished\n",
      "\n",
      "[2021-07-06 17:01:22] Features: 33/15 -- score: 0.6622579253574921[Parallel(n_jobs=1)]: Using backend SequentialBackend with 1 concurrent workers.\n",
      "[Parallel(n_jobs=1)]: Done   1 out of   1 | elapsed:    6.0s remaining:    0.0s\n",
      "[Parallel(n_jobs=1)]: Done  33 out of  33 | elapsed:  3.2min finished\n",
      "\n",
      "[2021-07-06 17:04:35] Features: 32/15 -- score: 0.6629286623512952[Parallel(n_jobs=1)]: Using backend SequentialBackend with 1 concurrent workers.\n",
      "[Parallel(n_jobs=1)]: Done   1 out of   1 | elapsed:    6.4s remaining:    0.0s\n"
     ]
    }
   ],
   "source": [
    "# 2. Step Backward Feature Selection\n",
    "from sklearn.ensemble import RandomForestClassifier\n",
    "from sklearn.metrics import roc_auc_score\n",
    "from mlxtend.feature_selection import SequentialFeatureSelector\n",
    "\n",
    "feature_selector = SequentialFeatureSelector(RandomForestClassifier(n_estimators=10, n_jobs=-1),\n",
    "                                             k_features=15,\n",
    "                                             forward=False,\n",
    "                                             verbose=2,\n",
    "                                             scoring='roc_auc',\n",
    "                                             cv=4)\n",
    "\n",
    "features = feature_selector.fit(numpy.array(train_x.fillna(0)), train_y, custom_feature_names= train_x.columns)\n",
    "\n",
    "filtered_features = train_x.columns[list(features.k_feature_idx_)]\n",
    "\n",
    "# modeling\n",
    "clf = RandomForestClassifier(n_estimators=100, random_state=41, max_depth=3)\n",
    "clf.fit(train_x[filtered_features].fillna(0), train_y)\n",
    "\n",
    "train_pred = clf.predict_proba(train_x[filtered_features].fillna(0))\n",
    "print('Accuracy on training set: {}'.format(roc_auc_score(train_y, train_pred[:,1])))\n",
    "\n",
    "test_pred = clf.predict_proba(test_y[filtered_features].fillna(0))\n",
    "print('Accuracy on test set: {}'.format(roc_auc_score(test_y, test_pred [:,1])))"
   ]
  },
  {
   "cell_type": "code",
   "execution_count": null,
   "metadata": {
    "collapsed": false,
    "pycharm": {
     "is_executing": true,
     "name": "#%%\n"
    }
   },
   "outputs": [
    {
     "name": "stdout",
     "output_type": "stream",
     "text": [
      "Seletor Fit\n"
     ]
    }
   ],
   "source": [
    "# 3. Exhaustive Feature Selection\n",
    "\n",
    "from mlxtend.feature_selection import ExhaustiveFeatureSelector\n",
    "from sklearn.ensemble import RandomForestClassifier\n",
    "from sklearn.metrics import roc_auc_score\n",
    "\n",
    "# Selector Algorithm\n",
    "feature_selector = ExhaustiveFeatureSelector(RandomForestClassifier(n_jobs=-1),\n",
    "                                             min_features = 1,\n",
    "                                             max_features= 3,\n",
    "                                             scoring = 'roc_auc',\n",
    "                                             print_progress=True,\n",
    "                                             cv=2)\n",
    "# ExhaustiveFeatureSelector는 LogLevel도 없고 결과가 출력이 ??????\n",
    "print(\"Seletor Fit\")\n",
    "# Selector Fit\n",
    "features = feature_selector.fit(numpy.array(train_x.fillna(0)), train_y,custom_feature_names= train_x.columns)\n",
    "print(\"select Feature adjust\")\n",
    "# Filtering Feature\n",
    "filtered_features = train_x.columns[list(features.k_features_idx_)]\n",
    "\n"
   ]
  },
  {
   "cell_type": "code",
   "execution_count": null,
   "metadata": {
    "collapsed": false,
    "pycharm": {
     "name": "#%%\n"
    }
   },
   "outputs": [],
   "source": [
    "print(\"Modeling\")\n",
    "# Modeling\n",
    "clf = RandomForestClassifier(n_estimators=100, random_state=41, max_depth=3)\n",
    "clf.fit(train_x[filtered_features].fillna(0), train_y)\n",
    "\n",
    "train_pred = clf.predict_proba(train_x[filtered_features].fillna(0))\n",
    "print('Accuracy on training set: {}'.format(roc_auc_score(train_y, train_pred[:,1])))\n",
    "\n",
    "test_pred = clf.predict_proba(test_x[filtered_features].fillna(0))\n",
    "print('Accuracy on test set: {}'.format(roc_auc_score(test_y, test_pred [:,1])))\n"
   ]
  },
  {
   "cell_type": "code",
   "execution_count": null,
   "metadata": {
    "collapsed": false,
    "pycharm": {
     "is_executing": true,
     "name": "#%%\n"
    }
   },
   "outputs": [],
   "source": [
    "import pandas\n",
    "import numpy\n",
    "import seaborn\n",
    "import matplotlib.pyplot as plt\n",
    "from mlxtend.feature_selection import ExhaustiveFeatureSelector\n",
    "#data = pandas.read_csv(\"../../../data/3.FeatureSelection/01.Wrapper/train.csv\", nrows = 200)\n",
    "\n",
    "from sklearn.ensemble import RandomForestClassifier\n",
    "\n",
    "efs = ExhaustiveFeatureSelector(RandomForestClassifier(),\n",
    "                                min_features=4,\n",
    "                                max_features=10,\n",
    "                                scoring='roc_auc',\n",
    "                                cv=2)\n",
    "\n",
    "efs = efs.fit(train_x.fillna(0), train_y)\n",
    "selected_feature = train_x.columns[list(efs.k_feature_idx_)]\n",
    "print(selected_feature)\n",
    "\n",
    "print(efs.k_score_)\n",
    "x_train_sfs = efs.transform(train_x)\n",
    "x_test_sfs = efs.transform(test_x)"
   ]
  },
  {
   "cell_type": "markdown",
   "metadata": {},
   "source": [
    "#### Recursive Feature Elimination\r\n",
    "RFE는 매우 직관적인 Feature Selection 방법으로 먼저 전체 Feature에 대해 훈련후 중요하지 않은 Feature들을 제거하면서 원하는 개수의 Feature 수만 남기는 방법이다.  \r\n",
    "따라서 원하는 수의 Feature만 사용하는 minimal optimal Feature Subset을 구하는 간단한 방법이라고 볼 수 있으며, 중요하지 않은 Feature를 매 단계마다 하나씩 줄이면서 모델을 새로 빌딩하는 과정을 반복한다.  \r\n",
    "Scikit-learn에 제공하는 RFE 함수로 구현할 수 있다.  \r\n",
    "\r\n",
    "구현 순서는 1) 클래스 선언 , 2) fit, 3) transform의 과정으로 진행하며, **Feature_imnportance_ 속성을 지원하는 의사결정나무 기반의 다양한 모델에 Wrapper로서 사용이 가능하다.**\r\n",
    "<br>\r\n",
    "> 1. estimator : Feature importance가 계산 가능한 모델\r\n",
    "> 2. n_feature_to_select : 남겨질 중요한 Feature의 수를 선언하며 지정되지 않을 경우 원래 Feature의 절반을 선택\r\n",
    "> 3. step : 각 단계 마다 제거될 Feature의 수를 선언\r\n",
    "\r\n",
    "Feature SElection이 진행된 이후 다음과 같은 속성을 지원  \r\n",
    "> 1. estimator_ : 선택된 Feature들로만 훈련된 Estimator\r\n",
    "> 2. n_features_ : 선택된 Feature의 개수\r\n",
    "> 3. ranking_ : 각 Feature의 순위이며 선택된 Feature는 1\r\n",
    "> 4. support_ : 선택된 Feature를 가리키는 마스크를 리턴\r\n",
    "\r\n"
   ]
  },
  {
   "cell_type": "code",
   "execution_count": 6,
   "metadata": {
    "collapsed": false,
    "pycharm": {
     "name": "#%%\n"
    }
   },
   "outputs": [
    {
     "name": "stdout",
     "output_type": "stream",
     "text": [
      "Columns : 0, Selected False, Rank : 9.000\n",
      "Columns : 1, Selected False, Rank : 11.000\n",
      "Columns : 2, Selected False, Rank : 7.000\n",
      "Columns : 3, Selected False, Rank : 5.000\n",
      "Columns : 4, Selected False, Rank : 14.000\n",
      "Columns : 5, Selected False, Rank : 16.000\n",
      "Columns : 6, Selected False, Rank : 10.000\n",
      "Columns : 7, Selected False, Rank : 12.000\n",
      "Columns : 8, Selected False, Rank : 3.000\n",
      "Columns : 9, Selected False, Rank : 8.000\n",
      "Columns : 10, Selected False, Rank : 6.000\n",
      "Columns : 11, Selected False, Rank : 2.000\n",
      "Columns : 12, Selected False, Rank : 13.000\n",
      "Columns : 13, Selected True, Rank : 1.000\n",
      "Columns : 14, Selected False, Rank : 4.000\n",
      "Columns : 15, Selected True, Rank : 1.000\n",
      "Columns : 16, Selected True, Rank : 1.000\n",
      "Columns : 17, Selected True, Rank : 1.000\n",
      "Columns : 18, Selected True, Rank : 1.000\n",
      "Columns : 19, Selected False, Rank : 15.000\n"
     ]
    }
   ],
   "source": [
    "import sklearn\r\n",
    "\r\n",
    "from sklearn.tree import DecisionTreeClassifier\r\n",
    "from sklearn.datasets import make_classification\r\n",
    "from sklearn.feature_selection import RFE\r\n",
    "\r\n",
    "X, y = make_classification(n_samples = 1000, n_features=20, n_informative=5, n_redundant=5)\r\n",
    "\r\n",
    "# define RFE\r\n",
    "rfe = RFE(estimator=DecisionTreeClassifier(), n_features_to_select=5)\r\n",
    "# fit RFE\r\n",
    "rfe.fit(X,y)\r\n",
    "# summarize all feature\r\n",
    "for i in range(X.shape[1]):\r\n",
    "    print('Columns : %d, Selected %s, Rank : %.3f' % (i, rfe.support_[i], rfe.ranking_[i]))\r\n",
    "\r\n",
    "\r\n"
   ]
  },
  {
   "cell_type": "code",
   "execution_count": 8,
   "metadata": {},
   "outputs": [
    {
     "name": "stdout",
     "output_type": "stream",
     "text": [
      "Columns : 0, Selected False, Rank : 3.000\n",
      "Columns : 1, Selected True, Rank : 1.000\n",
      "Columns : 2, Selected False, Rank : 4.000\n",
      "Columns : 3, Selected False, Rank : 8.000\n",
      "Columns : 4, Selected True, Rank : 1.000\n",
      "Columns : 5, Selected False, Rank : 7.000\n",
      "Columns : 6, Selected False, Rank : 2.000\n",
      "Columns : 7, Selected True, Rank : 1.000\n",
      "Columns : 8, Selected False, Rank : 13.000\n",
      "Columns : 9, Selected False, Rank : 10.000\n",
      "Columns : 10, Selected False, Rank : 11.000\n",
      "Columns : 11, Selected True, Rank : 1.000\n",
      "Columns : 12, Selected False, Rank : 6.000\n",
      "Columns : 13, Selected True, Rank : 1.000\n",
      "Columns : 14, Selected False, Rank : 15.000\n",
      "Columns : 15, Selected False, Rank : 12.000\n",
      "Columns : 16, Selected False, Rank : 14.000\n",
      "Columns : 17, Selected False, Rank : 5.000\n",
      "Columns : 18, Selected False, Rank : 9.000\n",
      "Columns : 19, Selected True, Rank : 1.000\n"
     ]
    }
   ],
   "source": [
    "# cross Validation을 통해 선택할 Feature의 개수를 자동으로 선택할 수 있다. \r\n",
    "# Sklearn 의 RFECV를 통해 수행가능하다datetime A combination of a date and a time. Attributes: ()\r\n",
    "from sklearn.datasets import make_classification\r\n",
    "from sklearn.model_selection import RepeatedStratifiedKFold\r\n",
    "from sklearn.feature_selection import RFECV\r\n",
    "from sklearn.tree import DecisionTreeClassifier\r\n",
    "\r\n",
    "# define Dataset\r\n",
    "X, y= make_classification(n_samples=1000, n_features=20, n_informative=5, n_redundant=5, random_state=1)\r\n",
    "cv = RepeatedStratifiedKFold(n_splits=10, n_repeats=3, random_state=1)\r\n",
    "rfe = RFECV(estimator=DecisionTreeClassifier(), cv=cv)\r\n",
    "rfe.fit(X,y)\r\n",
    "\r\n",
    "\r\n",
    "#Summarize all features\r\n",
    "for i in range(X.shape[1]):\r\n",
    "    print('Columns : %d, Selected %s, Rank : %.3f' % (i, rfe.support_[i], rfe.ranking_[i]))\r\n"
   ]
  },
  {
   "cell_type": "code",
   "execution_count": 19,
   "metadata": {},
   "outputs": [
    {
     "name": "stdout",
     "output_type": "stream",
     "text": [
      "[ 1  4  7 11 13 19]\n"
     ]
    },
    {
     "ename": "AttributeError",
     "evalue": "'numpy.ndarray' object has no attribute 'columns'",
     "output_type": "error",
     "traceback": [
      "\u001b[1;31m---------------------------------------------------------------------------\u001b[0m",
      "\u001b[1;31mAttributeError\u001b[0m                            Traceback (most recent call last)",
      "\u001b[1;32m<ipython-input-19-84a03ec75e1c>\u001b[0m in \u001b[0;36m<module>\u001b[1;34m\u001b[0m\n\u001b[0;32m      1\u001b[0m \u001b[0mprint\u001b[0m\u001b[1;33m(\u001b[0m\u001b[0mnumpy\u001b[0m\u001b[1;33m.\u001b[0m\u001b[0mwhere\u001b[0m\u001b[1;33m(\u001b[0m\u001b[0mrfe\u001b[0m\u001b[1;33m.\u001b[0m\u001b[0msupport_\u001b[0m\u001b[1;33m)\u001b[0m\u001b[1;33m[\u001b[0m\u001b[1;36m0\u001b[0m\u001b[1;33m]\u001b[0m\u001b[1;33m)\u001b[0m\u001b[1;33m\u001b[0m\u001b[1;33m\u001b[0m\u001b[0m\n\u001b[0;32m      2\u001b[0m \u001b[1;31m# 선택된 컬럼 인덱스\u001b[0m\u001b[1;33m\u001b[0m\u001b[1;33m\u001b[0m\u001b[1;33m\u001b[0m\u001b[0m\n\u001b[1;32m----> 3\u001b[1;33m \u001b[0mprint\u001b[0m\u001b[1;33m(\u001b[0m\u001b[0mX\u001b[0m\u001b[1;33m.\u001b[0m\u001b[0mcolumns\u001b[0m\u001b[1;33m[\u001b[0m\u001b[0mlist\u001b[0m\u001b[1;33m(\u001b[0m\u001b[0mnumpy\u001b[0m\u001b[1;33m.\u001b[0m\u001b[0mwhere\u001b[0m\u001b[1;33m(\u001b[0m\u001b[0mrfe\u001b[0m\u001b[1;33m.\u001b[0m\u001b[0msupport_\u001b[0m\u001b[1;33m)\u001b[0m\u001b[1;33m[\u001b[0m\u001b[1;36m0\u001b[0m\u001b[1;33m]\u001b[0m\u001b[1;33m)\u001b[0m\u001b[1;33m]\u001b[0m\u001b[1;33m)\u001b[0m\u001b[1;33m\u001b[0m\u001b[1;33m\u001b[0m\u001b[0m\n\u001b[0m\u001b[0;32m      4\u001b[0m \u001b[0mnumpy\u001b[0m\u001b[1;33m.\u001b[0m\u001b[0mwhere\u001b[0m\u001b[1;33m(\u001b[0m\u001b[0mrfe\u001b[0m\u001b[1;33m.\u001b[0m\u001b[0msupport_\u001b[0m\u001b[1;33m)\u001b[0m\u001b[1;33m[\u001b[0m\u001b[1;36m0\u001b[0m\u001b[1;33m]\u001b[0m\u001b[1;33m\u001b[0m\u001b[1;33m\u001b[0m\u001b[0m\n\u001b[0;32m      5\u001b[0m \u001b[1;33m\u001b[0m\u001b[0m\n",
      "\u001b[1;31mAttributeError\u001b[0m: 'numpy.ndarray' object has no attribute 'columns'"
     ]
    }
   ],
   "source": [
    "print(numpy.where(rfe.support_)[0])\r\n",
    "# 선택된 컬럼 인덱스\r\n",
    "# numpy.where(rfe.support_)[0]\r\n",
    "\r\n",
    "\r\n",
    "## Train, Test Set 모두 변환 하여 사용 \r\n",
    "X_transformed = rfe.transform(X)\r\n",
    "\r\n",
    "\r\n",
    "print(X_transformed.shape)\r\n",
    "print(X_transformed)\r\n"
   ]
  }
 ],
 "metadata": {
  "interpreter": {
   "hash": "b93001225728b99e51adba9f8af0e0d4fa33af88688185137188ede2401578f5"
  },
  "kernelspec": {
   "display_name": "Python 3.7.10 64-bit ('analysis': conda)",
   "name": "python3"
  },
  "language_info": {
   "codemirror_mode": {
    "name": "ipython",
    "version": 3
   },
   "file_extension": ".py",
   "mimetype": "text/x-python",
   "name": "python",
   "nbconvert_exporter": "python",
   "pygments_lexer": "ipython3",
   "version": "3.7.10"
  }
 },
 "nbformat": 4,
 "nbformat_minor": 0
}