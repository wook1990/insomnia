{
 "cells": [
  {
   "cell_type": "markdown",
   "source": [
    "### Feature Selection\n",
    "Feature Selection 방법은 Machine Learning 에 있어 굉장히 비중이 큰 작업이다.\n",
    "데이터가 굉장히 많고, 다양하게 존재한다면, Featuer Selection이 크게 중요하지 않을 수 있다.\n",
    "하지만, 현실 세계에서의 데이터는 이상적이지 않기 때문에, 중요한 변수의 선택의 필요성이 급증하게 되었다.\n",
    "결과를 예측하는데 상관 없는 변수들이 존재하면, Computing Cost가 늘어나고, Overfitting을 초래할 수 있다.\n",
    "\n",
    "Feature Select의 장점은 모델의 성능에 영향을 주는 특징들만 선택하기 때문에, 학습 시간을 줄일 수 있고,\n",
    "모델의 분산을 줄임으로써, 보다 Robust하게 학습을 할 수 있게 된다. 그리고 모델의 학습이 간소해지기 때문에\n",
    "결과에 대한 해석이 쉬워진다.\n",
    "\n",
    "Feature Selection의 주목적은 독립 변수 중에서, 중복되거나 종속변수와 관련이 없는 변수들을 제거하여, 종속변수를 가장 잘 예측하는 변수들의\n",
    "좋바을 찾아내는 것이기 때문에, 최적화 문제로도 정의할 수 있다.\n",
    "\n",
    "Feature Selection 방법에는 **Filtering, Wrapper, Embedded** 세 가지 방법이 있다.\n",
    "\n"
   ],
   "metadata": {
    "collapsed": false,
    "pycharm": {
     "name": "#%% md\n"
    }
   }
  }
 ],
 "metadata": {
  "kernelspec": {
   "display_name": "Python 3",
   "language": "python",
   "name": "python3"
  },
  "language_info": {
   "codemirror_mode": {
    "name": "ipython",
    "version": 2
   },
   "file_extension": ".py",
   "mimetype": "text/x-python",
   "name": "python",
   "nbconvert_exporter": "python",
   "pygments_lexer": "ipython2",
   "version": "2.7.6"
  }
 },
 "nbformat": 4,
 "nbformat_minor": 0
}