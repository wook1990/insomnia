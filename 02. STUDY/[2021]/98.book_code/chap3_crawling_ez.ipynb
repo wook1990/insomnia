{
    "cells": [
        {
            "cell_type": "code",
            "execution_count": 26,
            "source": [
                "import bs4\r\n",
                "import pandas\r\n",
                "import numpy\r\n",
                "import datetime\r\n",
                "import os\r\n",
                "import urllib\r\n",
                "import requests\r\n",
                "import time\r\n",
                "import re\r\n",
                "\r\n"
            ],
            "outputs": [],
            "metadata": {}
        },
        {
            "cell_type": "code",
            "execution_count": 30,
            "source": [
                "# 단일 페이지 \r\n",
                "keyword = input(\"검색어를 입력해 주세요\")\r\n",
                "keyword = urllib.parse.quote(keyword)\r\n",
                "\r\n",
                "search_url = \"https://search.naver.com/search.naver?where=news&sm=top_hty&fbm=0&ie=utf8&query={}?\".format(keyword)\r\n",
                "\r\n",
                "print(search_url)\r\n",
                "request_info = requests.get(search_url)\r\n",
                "html_co_cel = bs4.BeautifulSoup(request_info.text, 'html.parser')\r\n",
                "news_info = html_co_cel.find('ul', {'class' : 'list_news'}).find_all('li', {'class': 'bx'})\r\n",
                "news_cnt = len(news_info)\r\n",
                "\r\n",
                "news_dict = {\"title\":[], \r\n",
                "             \"firm\": [],\r\n",
                "             \"date\": []}\r\n",
                "\r\n",
                "for news in news_info:\r\n",
                "    news_title = news.find('a', {'class': 'news_tit'}).text\r\n",
                "    frim_nm = news.find('a', {'class': 'info press'}).text\r\n",
                "    date = news.find('span', {'class': 'info'}).text\r\n",
                "    print(\"기사제목 : {}, 언론사 : {}, 게시일 : {}\".format(news_title, frim_nm, date))\r\n",
                "    news_dict['title'].append(news_title)\r\n",
                "    news_dict['firm'].append(frim_nm)\r\n",
                "    news_dict['date'].append(date)\r\n",
                "\r\n",
                "news_df = pandas.DataFrame(news_dict)\r\n",
                "print(\"------------------------ Convert DataFrame ---------------------\")\r\n",
                "print(news_df)\r\n",
                "\r\n",
                "\r\n",
                "# 파일 저장 \r\n",
                "'''\r\n",
                "SAVE_PATH = \r\n",
                "news_df.to_csv()\r\n",
                "'''\r\n",
                "    \r\n",
                "\r\n",
                "\r\n",
                "\r\n",
                "\r\n"
            ],
            "outputs": [
                {
                    "output_type": "stream",
                    "name": "stdout",
                    "text": [
                        "https://search.naver.com/search.naver?where=news&sm=top_hty&fbm=0&ie=utf8&query=%EB%B9%84%ED%8A%B8%EC%BD%94%EC%9D%B8?\n",
                        "기사제목 : 비트코인 3700만원대 머물러…이더리움 225만원, 언론사 : 이데일리언론사 선정, 게시일 : 5시간 전\n",
                        "기사제목 : 3700만 원대 못 넘기나…비트코인 등락 '박스권', 언론사 : 더팩트언론사 선정, 게시일 : 7시간 전\n",
                        "기사제목 : 中금지령에 美 비트코인 채굴 허브로 '우뚝', 언론사 : 파이낸셜뉴스언론사 선정, 게시일 : 1시간 전\n",
                        "기사제목 : 옐런, 美 금융당국과 ‘스테이블코인’ 논의…일반 암호화폐와 선긋기?, 언론사 : 조선비즈언론사 선정, 게시일 : 4시간 전\n",
                        "기사제목 : 월가 비관론자 \"비트코인 말고 금 사라\", 언론사 : 한국경제TV, 게시일 : 7시간 전\n",
                        "기사제목 : 월가 비관론자 \"주식·비트코인 위험…'금'이나 '금 관련 주식' 사라\", 언론사 : 뉴스1, 게시일 : 3시간 전\n",
                        "기사제목 : \"공짜로 비트코인 줄게\"…일론 머스크 사칭 사기 기승, 언론사 : MBC, 게시일 : 44분 전\n",
                        "기사제목 : 와이즈비트코인, 입금 금액 50% 보너스 이벤트 진행, 언론사 : 머니S, 게시일 : 37분 전\n",
                        "기사제목 : [코인시황]비트코인, 스테이블코인 논의 앞두고 3700만원대 지속, 언론사 : 뉴시스, 게시일 : 6시간 전\n",
                        "기사제목 : [코인뉴스] 손실 트라우마·박스권에 갇힌 투자심리…관망세 지속, 언론사 : 데일리안언론사 선정, 게시일 : 5시간 전\n",
                        "'------------------------ Convert DataFrame ---------------------'\n",
                        "                                     title          firm   date\n",
                        "0              비트코인 3700만원대 머물러…이더리움 225만원    이데일리언론사 선정  5시간 전\n",
                        "1             3700만 원대 못 넘기나…비트코인 등락 '박스권'     더팩트언론사 선정  7시간 전\n",
                        "2                 中금지령에 美 비트코인 채굴 허브로 '우뚝'  파이낸셜뉴스언론사 선정  1시간 전\n",
                        "3    옐런, 美 금융당국과 ‘스테이블코인’ 논의…일반 암호화폐와 선긋기?    조선비즈언론사 선정  4시간 전\n",
                        "4                   월가 비관론자 \"비트코인 말고 금 사라\"        한국경제TV  7시간 전\n",
                        "5  월가 비관론자 \"주식·비트코인 위험…'금'이나 '금 관련 주식' 사라\"           뉴스1  3시간 전\n",
                        "6            \"공짜로 비트코인 줄게\"…일론 머스크 사칭 사기 기승           MBC  44분 전\n",
                        "7            와이즈비트코인, 입금 금액 50% 보너스 이벤트 진행           머니S  37분 전\n",
                        "8     [코인시황]비트코인, 스테이블코인 논의 앞두고 3700만원대 지속           뉴시스  6시간 전\n",
                        "9       [코인뉴스] 손실 트라우마·박스권에 갇힌 투자심리…관망세 지속    데일리안언론사 선정  5시간 전\n"
                    ]
                }
            ],
            "metadata": {}
        },
        {
            "cell_type": "code",
            "execution_count": 21,
            "source": [
                "# 다중 페이지 \r\n",
                "keyword = input(\"검색어를 입력해 주세요\")\r\n",
                "keyword = urllib.parse.quote(keyword)\r\n",
                "news_dict = {\"title\":[], \r\n",
                "             \"firm\": [],\r\n",
                "             \"date\": []}\r\n",
                "start_no = 1\r\n",
                "crawling_exec_flag = True\r\n",
                "while crawling_exec_flag:\r\n",
                "    try:\r\n",
                "        search_url = \"https://search.naver.com/search.naver?where=news&sm=top_hty&fbm=0&ie=utf8&query={}&&start={}?\".format(keyword, str(start_no))\r\n",
                "        # print(search_url)\r\n",
                "        request_info = requests.get(search_url)\r\n",
                "        html_co_cel = bs4.BeautifulSoup(request_info.text, 'html.parser')\r\n",
                "        news_info = html_co_cel.find('ul', {'class' : 'list_news'}).find_all('li', {'class': 'bx'})\r\n",
                "        news_cnt = len(news_info)\r\n",
                "        #print(\"해당 페이지 검색 결과 : {}건\".format(news_cnt))\r\n",
                "        \r\n",
                "        for news in news_info:\r\n",
                "            news_title = news.find('a', {'class': 'news_tit'}).text\r\n",
                "            frim_nm = news.find('a', {'class': 'info press'}).text\r\n",
                "            date = news.find('span', {'class': 'info'}).text\r\n",
                "            print(\"기사제목 : {}, 언론사 : {}, 게시일 : {}\".format(news_title, frim_nm, date))\r\n",
                "            news_dict['title'].append(news_title)\r\n",
                "            news_dict['firm'].append(frim_nm)\r\n",
                "            news_dict['date'].append(date)\r\n",
                "        start_no += 1\r\n",
                "        if start_no > news_cnt:\r\n",
                "            crawling_exec_flag = False\r\n",
                "\r\n",
                "    except:\r\n",
                "        search_str = html_co_cel.find('div', {'class': 'not_found02'}).get_text()\r\n",
                "        if search_str.find('검색결과가 없습니다') != -1:\r\n",
                "            print('더이상 비트코인에 관련된 뉴스가 없음')\r\n",
                "            crawling_exec_flag = False\r\n",
                "\r\n",
                "\r\n",
                "news_df = pandas.DataFrame(news_dict)\r\n",
                "print(\"------------------------ Convert DataFrame ---------------------\")\r\n",
                "print(news_df)\r\n",
                "\r\n",
                "# 파일 저장 \r\n",
                "'''\r\n",
                "SAVE_PATH = \r\n",
                "news_df.to_csv()\r\n",
                "'''\r\n",
                "    \r\n",
                "    "
            ],
            "outputs": [
                {
                    "output_type": "stream",
                    "name": "stdout",
                    "text": [
                        "더이상 비트코인에 관련된 뉴스가 없음\n"
                    ]
                }
            ],
            "metadata": {}
        },
        {
            "cell_type": "code",
            "execution_count": null,
            "source": [],
            "outputs": [],
            "metadata": {}
        }
    ],
    "metadata": {
        "orig_nbformat": 4,
        "language_info": {
            "name": "python"
        }
    },
    "nbformat": 4,
    "nbformat_minor": 2
}