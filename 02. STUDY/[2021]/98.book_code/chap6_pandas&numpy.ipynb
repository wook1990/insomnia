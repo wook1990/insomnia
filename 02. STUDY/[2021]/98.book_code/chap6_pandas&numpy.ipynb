{
 "metadata": {
  "language_info": {
   "codemirror_mode": {
    "name": "ipython",
    "version": 3
   },
   "file_extension": ".py",
   "mimetype": "text/x-python",
   "name": "python",
   "nbconvert_exporter": "python",
   "pygments_lexer": "ipython3",
   "version": "3.6.13"
  },
  "orig_nbformat": 4,
  "kernelspec": {
   "name": "python3",
   "display_name": "Python 3.6.13 64-bit ('analysis': conda)"
  },
  "interpreter": {
   "hash": "701730e0af32f2e0f9c4178b9a0783219dbee2c4cc7990823ae53fd9f41cbb4c"
  }
 },
 "nbformat": 4,
 "nbformat_minor": 2,
 "cells": [
  {
   "cell_type": "code",
   "execution_count": null,
   "metadata": {},
   "outputs": [],
   "source": [
    "#######################################################################################################################################\n",
    "#                                                                                                                                     #\n",
    "#                                                                                                                                     #\n",
    "#                                              실전 데이터 분석 코드 (교재 초보자 용)                                                    #\n",
    "#                                                                                                                                     #\n",
    "#                                                                                                             \"Handmade by JHL\"       #\n",
    "#######################################################################################################################################"
   ]
  },
  {
   "cell_type": "code",
   "execution_count": null,
   "metadata": {},
   "outputs": [],
   "source": [
    "#######################################################################################################################################\n",
    "#                                                                                                                                     #\n",
    "#                                                                                                                                     #                                    \n",
    "#                                                     판다스 - 데이터 핸들링 기초                                                       #\n",
    "#                                                                                                                                     #\n",
    "#                                                                                                                                     #\n",
    "#######################################################################################################################################"
   ]
  },
  {
   "cell_type": "code",
   "execution_count": null,
   "metadata": {},
   "outputs": [],
   "source": [
    "# 필요 라이브러리 불러오기\n",
    "import pandas as pd\n",
    "import numpy as np"
   ]
  },
  {
   "cell_type": "code",
   "execution_count": 2,
   "metadata": {},
   "outputs": [
    {
     "output_type": "stream",
     "name": "stdout",
     "text": [
      "Data Shape: (20000, 33)\n"
     ]
    },
    {
     "output_type": "execute_result",
     "data": {
      "text/plain": [
       "   ID  target        v1        v2 v3        v4         v5        v6        v7  \\\n",
       "0   3       1  1.335739  8.727474  C  3.921026   7.915266  2.599278  3.176895   \n",
       "1   4       1  0.000000  0.000000  C  0.000000   9.191265  0.000000  0.000000   \n",
       "2   5       1  0.943877  5.310079  C  4.410969   5.326159  3.979592  3.928571   \n",
       "3   6       1  0.797415  8.304757  C  4.225930  11.627438  2.097700  1.987549   \n",
       "4   8       1  0.000000  0.000000  C  0.000000   0.000000  0.000000  0.000000   \n",
       "\n",
       "         v8  ...   v22           v23  v24       v25       v26       v27  \\\n",
       "0  0.012941  ...   XDX -1.720000e-08    C  0.139412  1.720818  3.393503   \n",
       "1  2.301630  ...   GUV  0.000000e+00    C  3.056144  0.000000  0.000000   \n",
       "2  0.019645  ...    FQ -2.790000e-07    E  0.113997  2.244897  5.306122   \n",
       "3  0.171947  ...  ACUE -4.810000e-07    D  0.148843  1.308269  2.303640   \n",
       "4  0.000000  ...   HIT  0.000000e+00    E  0.000000  0.000000  0.000000   \n",
       "\n",
       "        v28       v29  v30  v31  \n",
       "0  0.590122  8.880867    C    A  \n",
       "1  0.000000  0.000000    C    A  \n",
       "2  0.836005  7.499999    0    A  \n",
       "3  8.926662  8.874521    C    B  \n",
       "4  0.000000  0.000000    0    A  \n",
       "\n",
       "[5 rows x 33 columns]"
      ],
      "text/html": "<div>\n<style scoped>\n    .dataframe tbody tr th:only-of-type {\n        vertical-align: middle;\n    }\n\n    .dataframe tbody tr th {\n        vertical-align: top;\n    }\n\n    .dataframe thead th {\n        text-align: right;\n    }\n</style>\n<table border=\"1\" class=\"dataframe\">\n  <thead>\n    <tr style=\"text-align: right;\">\n      <th></th>\n      <th>ID</th>\n      <th>target</th>\n      <th>v1</th>\n      <th>v2</th>\n      <th>v3</th>\n      <th>v4</th>\n      <th>v5</th>\n      <th>v6</th>\n      <th>v7</th>\n      <th>v8</th>\n      <th>...</th>\n      <th>v22</th>\n      <th>v23</th>\n      <th>v24</th>\n      <th>v25</th>\n      <th>v26</th>\n      <th>v27</th>\n      <th>v28</th>\n      <th>v29</th>\n      <th>v30</th>\n      <th>v31</th>\n    </tr>\n  </thead>\n  <tbody>\n    <tr>\n      <th>0</th>\n      <td>3</td>\n      <td>1</td>\n      <td>1.335739</td>\n      <td>8.727474</td>\n      <td>C</td>\n      <td>3.921026</td>\n      <td>7.915266</td>\n      <td>2.599278</td>\n      <td>3.176895</td>\n      <td>0.012941</td>\n      <td>...</td>\n      <td>XDX</td>\n      <td>-1.720000e-08</td>\n      <td>C</td>\n      <td>0.139412</td>\n      <td>1.720818</td>\n      <td>3.393503</td>\n      <td>0.590122</td>\n      <td>8.880867</td>\n      <td>C</td>\n      <td>A</td>\n    </tr>\n    <tr>\n      <th>1</th>\n      <td>4</td>\n      <td>1</td>\n      <td>0.000000</td>\n      <td>0.000000</td>\n      <td>C</td>\n      <td>0.000000</td>\n      <td>9.191265</td>\n      <td>0.000000</td>\n      <td>0.000000</td>\n      <td>2.301630</td>\n      <td>...</td>\n      <td>GUV</td>\n      <td>0.000000e+00</td>\n      <td>C</td>\n      <td>3.056144</td>\n      <td>0.000000</td>\n      <td>0.000000</td>\n      <td>0.000000</td>\n      <td>0.000000</td>\n      <td>C</td>\n      <td>A</td>\n    </tr>\n    <tr>\n      <th>2</th>\n      <td>5</td>\n      <td>1</td>\n      <td>0.943877</td>\n      <td>5.310079</td>\n      <td>C</td>\n      <td>4.410969</td>\n      <td>5.326159</td>\n      <td>3.979592</td>\n      <td>3.928571</td>\n      <td>0.019645</td>\n      <td>...</td>\n      <td>FQ</td>\n      <td>-2.790000e-07</td>\n      <td>E</td>\n      <td>0.113997</td>\n      <td>2.244897</td>\n      <td>5.306122</td>\n      <td>0.836005</td>\n      <td>7.499999</td>\n      <td>0</td>\n      <td>A</td>\n    </tr>\n    <tr>\n      <th>3</th>\n      <td>6</td>\n      <td>1</td>\n      <td>0.797415</td>\n      <td>8.304757</td>\n      <td>C</td>\n      <td>4.225930</td>\n      <td>11.627438</td>\n      <td>2.097700</td>\n      <td>1.987549</td>\n      <td>0.171947</td>\n      <td>...</td>\n      <td>ACUE</td>\n      <td>-4.810000e-07</td>\n      <td>D</td>\n      <td>0.148843</td>\n      <td>1.308269</td>\n      <td>2.303640</td>\n      <td>8.926662</td>\n      <td>8.874521</td>\n      <td>C</td>\n      <td>B</td>\n    </tr>\n    <tr>\n      <th>4</th>\n      <td>8</td>\n      <td>1</td>\n      <td>0.000000</td>\n      <td>0.000000</td>\n      <td>C</td>\n      <td>0.000000</td>\n      <td>0.000000</td>\n      <td>0.000000</td>\n      <td>0.000000</td>\n      <td>0.000000</td>\n      <td>...</td>\n      <td>HIT</td>\n      <td>0.000000e+00</td>\n      <td>E</td>\n      <td>0.000000</td>\n      <td>0.000000</td>\n      <td>0.000000</td>\n      <td>0.000000</td>\n      <td>0.000000</td>\n      <td>0</td>\n      <td>A</td>\n    </tr>\n  </tbody>\n</table>\n<p>5 rows × 33 columns</p>\n</div>"
     },
     "metadata": {},
     "execution_count": 2
    }
   ],
   "source": [
    "# 데이터 불러오기 및 데이터 규모 파악\n",
    "df = pd.read_csv('BookExample.csv')\n",
    "print(\"Data Shape:\", df.shape)\n",
    "\n",
    "# 데이터 앞 5개 확인\n",
    "df.head()"
   ]
  },
  {
   "cell_type": "code",
   "execution_count": 25,
   "metadata": {},
   "outputs": [
    {
     "output_type": "execute_result",
     "data": {
      "text/plain": [
       "          ID  target        v1        v2 v3        v4         v5        v6  \\\n",
       "19995  40048       1  0.000000  0.000000  C  0.000000   0.000000  0.000000   \n",
       "19996  40051       1  2.019311  3.284808  C  1.954289   8.942205  2.535684   \n",
       "19997  40052       0  0.913579  8.132525  C  3.555315  12.461332  2.580248   \n",
       "19998  40055       1  0.000000  0.000000  C  0.000000   0.000000  0.000000   \n",
       "19999  40056       0  0.487483  7.638427  C  4.044045   8.511991  1.299956   \n",
       "\n",
       "             v7        v8  ...   v22           v23  v24       v25       v26  \\\n",
       "19995  0.000000  0.000000  ...  ACCB  0.000000e+00    D  0.000000  0.000000   \n",
       "19996  1.931150  1.119962  ...   KDA  1.300000e-08    C  1.728577  1.754828   \n",
       "19997  2.067901  0.137280  ...  AAES -7.420000e-07    E  0.153086  1.697531   \n",
       "19998  0.000000  0.000000  ...   OST  0.000000e+00    E  0.000000  0.000000   \n",
       "19999  2.362758  0.773913  ...   QYP  7.393090e-01    E  1.159701  1.191626   \n",
       "\n",
       "            v27       v28       v29  v30  v31  \n",
       "19995  0.000000  0.000000  0.000000    0    B  \n",
       "19996  1.712845  5.090871  8.404702    0    B  \n",
       "19997  1.802468  6.925380  9.685186    G    A  \n",
       "19998  0.000000  0.000000  0.000000    C    A  \n",
       "19999  4.918753  4.866367  5.085640    0    A  \n",
       "\n",
       "[5 rows x 33 columns]"
      ],
      "text/html": "<div>\n<style scoped>\n    .dataframe tbody tr th:only-of-type {\n        vertical-align: middle;\n    }\n\n    .dataframe tbody tr th {\n        vertical-align: top;\n    }\n\n    .dataframe thead th {\n        text-align: right;\n    }\n</style>\n<table border=\"1\" class=\"dataframe\">\n  <thead>\n    <tr style=\"text-align: right;\">\n      <th></th>\n      <th>ID</th>\n      <th>target</th>\n      <th>v1</th>\n      <th>v2</th>\n      <th>v3</th>\n      <th>v4</th>\n      <th>v5</th>\n      <th>v6</th>\n      <th>v7</th>\n      <th>v8</th>\n      <th>...</th>\n      <th>v22</th>\n      <th>v23</th>\n      <th>v24</th>\n      <th>v25</th>\n      <th>v26</th>\n      <th>v27</th>\n      <th>v28</th>\n      <th>v29</th>\n      <th>v30</th>\n      <th>v31</th>\n    </tr>\n  </thead>\n  <tbody>\n    <tr>\n      <th>19995</th>\n      <td>40048</td>\n      <td>1</td>\n      <td>0.000000</td>\n      <td>0.000000</td>\n      <td>C</td>\n      <td>0.000000</td>\n      <td>0.000000</td>\n      <td>0.000000</td>\n      <td>0.000000</td>\n      <td>0.000000</td>\n      <td>...</td>\n      <td>ACCB</td>\n      <td>0.000000e+00</td>\n      <td>D</td>\n      <td>0.000000</td>\n      <td>0.000000</td>\n      <td>0.000000</td>\n      <td>0.000000</td>\n      <td>0.000000</td>\n      <td>0</td>\n      <td>B</td>\n    </tr>\n    <tr>\n      <th>19996</th>\n      <td>40051</td>\n      <td>1</td>\n      <td>2.019311</td>\n      <td>3.284808</td>\n      <td>C</td>\n      <td>1.954289</td>\n      <td>8.942205</td>\n      <td>2.535684</td>\n      <td>1.931150</td>\n      <td>1.119962</td>\n      <td>...</td>\n      <td>KDA</td>\n      <td>1.300000e-08</td>\n      <td>C</td>\n      <td>1.728577</td>\n      <td>1.754828</td>\n      <td>1.712845</td>\n      <td>5.090871</td>\n      <td>8.404702</td>\n      <td>0</td>\n      <td>B</td>\n    </tr>\n    <tr>\n      <th>19997</th>\n      <td>40052</td>\n      <td>0</td>\n      <td>0.913579</td>\n      <td>8.132525</td>\n      <td>C</td>\n      <td>3.555315</td>\n      <td>12.461332</td>\n      <td>2.580248</td>\n      <td>2.067901</td>\n      <td>0.137280</td>\n      <td>...</td>\n      <td>AAES</td>\n      <td>-7.420000e-07</td>\n      <td>E</td>\n      <td>0.153086</td>\n      <td>1.697531</td>\n      <td>1.802468</td>\n      <td>6.925380</td>\n      <td>9.685186</td>\n      <td>G</td>\n      <td>A</td>\n    </tr>\n    <tr>\n      <th>19998</th>\n      <td>40055</td>\n      <td>1</td>\n      <td>0.000000</td>\n      <td>0.000000</td>\n      <td>C</td>\n      <td>0.000000</td>\n      <td>0.000000</td>\n      <td>0.000000</td>\n      <td>0.000000</td>\n      <td>0.000000</td>\n      <td>...</td>\n      <td>OST</td>\n      <td>0.000000e+00</td>\n      <td>E</td>\n      <td>0.000000</td>\n      <td>0.000000</td>\n      <td>0.000000</td>\n      <td>0.000000</td>\n      <td>0.000000</td>\n      <td>C</td>\n      <td>A</td>\n    </tr>\n    <tr>\n      <th>19999</th>\n      <td>40056</td>\n      <td>0</td>\n      <td>0.487483</td>\n      <td>7.638427</td>\n      <td>C</td>\n      <td>4.044045</td>\n      <td>8.511991</td>\n      <td>1.299956</td>\n      <td>2.362758</td>\n      <td>0.773913</td>\n      <td>...</td>\n      <td>QYP</td>\n      <td>7.393090e-01</td>\n      <td>E</td>\n      <td>1.159701</td>\n      <td>1.191626</td>\n      <td>4.918753</td>\n      <td>4.866367</td>\n      <td>5.085640</td>\n      <td>0</td>\n      <td>A</td>\n    </tr>\n  </tbody>\n</table>\n<p>5 rows × 33 columns</p>\n</div>"
     },
     "metadata": {},
     "execution_count": 25
    }
   ],
   "source": [
    "# 데이터 마지막 5개 확인\n",
    "df.tail()"
   ]
  },
  {
   "cell_type": "code",
   "execution_count": 3,
   "metadata": {},
   "outputs": [
    {
     "output_type": "execute_result",
     "data": {
      "text/plain": [
       "                 ID        target            v1            v2            v4  \\\n",
       "count  20000.000000  20000.000000  20000.000000  20000.000000  20000.000000   \n",
       "mean   20015.657050      0.757850      0.926345      4.239573      2.352223   \n",
       "std    11589.317914      0.428395      1.142191      4.316143      2.226008   \n",
       "min        3.000000      0.000000     -0.000001      0.000000      0.000000   \n",
       "25%     9973.750000      1.000000      0.000000      0.000000      0.000000   \n",
       "50%    19933.500000      1.000000      0.547472      4.127830      2.774881   \n",
       "75%    30099.500000      1.000000      1.621064      7.526088      4.333625   \n",
       "max    40056.000000      1.000000     12.758620     18.770830     11.831778   \n",
       "\n",
       "                 v5            v6            v7            v8            v9  \\\n",
       "count  20000.000000  2.000000e+04  2.000000e+04  2.000000e+04  2.000000e+04   \n",
       "mean       5.044359  1.380275e+00  1.410862e+00  8.780690e-01  5.125201e+00   \n",
       "std        4.572065  1.283248e+00  1.305883e+00  2.222752e+00  4.697482e+00   \n",
       "min        0.000000 -6.110000e-07 -9.470000e-07 -7.780000e-07 -9.830000e-07   \n",
       "25%        0.000000  0.000000e+00  0.000000e+00  0.000000e+00  0.000000e+00   \n",
       "50%        6.753678  1.784925e+00  1.841375e+00  3.755553e-02  6.858174e+00   \n",
       "75%        8.922577  2.479908e+00  2.526421e+00  5.884071e-01  9.286154e+00   \n",
       "max       20.000000  7.272728e+00  8.888889e+00  2.000000e+01  2.000000e+01   \n",
       "\n",
       "       ...           v18           v19           v20           v21  \\\n",
       "count  ...  20000.000000  20000.000000  20000.000000  20000.000000   \n",
       "mean   ...      0.480450      0.126200     10.093129      7.002664   \n",
       "std    ...      0.631497      0.135162      8.839707      1.158836   \n",
       "min    ...      0.000000      0.000000      0.000000      0.000000   \n",
       "25%    ...      0.000000      0.000000      0.000000      6.409858   \n",
       "50%    ...      0.251961      0.159731     16.530204      7.044975   \n",
       "75%    ...      0.835394      0.206592     18.151973      7.666763   \n",
       "max    ...     20.000000      3.157777     20.000001     15.767890   \n",
       "\n",
       "                v23           v25           v26           v27           v28  \\\n",
       "count  2.000000e+04  20000.000000  2.000000e+04  2.000000e+04  20000.000000   \n",
       "mean   6.475178e-01      0.997521  1.065201e+00  1.558645e+00      2.905602   \n",
       "std    3.139116e+00      2.393770  1.016667e+00  1.497022e+00      3.250382   \n",
       "min   -1.000000e-06      0.000000 -7.550000e-07 -7.200000e-07      0.000000   \n",
       "25%    0.000000e+00      0.000000  0.000000e+00  0.000000e+00      0.000000   \n",
       "50%    0.000000e+00      0.122284  1.294503e+00  1.836450e+00      1.607868   \n",
       "75%    3.170000e-07      0.764558  1.901728e+00  2.782713e+00      5.375775   \n",
       "max    2.000000e+01     20.000001  9.166666e+00  1.111111e+01     19.848194   \n",
       "\n",
       "                v29  \n",
       "count  2.000000e+04  \n",
       "mean   4.657864e+00  \n",
       "std    4.173179e+00  \n",
       "min   -3.040000e-07  \n",
       "25%    0.000000e+00  \n",
       "50%    6.686271e+00  \n",
       "75%    8.485299e+00  \n",
       "max    1.400000e+01  \n",
       "\n",
       "[8 rows x 28 columns]"
      ],
      "text/html": "<div>\n<style scoped>\n    .dataframe tbody tr th:only-of-type {\n        vertical-align: middle;\n    }\n\n    .dataframe tbody tr th {\n        vertical-align: top;\n    }\n\n    .dataframe thead th {\n        text-align: right;\n    }\n</style>\n<table border=\"1\" class=\"dataframe\">\n  <thead>\n    <tr style=\"text-align: right;\">\n      <th></th>\n      <th>ID</th>\n      <th>target</th>\n      <th>v1</th>\n      <th>v2</th>\n      <th>v4</th>\n      <th>v5</th>\n      <th>v6</th>\n      <th>v7</th>\n      <th>v8</th>\n      <th>v9</th>\n      <th>...</th>\n      <th>v18</th>\n      <th>v19</th>\n      <th>v20</th>\n      <th>v21</th>\n      <th>v23</th>\n      <th>v25</th>\n      <th>v26</th>\n      <th>v27</th>\n      <th>v28</th>\n      <th>v29</th>\n    </tr>\n  </thead>\n  <tbody>\n    <tr>\n      <th>count</th>\n      <td>20000.000000</td>\n      <td>20000.000000</td>\n      <td>20000.000000</td>\n      <td>20000.000000</td>\n      <td>20000.000000</td>\n      <td>20000.000000</td>\n      <td>2.000000e+04</td>\n      <td>2.000000e+04</td>\n      <td>2.000000e+04</td>\n      <td>2.000000e+04</td>\n      <td>...</td>\n      <td>20000.000000</td>\n      <td>20000.000000</td>\n      <td>20000.000000</td>\n      <td>20000.000000</td>\n      <td>2.000000e+04</td>\n      <td>20000.000000</td>\n      <td>2.000000e+04</td>\n      <td>2.000000e+04</td>\n      <td>20000.000000</td>\n      <td>2.000000e+04</td>\n    </tr>\n    <tr>\n      <th>mean</th>\n      <td>20015.657050</td>\n      <td>0.757850</td>\n      <td>0.926345</td>\n      <td>4.239573</td>\n      <td>2.352223</td>\n      <td>5.044359</td>\n      <td>1.380275e+00</td>\n      <td>1.410862e+00</td>\n      <td>8.780690e-01</td>\n      <td>5.125201e+00</td>\n      <td>...</td>\n      <td>0.480450</td>\n      <td>0.126200</td>\n      <td>10.093129</td>\n      <td>7.002664</td>\n      <td>6.475178e-01</td>\n      <td>0.997521</td>\n      <td>1.065201e+00</td>\n      <td>1.558645e+00</td>\n      <td>2.905602</td>\n      <td>4.657864e+00</td>\n    </tr>\n    <tr>\n      <th>std</th>\n      <td>11589.317914</td>\n      <td>0.428395</td>\n      <td>1.142191</td>\n      <td>4.316143</td>\n      <td>2.226008</td>\n      <td>4.572065</td>\n      <td>1.283248e+00</td>\n      <td>1.305883e+00</td>\n      <td>2.222752e+00</td>\n      <td>4.697482e+00</td>\n      <td>...</td>\n      <td>0.631497</td>\n      <td>0.135162</td>\n      <td>8.839707</td>\n      <td>1.158836</td>\n      <td>3.139116e+00</td>\n      <td>2.393770</td>\n      <td>1.016667e+00</td>\n      <td>1.497022e+00</td>\n      <td>3.250382</td>\n      <td>4.173179e+00</td>\n    </tr>\n    <tr>\n      <th>min</th>\n      <td>3.000000</td>\n      <td>0.000000</td>\n      <td>-0.000001</td>\n      <td>0.000000</td>\n      <td>0.000000</td>\n      <td>0.000000</td>\n      <td>-6.110000e-07</td>\n      <td>-9.470000e-07</td>\n      <td>-7.780000e-07</td>\n      <td>-9.830000e-07</td>\n      <td>...</td>\n      <td>0.000000</td>\n      <td>0.000000</td>\n      <td>0.000000</td>\n      <td>0.000000</td>\n      <td>-1.000000e-06</td>\n      <td>0.000000</td>\n      <td>-7.550000e-07</td>\n      <td>-7.200000e-07</td>\n      <td>0.000000</td>\n      <td>-3.040000e-07</td>\n    </tr>\n    <tr>\n      <th>25%</th>\n      <td>9973.750000</td>\n      <td>1.000000</td>\n      <td>0.000000</td>\n      <td>0.000000</td>\n      <td>0.000000</td>\n      <td>0.000000</td>\n      <td>0.000000e+00</td>\n      <td>0.000000e+00</td>\n      <td>0.000000e+00</td>\n      <td>0.000000e+00</td>\n      <td>...</td>\n      <td>0.000000</td>\n      <td>0.000000</td>\n      <td>0.000000</td>\n      <td>6.409858</td>\n      <td>0.000000e+00</td>\n      <td>0.000000</td>\n      <td>0.000000e+00</td>\n      <td>0.000000e+00</td>\n      <td>0.000000</td>\n      <td>0.000000e+00</td>\n    </tr>\n    <tr>\n      <th>50%</th>\n      <td>19933.500000</td>\n      <td>1.000000</td>\n      <td>0.547472</td>\n      <td>4.127830</td>\n      <td>2.774881</td>\n      <td>6.753678</td>\n      <td>1.784925e+00</td>\n      <td>1.841375e+00</td>\n      <td>3.755553e-02</td>\n      <td>6.858174e+00</td>\n      <td>...</td>\n      <td>0.251961</td>\n      <td>0.159731</td>\n      <td>16.530204</td>\n      <td>7.044975</td>\n      <td>0.000000e+00</td>\n      <td>0.122284</td>\n      <td>1.294503e+00</td>\n      <td>1.836450e+00</td>\n      <td>1.607868</td>\n      <td>6.686271e+00</td>\n    </tr>\n    <tr>\n      <th>75%</th>\n      <td>30099.500000</td>\n      <td>1.000000</td>\n      <td>1.621064</td>\n      <td>7.526088</td>\n      <td>4.333625</td>\n      <td>8.922577</td>\n      <td>2.479908e+00</td>\n      <td>2.526421e+00</td>\n      <td>5.884071e-01</td>\n      <td>9.286154e+00</td>\n      <td>...</td>\n      <td>0.835394</td>\n      <td>0.206592</td>\n      <td>18.151973</td>\n      <td>7.666763</td>\n      <td>3.170000e-07</td>\n      <td>0.764558</td>\n      <td>1.901728e+00</td>\n      <td>2.782713e+00</td>\n      <td>5.375775</td>\n      <td>8.485299e+00</td>\n    </tr>\n    <tr>\n      <th>max</th>\n      <td>40056.000000</td>\n      <td>1.000000</td>\n      <td>12.758620</td>\n      <td>18.770830</td>\n      <td>11.831778</td>\n      <td>20.000000</td>\n      <td>7.272728e+00</td>\n      <td>8.888889e+00</td>\n      <td>2.000000e+01</td>\n      <td>2.000000e+01</td>\n      <td>...</td>\n      <td>20.000000</td>\n      <td>3.157777</td>\n      <td>20.000001</td>\n      <td>15.767890</td>\n      <td>2.000000e+01</td>\n      <td>20.000001</td>\n      <td>9.166666e+00</td>\n      <td>1.111111e+01</td>\n      <td>19.848194</td>\n      <td>1.400000e+01</td>\n    </tr>\n  </tbody>\n</table>\n<p>8 rows × 28 columns</p>\n</div>"
     },
     "metadata": {},
     "execution_count": 3
    }
   ],
   "source": [
    "# 데이터 정보 파악 1\n",
    "df.describe()"
   ]
  },
  {
   "cell_type": "code",
   "execution_count": 4,
   "metadata": {},
   "outputs": [
    {
     "output_type": "stream",
     "name": "stdout",
     "text": [
      "<class 'pandas.core.frame.DataFrame'>\nRangeIndex: 20000 entries, 0 to 19999\nData columns (total 33 columns):\n #   Column  Non-Null Count  Dtype  \n---  ------  --------------  -----  \n 0   ID      20000 non-null  int64  \n 1   target  20000 non-null  int64  \n 2   v1      20000 non-null  float64\n 3   v2      20000 non-null  float64\n 4   v3      20000 non-null  object \n 5   v4      20000 non-null  float64\n 6   v5      20000 non-null  float64\n 7   v6      20000 non-null  float64\n 8   v7      20000 non-null  float64\n 9   v8      20000 non-null  float64\n 10  v9      20000 non-null  float64\n 11  v10     20000 non-null  float64\n 12  v11     20000 non-null  float64\n 13  v12     20000 non-null  float64\n 14  v13     20000 non-null  float64\n 15  v14     20000 non-null  float64\n 16  v15     20000 non-null  float64\n 17  v16     20000 non-null  float64\n 18  v17     20000 non-null  float64\n 19  v18     20000 non-null  float64\n 20  v19     20000 non-null  float64\n 21  v20     20000 non-null  float64\n 22  v21     20000 non-null  float64\n 23  v22     20000 non-null  object \n 24  v23     20000 non-null  float64\n 25  v24     20000 non-null  object \n 26  v25     20000 non-null  float64\n 27  v26     20000 non-null  float64\n 28  v27     20000 non-null  float64\n 29  v28     20000 non-null  float64\n 30  v29     20000 non-null  float64\n 31  v30     20000 non-null  object \n 32  v31     20000 non-null  object \ndtypes: float64(26), int64(2), object(5)\nmemory usage: 5.0+ MB\n"
     ]
    }
   ],
   "source": [
    "# 데이터 정보 파악 2\n",
    "df.info()"
   ]
  },
  {
   "cell_type": "code",
   "execution_count": 5,
   "metadata": {},
   "outputs": [
    {
     "output_type": "execute_result",
     "data": {
      "text/plain": [
       "ID        0\n",
       "target    0\n",
       "v1        0\n",
       "v2        0\n",
       "v3        0\n",
       "v4        0\n",
       "v5        0\n",
       "v6        0\n",
       "v7        0\n",
       "v8        0\n",
       "v9        0\n",
       "v10       0\n",
       "v11       0\n",
       "v12       0\n",
       "v13       0\n",
       "v14       0\n",
       "v15       0\n",
       "v16       0\n",
       "v17       0\n",
       "v18       0\n",
       "v19       0\n",
       "v20       0\n",
       "v21       0\n",
       "v22       0\n",
       "v23       0\n",
       "v24       0\n",
       "v25       0\n",
       "v26       0\n",
       "v27       0\n",
       "v28       0\n",
       "v29       0\n",
       "v30       0\n",
       "v31       0\n",
       "dtype: int64"
      ]
     },
     "metadata": {},
     "execution_count": 5
    }
   ],
   "source": [
    "# 결측치 파악\n",
    "df.isnull().sum()"
   ]
  },
  {
   "cell_type": "code",
   "execution_count": 8,
   "metadata": {},
   "outputs": [
    {
     "output_type": "stream",
     "name": "stdout",
     "text": [
      "unique: [1 0]\nnunque: 2\n"
     ]
    }
   ],
   "source": [
    "# unique/nunique 한 값 확인\n",
    "print(\"unique:\", df[\"target\"].unique())\n",
    "print(\"nunque:\", df[\"target\"].nunique())"
   ]
  },
  {
   "cell_type": "code",
   "execution_count": 9,
   "metadata": {},
   "outputs": [
    {
     "output_type": "execute_result",
     "data": {
      "text/plain": [
       "1    15157\n",
       "0     4843\n",
       "Name: target, dtype: int64"
      ]
     },
     "metadata": {},
     "execution_count": 9
    }
   ],
   "source": [
    "# 범주형 데이터 빈도수 파악\n",
    "df[\"target\"].value_counts()"
   ]
  },
  {
   "cell_type": "code",
   "execution_count": 12,
   "metadata": {},
   "outputs": [
    {
     "output_type": "execute_result",
     "data": {
      "text/plain": [
       "   target\n",
       "0       1\n",
       "1       1\n",
       "2       1\n",
       "3       1\n",
       "4       1"
      ],
      "text/html": "<div>\n<style scoped>\n    .dataframe tbody tr th:only-of-type {\n        vertical-align: middle;\n    }\n\n    .dataframe tbody tr th {\n        vertical-align: top;\n    }\n\n    .dataframe thead th {\n        text-align: right;\n    }\n</style>\n<table border=\"1\" class=\"dataframe\">\n  <thead>\n    <tr style=\"text-align: right;\">\n      <th></th>\n      <th>target</th>\n    </tr>\n  </thead>\n  <tbody>\n    <tr>\n      <th>0</th>\n      <td>1</td>\n    </tr>\n    <tr>\n      <th>1</th>\n      <td>1</td>\n    </tr>\n    <tr>\n      <th>2</th>\n      <td>1</td>\n    </tr>\n    <tr>\n      <th>3</th>\n      <td>1</td>\n    </tr>\n    <tr>\n      <th>4</th>\n      <td>1</td>\n    </tr>\n  </tbody>\n</table>\n</div>"
     },
     "metadata": {},
     "execution_count": 12
    }
   ],
   "source": [
    "# target컬럼 데이터만 추출\n",
    "df[[\"target\"]].head()"
   ]
  },
  {
   "cell_type": "code",
   "execution_count": 46,
   "metadata": {},
   "outputs": [
    {
     "output_type": "execute_result",
     "data": {
      "text/plain": [
       "   target        v1\n",
       "0       1  1.335739\n",
       "1       1  0.000000\n",
       "2       1  0.943877\n",
       "3       1  0.797415\n",
       "4       1  0.000000"
      ],
      "text/html": "<div>\n<style scoped>\n    .dataframe tbody tr th:only-of-type {\n        vertical-align: middle;\n    }\n\n    .dataframe tbody tr th {\n        vertical-align: top;\n    }\n\n    .dataframe thead th {\n        text-align: right;\n    }\n</style>\n<table border=\"1\" class=\"dataframe\">\n  <thead>\n    <tr style=\"text-align: right;\">\n      <th></th>\n      <th>target</th>\n      <th>v1</th>\n    </tr>\n  </thead>\n  <tbody>\n    <tr>\n      <th>0</th>\n      <td>1</td>\n      <td>1.335739</td>\n    </tr>\n    <tr>\n      <th>1</th>\n      <td>1</td>\n      <td>0.000000</td>\n    </tr>\n    <tr>\n      <th>2</th>\n      <td>1</td>\n      <td>0.943877</td>\n    </tr>\n    <tr>\n      <th>3</th>\n      <td>1</td>\n      <td>0.797415</td>\n    </tr>\n    <tr>\n      <th>4</th>\n      <td>1</td>\n      <td>0.000000</td>\n    </tr>\n  </tbody>\n</table>\n</div>"
     },
     "metadata": {},
     "execution_count": 46
    }
   ],
   "source": [
    "# ID 및 target 컬럼 데이터만 추출\n",
    "df[[\"target\", \"v1\"]].head()"
   ]
  },
  {
   "cell_type": "code",
   "execution_count": 18,
   "metadata": {},
   "outputs": [
    {
     "output_type": "execute_result",
     "data": {
      "text/plain": [
       "count    20000.000000\n",
       "mean         0.926345\n",
       "std          1.142191\n",
       "min         -0.000001\n",
       "25%          0.000000\n",
       "50%          0.547472\n",
       "75%          1.621064\n",
       "max         12.758620\n",
       "Name: v1, dtype: float64"
      ]
     },
     "metadata": {},
     "execution_count": 18
    }
   ],
   "source": [
    "# 특정 컬럼 통계치 확인\n",
    "df[\"v1\"].describe()"
   ]
  },
  {
   "cell_type": "code",
   "execution_count": 24,
   "metadata": {},
   "outputs": [
    {
     "output_type": "execute_result",
     "data": {
      "text/plain": [
       "      v3   v22 v24 v30 v31\n",
       "0      C   XDX   C   C   A\n",
       "1      C   GUV   C   C   A\n",
       "2      C    FQ   E   0   A\n",
       "3      C  ACUE   D   C   B\n",
       "4      C   HIT   E   0   A\n",
       "...   ..   ...  ..  ..  ..\n",
       "19995  C  ACCB   D   0   B\n",
       "19996  C   KDA   C   0   B\n",
       "19997  C  AAES   E   G   A\n",
       "19998  C   OST   E   C   A\n",
       "19999  C   QYP   E   0   A\n",
       "\n",
       "[20000 rows x 5 columns]"
      ],
      "text/html": "<div>\n<style scoped>\n    .dataframe tbody tr th:only-of-type {\n        vertical-align: middle;\n    }\n\n    .dataframe tbody tr th {\n        vertical-align: top;\n    }\n\n    .dataframe thead th {\n        text-align: right;\n    }\n</style>\n<table border=\"1\" class=\"dataframe\">\n  <thead>\n    <tr style=\"text-align: right;\">\n      <th></th>\n      <th>v3</th>\n      <th>v22</th>\n      <th>v24</th>\n      <th>v30</th>\n      <th>v31</th>\n    </tr>\n  </thead>\n  <tbody>\n    <tr>\n      <th>0</th>\n      <td>C</td>\n      <td>XDX</td>\n      <td>C</td>\n      <td>C</td>\n      <td>A</td>\n    </tr>\n    <tr>\n      <th>1</th>\n      <td>C</td>\n      <td>GUV</td>\n      <td>C</td>\n      <td>C</td>\n      <td>A</td>\n    </tr>\n    <tr>\n      <th>2</th>\n      <td>C</td>\n      <td>FQ</td>\n      <td>E</td>\n      <td>0</td>\n      <td>A</td>\n    </tr>\n    <tr>\n      <th>3</th>\n      <td>C</td>\n      <td>ACUE</td>\n      <td>D</td>\n      <td>C</td>\n      <td>B</td>\n    </tr>\n    <tr>\n      <th>4</th>\n      <td>C</td>\n      <td>HIT</td>\n      <td>E</td>\n      <td>0</td>\n      <td>A</td>\n    </tr>\n    <tr>\n      <th>...</th>\n      <td>...</td>\n      <td>...</td>\n      <td>...</td>\n      <td>...</td>\n      <td>...</td>\n    </tr>\n    <tr>\n      <th>19995</th>\n      <td>C</td>\n      <td>ACCB</td>\n      <td>D</td>\n      <td>0</td>\n      <td>B</td>\n    </tr>\n    <tr>\n      <th>19996</th>\n      <td>C</td>\n      <td>KDA</td>\n      <td>C</td>\n      <td>0</td>\n      <td>B</td>\n    </tr>\n    <tr>\n      <th>19997</th>\n      <td>C</td>\n      <td>AAES</td>\n      <td>E</td>\n      <td>G</td>\n      <td>A</td>\n    </tr>\n    <tr>\n      <th>19998</th>\n      <td>C</td>\n      <td>OST</td>\n      <td>E</td>\n      <td>C</td>\n      <td>A</td>\n    </tr>\n    <tr>\n      <th>19999</th>\n      <td>C</td>\n      <td>QYP</td>\n      <td>E</td>\n      <td>0</td>\n      <td>A</td>\n    </tr>\n  </tbody>\n</table>\n<p>20000 rows × 5 columns</p>\n</div>"
     },
     "metadata": {},
     "execution_count": 24
    }
   ],
   "source": [
    "# 특정 타입의 데이터만 추출\n",
    "# (\"object, int32, int64, float32, float64\" - 중 선택 가능)\n",
    "df.select_dtypes(\"object\")"
   ]
  },
  {
   "cell_type": "code",
   "execution_count": 45,
   "metadata": {},
   "outputs": [
    {
     "output_type": "execute_result",
     "data": {
      "text/plain": [
       "          ID  target        v1         v2 v3        v4         v5        v6  \\\n",
       "5          9       0  0.000000   0.000000  C  0.000000   8.856791  0.000000   \n",
       "6         12       0  0.899806   7.312995  C  3.494148   9.946200  1.926070   \n",
       "12        28       0  0.000000   0.000000  C  0.000000   0.000000  0.000000   \n",
       "29        55       0  2.415670  14.960392  C  4.356980   8.520510  2.132753   \n",
       "35        67       0  2.843810   7.961986  C  4.372291   8.381346  2.305791   \n",
       "...      ...     ...       ...        ... ..       ...        ...       ...   \n",
       "19976  40017       0  2.273220   7.747975  C  4.253893   8.193344  2.428624   \n",
       "19986  40035       0  0.000000   0.000000  C  0.000000   0.000000  0.000000   \n",
       "19992  40045       0  0.000000   0.000000  C  0.000000   7.855438  0.000000   \n",
       "19997  40052       0  0.913579   8.132525  C  3.555315  12.461332  2.580248   \n",
       "19999  40056       0  0.487483   7.638427  C  4.044045   8.511991  1.299956   \n",
       "\n",
       "             v7        v8  ...   v22           v23  v24       v25       v26  \\\n",
       "5      0.000000  0.359993  ...   AYX  0.000000e+00    A  0.218458  0.000000   \n",
       "6      1.770427  0.066251  ...   NFD  7.810000e-07    E  0.180765  1.070040   \n",
       "12     0.000000  0.000000  ...   QKP  0.000000e+00    E  0.000000  0.000000   \n",
       "29     2.023938  0.035822  ...   FLR  2.230000e-08    E  0.130472  1.595937   \n",
       "35     2.876751  1.231511  ...  ACOZ -7.950000e-07    E  0.910234  1.882148   \n",
       "...         ...       ...  ...   ...           ...  ...       ...       ...   \n",
       "19976  2.399712  1.703670  ...   GLW  3.450000e-07    C  1.910470  2.478015   \n",
       "19986  0.000000  0.000000  ...   YDU  0.000000e+00    E  0.000000  0.000000   \n",
       "19992  0.000000  0.805805  ...   EYN  0.000000e+00    C  0.713341  0.000000   \n",
       "19997  2.067901  0.137280  ...  AAES -7.420000e-07    E  0.153086  1.697531   \n",
       "19999  2.362758  0.773913  ...   QYP  7.393090e-01    E  1.159701  1.191626   \n",
       "\n",
       "            v27       v28       v29  v30  v31  \n",
       "5      0.000000  0.000000  0.000000    0    A  \n",
       "6      1.566147  4.393842  7.928015    G    A  \n",
       "12     0.000000  0.000000  0.000000    0    A  \n",
       "29     2.459195  1.962796  9.096844    0    A  \n",
       "35     4.106507  7.787043  6.939336    0    A  \n",
       "...         ...       ...       ...  ...  ...  \n",
       "19976  2.161185  5.914047  8.586918    C    A  \n",
       "19986  0.000000  0.000000  0.000000    0    A  \n",
       "19992  0.000000  0.000000  0.000000    C    A  \n",
       "19997  1.802468  6.925380  9.685186    G    A  \n",
       "19999  4.918753  4.866367  5.085640    0    A  \n",
       "\n",
       "[4714 rows x 33 columns]"
      ],
      "text/html": "<div>\n<style scoped>\n    .dataframe tbody tr th:only-of-type {\n        vertical-align: middle;\n    }\n\n    .dataframe tbody tr th {\n        vertical-align: top;\n    }\n\n    .dataframe thead th {\n        text-align: right;\n    }\n</style>\n<table border=\"1\" class=\"dataframe\">\n  <thead>\n    <tr style=\"text-align: right;\">\n      <th></th>\n      <th>ID</th>\n      <th>target</th>\n      <th>v1</th>\n      <th>v2</th>\n      <th>v3</th>\n      <th>v4</th>\n      <th>v5</th>\n      <th>v6</th>\n      <th>v7</th>\n      <th>v8</th>\n      <th>...</th>\n      <th>v22</th>\n      <th>v23</th>\n      <th>v24</th>\n      <th>v25</th>\n      <th>v26</th>\n      <th>v27</th>\n      <th>v28</th>\n      <th>v29</th>\n      <th>v30</th>\n      <th>v31</th>\n    </tr>\n  </thead>\n  <tbody>\n    <tr>\n      <th>5</th>\n      <td>9</td>\n      <td>0</td>\n      <td>0.000000</td>\n      <td>0.000000</td>\n      <td>C</td>\n      <td>0.000000</td>\n      <td>8.856791</td>\n      <td>0.000000</td>\n      <td>0.000000</td>\n      <td>0.359993</td>\n      <td>...</td>\n      <td>AYX</td>\n      <td>0.000000e+00</td>\n      <td>A</td>\n      <td>0.218458</td>\n      <td>0.000000</td>\n      <td>0.000000</td>\n      <td>0.000000</td>\n      <td>0.000000</td>\n      <td>0</td>\n      <td>A</td>\n    </tr>\n    <tr>\n      <th>6</th>\n      <td>12</td>\n      <td>0</td>\n      <td>0.899806</td>\n      <td>7.312995</td>\n      <td>C</td>\n      <td>3.494148</td>\n      <td>9.946200</td>\n      <td>1.926070</td>\n      <td>1.770427</td>\n      <td>0.066251</td>\n      <td>...</td>\n      <td>NFD</td>\n      <td>7.810000e-07</td>\n      <td>E</td>\n      <td>0.180765</td>\n      <td>1.070040</td>\n      <td>1.566147</td>\n      <td>4.393842</td>\n      <td>7.928015</td>\n      <td>G</td>\n      <td>A</td>\n    </tr>\n    <tr>\n      <th>12</th>\n      <td>28</td>\n      <td>0</td>\n      <td>0.000000</td>\n      <td>0.000000</td>\n      <td>C</td>\n      <td>0.000000</td>\n      <td>0.000000</td>\n      <td>0.000000</td>\n      <td>0.000000</td>\n      <td>0.000000</td>\n      <td>...</td>\n      <td>QKP</td>\n      <td>0.000000e+00</td>\n      <td>E</td>\n      <td>0.000000</td>\n      <td>0.000000</td>\n      <td>0.000000</td>\n      <td>0.000000</td>\n      <td>0.000000</td>\n      <td>0</td>\n      <td>A</td>\n    </tr>\n    <tr>\n      <th>29</th>\n      <td>55</td>\n      <td>0</td>\n      <td>2.415670</td>\n      <td>14.960392</td>\n      <td>C</td>\n      <td>4.356980</td>\n      <td>8.520510</td>\n      <td>2.132753</td>\n      <td>2.023938</td>\n      <td>0.035822</td>\n      <td>...</td>\n      <td>FLR</td>\n      <td>2.230000e-08</td>\n      <td>E</td>\n      <td>0.130472</td>\n      <td>1.595937</td>\n      <td>2.459195</td>\n      <td>1.962796</td>\n      <td>9.096844</td>\n      <td>0</td>\n      <td>A</td>\n    </tr>\n    <tr>\n      <th>35</th>\n      <td>67</td>\n      <td>0</td>\n      <td>2.843810</td>\n      <td>7.961986</td>\n      <td>C</td>\n      <td>4.372291</td>\n      <td>8.381346</td>\n      <td>2.305791</td>\n      <td>2.876751</td>\n      <td>1.231511</td>\n      <td>...</td>\n      <td>ACOZ</td>\n      <td>-7.950000e-07</td>\n      <td>E</td>\n      <td>0.910234</td>\n      <td>1.882148</td>\n      <td>4.106507</td>\n      <td>7.787043</td>\n      <td>6.939336</td>\n      <td>0</td>\n      <td>A</td>\n    </tr>\n    <tr>\n      <th>...</th>\n      <td>...</td>\n      <td>...</td>\n      <td>...</td>\n      <td>...</td>\n      <td>...</td>\n      <td>...</td>\n      <td>...</td>\n      <td>...</td>\n      <td>...</td>\n      <td>...</td>\n      <td>...</td>\n      <td>...</td>\n      <td>...</td>\n      <td>...</td>\n      <td>...</td>\n      <td>...</td>\n      <td>...</td>\n      <td>...</td>\n      <td>...</td>\n      <td>...</td>\n      <td>...</td>\n    </tr>\n    <tr>\n      <th>19976</th>\n      <td>40017</td>\n      <td>0</td>\n      <td>2.273220</td>\n      <td>7.747975</td>\n      <td>C</td>\n      <td>4.253893</td>\n      <td>8.193344</td>\n      <td>2.428624</td>\n      <td>2.399712</td>\n      <td>1.703670</td>\n      <td>...</td>\n      <td>GLW</td>\n      <td>3.450000e-07</td>\n      <td>C</td>\n      <td>1.910470</td>\n      <td>2.478015</td>\n      <td>2.161185</td>\n      <td>5.914047</td>\n      <td>8.586918</td>\n      <td>C</td>\n      <td>A</td>\n    </tr>\n    <tr>\n      <th>19986</th>\n      <td>40035</td>\n      <td>0</td>\n      <td>0.000000</td>\n      <td>0.000000</td>\n      <td>C</td>\n      <td>0.000000</td>\n      <td>0.000000</td>\n      <td>0.000000</td>\n      <td>0.000000</td>\n      <td>0.000000</td>\n      <td>...</td>\n      <td>YDU</td>\n      <td>0.000000e+00</td>\n      <td>E</td>\n      <td>0.000000</td>\n      <td>0.000000</td>\n      <td>0.000000</td>\n      <td>0.000000</td>\n      <td>0.000000</td>\n      <td>0</td>\n      <td>A</td>\n    </tr>\n    <tr>\n      <th>19992</th>\n      <td>40045</td>\n      <td>0</td>\n      <td>0.000000</td>\n      <td>0.000000</td>\n      <td>C</td>\n      <td>0.000000</td>\n      <td>7.855438</td>\n      <td>0.000000</td>\n      <td>0.000000</td>\n      <td>0.805805</td>\n      <td>...</td>\n      <td>EYN</td>\n      <td>0.000000e+00</td>\n      <td>C</td>\n      <td>0.713341</td>\n      <td>0.000000</td>\n      <td>0.000000</td>\n      <td>0.000000</td>\n      <td>0.000000</td>\n      <td>C</td>\n      <td>A</td>\n    </tr>\n    <tr>\n      <th>19997</th>\n      <td>40052</td>\n      <td>0</td>\n      <td>0.913579</td>\n      <td>8.132525</td>\n      <td>C</td>\n      <td>3.555315</td>\n      <td>12.461332</td>\n      <td>2.580248</td>\n      <td>2.067901</td>\n      <td>0.137280</td>\n      <td>...</td>\n      <td>AAES</td>\n      <td>-7.420000e-07</td>\n      <td>E</td>\n      <td>0.153086</td>\n      <td>1.697531</td>\n      <td>1.802468</td>\n      <td>6.925380</td>\n      <td>9.685186</td>\n      <td>G</td>\n      <td>A</td>\n    </tr>\n    <tr>\n      <th>19999</th>\n      <td>40056</td>\n      <td>0</td>\n      <td>0.487483</td>\n      <td>7.638427</td>\n      <td>C</td>\n      <td>4.044045</td>\n      <td>8.511991</td>\n      <td>1.299956</td>\n      <td>2.362758</td>\n      <td>0.773913</td>\n      <td>...</td>\n      <td>QYP</td>\n      <td>7.393090e-01</td>\n      <td>E</td>\n      <td>1.159701</td>\n      <td>1.191626</td>\n      <td>4.918753</td>\n      <td>4.866367</td>\n      <td>5.085640</td>\n      <td>0</td>\n      <td>A</td>\n    </tr>\n  </tbody>\n</table>\n<p>4714 rows × 33 columns</p>\n</div>"
     },
     "metadata": {},
     "execution_count": 45
    }
   ],
   "source": [
    "### 수치형 데이터 인덱싱 - 기본\n",
    "\n",
    "# index 위치로 조회\n",
    "df.loc[:5]\n",
    "\n",
    "# column 위치로 조회\n",
    "df.loc[:5,\"v1\"]\n",
    "\n",
    "# target에서 0을 만족하는 데이터만 추출\n",
    "df[ df.loc[:, \"target\"] == 0 ]\n",
    "\n",
    "# target 이 0을 갖고, v3가 C를 갖는 데이터만 추출\n",
    "df[ (df[\"target\"] == 0) & (df[\"v3\"] == \"C\") ]"
   ]
  },
  {
   "cell_type": "code",
   "execution_count": 47,
   "metadata": {},
   "outputs": [
    {
     "output_type": "execute_result",
     "data": {
      "text/plain": [
       "   ID_num  target        v1        v2 v3        v4         v5        v6  \\\n",
       "0       3       1  1.335739  8.727474  C  3.921026   7.915266  2.599278   \n",
       "1       4       1  0.000000  0.000000  C  0.000000   9.191265  0.000000   \n",
       "2       5       1  0.943877  5.310079  C  4.410969   5.326159  3.979592   \n",
       "3       6       1  0.797415  8.304757  C  4.225930  11.627438  2.097700   \n",
       "4       8       1  0.000000  0.000000  C  0.000000   0.000000  0.000000   \n",
       "\n",
       "         v7        v8  ...   v22           v23  v24       v25       v26  \\\n",
       "0  3.176895  0.012941  ...   XDX -1.720000e-08    C  0.139412  1.720818   \n",
       "1  0.000000  2.301630  ...   GUV  0.000000e+00    C  3.056144  0.000000   \n",
       "2  3.928571  0.019645  ...    FQ -2.790000e-07    E  0.113997  2.244897   \n",
       "3  1.987549  0.171947  ...  ACUE -4.810000e-07    D  0.148843  1.308269   \n",
       "4  0.000000  0.000000  ...   HIT  0.000000e+00    E  0.000000  0.000000   \n",
       "\n",
       "        v27       v28       v29  v30  v31  \n",
       "0  3.393503  0.590122  8.880867    C    A  \n",
       "1  0.000000  0.000000  0.000000    C    A  \n",
       "2  5.306122  0.836005  7.499999    0    A  \n",
       "3  2.303640  8.926662  8.874521    C    B  \n",
       "4  0.000000  0.000000  0.000000    0    A  \n",
       "\n",
       "[5 rows x 33 columns]"
      ],
      "text/html": "<div>\n<style scoped>\n    .dataframe tbody tr th:only-of-type {\n        vertical-align: middle;\n    }\n\n    .dataframe tbody tr th {\n        vertical-align: top;\n    }\n\n    .dataframe thead th {\n        text-align: right;\n    }\n</style>\n<table border=\"1\" class=\"dataframe\">\n  <thead>\n    <tr style=\"text-align: right;\">\n      <th></th>\n      <th>ID_num</th>\n      <th>target</th>\n      <th>v1</th>\n      <th>v2</th>\n      <th>v3</th>\n      <th>v4</th>\n      <th>v5</th>\n      <th>v6</th>\n      <th>v7</th>\n      <th>v8</th>\n      <th>...</th>\n      <th>v22</th>\n      <th>v23</th>\n      <th>v24</th>\n      <th>v25</th>\n      <th>v26</th>\n      <th>v27</th>\n      <th>v28</th>\n      <th>v29</th>\n      <th>v30</th>\n      <th>v31</th>\n    </tr>\n  </thead>\n  <tbody>\n    <tr>\n      <th>0</th>\n      <td>3</td>\n      <td>1</td>\n      <td>1.335739</td>\n      <td>8.727474</td>\n      <td>C</td>\n      <td>3.921026</td>\n      <td>7.915266</td>\n      <td>2.599278</td>\n      <td>3.176895</td>\n      <td>0.012941</td>\n      <td>...</td>\n      <td>XDX</td>\n      <td>-1.720000e-08</td>\n      <td>C</td>\n      <td>0.139412</td>\n      <td>1.720818</td>\n      <td>3.393503</td>\n      <td>0.590122</td>\n      <td>8.880867</td>\n      <td>C</td>\n      <td>A</td>\n    </tr>\n    <tr>\n      <th>1</th>\n      <td>4</td>\n      <td>1</td>\n      <td>0.000000</td>\n      <td>0.000000</td>\n      <td>C</td>\n      <td>0.000000</td>\n      <td>9.191265</td>\n      <td>0.000000</td>\n      <td>0.000000</td>\n      <td>2.301630</td>\n      <td>...</td>\n      <td>GUV</td>\n      <td>0.000000e+00</td>\n      <td>C</td>\n      <td>3.056144</td>\n      <td>0.000000</td>\n      <td>0.000000</td>\n      <td>0.000000</td>\n      <td>0.000000</td>\n      <td>C</td>\n      <td>A</td>\n    </tr>\n    <tr>\n      <th>2</th>\n      <td>5</td>\n      <td>1</td>\n      <td>0.943877</td>\n      <td>5.310079</td>\n      <td>C</td>\n      <td>4.410969</td>\n      <td>5.326159</td>\n      <td>3.979592</td>\n      <td>3.928571</td>\n      <td>0.019645</td>\n      <td>...</td>\n      <td>FQ</td>\n      <td>-2.790000e-07</td>\n      <td>E</td>\n      <td>0.113997</td>\n      <td>2.244897</td>\n      <td>5.306122</td>\n      <td>0.836005</td>\n      <td>7.499999</td>\n      <td>0</td>\n      <td>A</td>\n    </tr>\n    <tr>\n      <th>3</th>\n      <td>6</td>\n      <td>1</td>\n      <td>0.797415</td>\n      <td>8.304757</td>\n      <td>C</td>\n      <td>4.225930</td>\n      <td>11.627438</td>\n      <td>2.097700</td>\n      <td>1.987549</td>\n      <td>0.171947</td>\n      <td>...</td>\n      <td>ACUE</td>\n      <td>-4.810000e-07</td>\n      <td>D</td>\n      <td>0.148843</td>\n      <td>1.308269</td>\n      <td>2.303640</td>\n      <td>8.926662</td>\n      <td>8.874521</td>\n      <td>C</td>\n      <td>B</td>\n    </tr>\n    <tr>\n      <th>4</th>\n      <td>8</td>\n      <td>1</td>\n      <td>0.000000</td>\n      <td>0.000000</td>\n      <td>C</td>\n      <td>0.000000</td>\n      <td>0.000000</td>\n      <td>0.000000</td>\n      <td>0.000000</td>\n      <td>0.000000</td>\n      <td>...</td>\n      <td>HIT</td>\n      <td>0.000000e+00</td>\n      <td>E</td>\n      <td>0.000000</td>\n      <td>0.000000</td>\n      <td>0.000000</td>\n      <td>0.000000</td>\n      <td>0.000000</td>\n      <td>0</td>\n      <td>A</td>\n    </tr>\n  </tbody>\n</table>\n<p>5 rows × 33 columns</p>\n</div>"
     },
     "metadata": {},
     "execution_count": 47
    }
   ],
   "source": [
    "# 컬럼명 변경\n",
    "df.rename(columns={\"ID\": \"ID_num\" }, inplace=True)\n",
    "df.head()"
   ]
  },
  {
   "cell_type": "code",
   "execution_count": 71,
   "metadata": {},
   "outputs": [
    {
     "output_type": "execute_result",
     "data": {
      "text/plain": [
       "   ID_num  target        v1        v2 v3        v4         v5        v6  \\\n",
       "0       3       1  1.335739  8.727474  C  3.921026   7.915266  2.599278   \n",
       "1       4       1  0.000000  0.000000  C  0.000000   9.191265  0.000000   \n",
       "2       5       1  0.943877  5.310079  C  4.410969   5.326159  3.979592   \n",
       "3       6       1  0.797415  8.304757  C  4.225930  11.627438  2.097700   \n",
       "4       8       1  0.000000  0.000000  C  0.000000   0.000000  0.000000   \n",
       "\n",
       "         v7        v8  ...           v23  v24       v25       v26       v27  \\\n",
       "0  3.176895  0.012941  ... -1.720000e-08    C  0.139412  1.720818  3.393503   \n",
       "1  0.000000  2.301630  ...  0.000000e+00    C  3.056144  0.000000  0.000000   \n",
       "2  3.928571  0.019645  ... -2.790000e-07    E  0.113997  2.244897  5.306122   \n",
       "3  1.987549  0.171947  ... -4.810000e-07    D  0.148843  1.308269  2.303640   \n",
       "4  0.000000  0.000000  ...  0.000000e+00    E  0.000000  0.000000  0.000000   \n",
       "\n",
       "        v28       v29  v30  v31  new_col  \n",
       "0  0.590122  8.880867    C    A        0  \n",
       "1  0.000000  0.000000    C    A        0  \n",
       "2  0.836005  7.499999    0    A        0  \n",
       "3  8.926662  8.874521    C    B        0  \n",
       "4  0.000000  0.000000    0    A        0  \n",
       "\n",
       "[5 rows x 34 columns]"
      ],
      "text/html": "<div>\n<style scoped>\n    .dataframe tbody tr th:only-of-type {\n        vertical-align: middle;\n    }\n\n    .dataframe tbody tr th {\n        vertical-align: top;\n    }\n\n    .dataframe thead th {\n        text-align: right;\n    }\n</style>\n<table border=\"1\" class=\"dataframe\">\n  <thead>\n    <tr style=\"text-align: right;\">\n      <th></th>\n      <th>ID_num</th>\n      <th>target</th>\n      <th>v1</th>\n      <th>v2</th>\n      <th>v3</th>\n      <th>v4</th>\n      <th>v5</th>\n      <th>v6</th>\n      <th>v7</th>\n      <th>v8</th>\n      <th>...</th>\n      <th>v23</th>\n      <th>v24</th>\n      <th>v25</th>\n      <th>v26</th>\n      <th>v27</th>\n      <th>v28</th>\n      <th>v29</th>\n      <th>v30</th>\n      <th>v31</th>\n      <th>new_col</th>\n    </tr>\n  </thead>\n  <tbody>\n    <tr>\n      <th>0</th>\n      <td>3</td>\n      <td>1</td>\n      <td>1.335739</td>\n      <td>8.727474</td>\n      <td>C</td>\n      <td>3.921026</td>\n      <td>7.915266</td>\n      <td>2.599278</td>\n      <td>3.176895</td>\n      <td>0.012941</td>\n      <td>...</td>\n      <td>-1.720000e-08</td>\n      <td>C</td>\n      <td>0.139412</td>\n      <td>1.720818</td>\n      <td>3.393503</td>\n      <td>0.590122</td>\n      <td>8.880867</td>\n      <td>C</td>\n      <td>A</td>\n      <td>0</td>\n    </tr>\n    <tr>\n      <th>1</th>\n      <td>4</td>\n      <td>1</td>\n      <td>0.000000</td>\n      <td>0.000000</td>\n      <td>C</td>\n      <td>0.000000</td>\n      <td>9.191265</td>\n      <td>0.000000</td>\n      <td>0.000000</td>\n      <td>2.301630</td>\n      <td>...</td>\n      <td>0.000000e+00</td>\n      <td>C</td>\n      <td>3.056144</td>\n      <td>0.000000</td>\n      <td>0.000000</td>\n      <td>0.000000</td>\n      <td>0.000000</td>\n      <td>C</td>\n      <td>A</td>\n      <td>0</td>\n    </tr>\n    <tr>\n      <th>2</th>\n      <td>5</td>\n      <td>1</td>\n      <td>0.943877</td>\n      <td>5.310079</td>\n      <td>C</td>\n      <td>4.410969</td>\n      <td>5.326159</td>\n      <td>3.979592</td>\n      <td>3.928571</td>\n      <td>0.019645</td>\n      <td>...</td>\n      <td>-2.790000e-07</td>\n      <td>E</td>\n      <td>0.113997</td>\n      <td>2.244897</td>\n      <td>5.306122</td>\n      <td>0.836005</td>\n      <td>7.499999</td>\n      <td>0</td>\n      <td>A</td>\n      <td>0</td>\n    </tr>\n    <tr>\n      <th>3</th>\n      <td>6</td>\n      <td>1</td>\n      <td>0.797415</td>\n      <td>8.304757</td>\n      <td>C</td>\n      <td>4.225930</td>\n      <td>11.627438</td>\n      <td>2.097700</td>\n      <td>1.987549</td>\n      <td>0.171947</td>\n      <td>...</td>\n      <td>-4.810000e-07</td>\n      <td>D</td>\n      <td>0.148843</td>\n      <td>1.308269</td>\n      <td>2.303640</td>\n      <td>8.926662</td>\n      <td>8.874521</td>\n      <td>C</td>\n      <td>B</td>\n      <td>0</td>\n    </tr>\n    <tr>\n      <th>4</th>\n      <td>8</td>\n      <td>1</td>\n      <td>0.000000</td>\n      <td>0.000000</td>\n      <td>C</td>\n      <td>0.000000</td>\n      <td>0.000000</td>\n      <td>0.000000</td>\n      <td>0.000000</td>\n      <td>0.000000</td>\n      <td>...</td>\n      <td>0.000000e+00</td>\n      <td>E</td>\n      <td>0.000000</td>\n      <td>0.000000</td>\n      <td>0.000000</td>\n      <td>0.000000</td>\n      <td>0.000000</td>\n      <td>0</td>\n      <td>A</td>\n      <td>0</td>\n    </tr>\n  </tbody>\n</table>\n<p>5 rows × 34 columns</p>\n</div>"
     },
     "metadata": {},
     "execution_count": 71
    }
   ],
   "source": [
    "# 새로운 컬럼 추가\n",
    "df[\"new_col\"] = 0\n",
    "df.head()"
   ]
  },
  {
   "cell_type": "code",
   "execution_count": 72,
   "metadata": {},
   "outputs": [
    {
     "output_type": "execute_result",
     "data": {
      "text/plain": [
       "   ID_num  target        v1        v2 v3        v4         v5        v6  \\\n",
       "0       3       1  1.335739  8.727474  C  3.921026   7.915266  2.599278   \n",
       "1       4       1  0.000000  0.000000  C  0.000000   9.191265  0.000000   \n",
       "2       5       1  0.943877  5.310079  C  4.410969   5.326159  3.979592   \n",
       "3       6       1  0.797415  8.304757  C  4.225930  11.627438  2.097700   \n",
       "4       8       1  0.000000  0.000000  C  0.000000   0.000000  0.000000   \n",
       "\n",
       "         v7        v8  ...   v22           v23  v24       v25       v26  \\\n",
       "0  3.176895  0.012941  ...   XDX -1.720000e-08    C  0.139412  1.720818   \n",
       "1  0.000000  2.301630  ...   GUV  0.000000e+00    C  3.056144  0.000000   \n",
       "2  3.928571  0.019645  ...    FQ -2.790000e-07    E  0.113997  2.244897   \n",
       "3  1.987549  0.171947  ...  ACUE -4.810000e-07    D  0.148843  1.308269   \n",
       "4  0.000000  0.000000  ...   HIT  0.000000e+00    E  0.000000  0.000000   \n",
       "\n",
       "        v27       v28       v29  v30  v31  \n",
       "0  3.393503  0.590122  8.880867    C    A  \n",
       "1  0.000000  0.000000  0.000000    C    A  \n",
       "2  5.306122  0.836005  7.499999    0    A  \n",
       "3  2.303640  8.926662  8.874521    C    B  \n",
       "4  0.000000  0.000000  0.000000    0    A  \n",
       "\n",
       "[5 rows x 33 columns]"
      ],
      "text/html": "<div>\n<style scoped>\n    .dataframe tbody tr th:only-of-type {\n        vertical-align: middle;\n    }\n\n    .dataframe tbody tr th {\n        vertical-align: top;\n    }\n\n    .dataframe thead th {\n        text-align: right;\n    }\n</style>\n<table border=\"1\" class=\"dataframe\">\n  <thead>\n    <tr style=\"text-align: right;\">\n      <th></th>\n      <th>ID_num</th>\n      <th>target</th>\n      <th>v1</th>\n      <th>v2</th>\n      <th>v3</th>\n      <th>v4</th>\n      <th>v5</th>\n      <th>v6</th>\n      <th>v7</th>\n      <th>v8</th>\n      <th>...</th>\n      <th>v22</th>\n      <th>v23</th>\n      <th>v24</th>\n      <th>v25</th>\n      <th>v26</th>\n      <th>v27</th>\n      <th>v28</th>\n      <th>v29</th>\n      <th>v30</th>\n      <th>v31</th>\n    </tr>\n  </thead>\n  <tbody>\n    <tr>\n      <th>0</th>\n      <td>3</td>\n      <td>1</td>\n      <td>1.335739</td>\n      <td>8.727474</td>\n      <td>C</td>\n      <td>3.921026</td>\n      <td>7.915266</td>\n      <td>2.599278</td>\n      <td>3.176895</td>\n      <td>0.012941</td>\n      <td>...</td>\n      <td>XDX</td>\n      <td>-1.720000e-08</td>\n      <td>C</td>\n      <td>0.139412</td>\n      <td>1.720818</td>\n      <td>3.393503</td>\n      <td>0.590122</td>\n      <td>8.880867</td>\n      <td>C</td>\n      <td>A</td>\n    </tr>\n    <tr>\n      <th>1</th>\n      <td>4</td>\n      <td>1</td>\n      <td>0.000000</td>\n      <td>0.000000</td>\n      <td>C</td>\n      <td>0.000000</td>\n      <td>9.191265</td>\n      <td>0.000000</td>\n      <td>0.000000</td>\n      <td>2.301630</td>\n      <td>...</td>\n      <td>GUV</td>\n      <td>0.000000e+00</td>\n      <td>C</td>\n      <td>3.056144</td>\n      <td>0.000000</td>\n      <td>0.000000</td>\n      <td>0.000000</td>\n      <td>0.000000</td>\n      <td>C</td>\n      <td>A</td>\n    </tr>\n    <tr>\n      <th>2</th>\n      <td>5</td>\n      <td>1</td>\n      <td>0.943877</td>\n      <td>5.310079</td>\n      <td>C</td>\n      <td>4.410969</td>\n      <td>5.326159</td>\n      <td>3.979592</td>\n      <td>3.928571</td>\n      <td>0.019645</td>\n      <td>...</td>\n      <td>FQ</td>\n      <td>-2.790000e-07</td>\n      <td>E</td>\n      <td>0.113997</td>\n      <td>2.244897</td>\n      <td>5.306122</td>\n      <td>0.836005</td>\n      <td>7.499999</td>\n      <td>0</td>\n      <td>A</td>\n    </tr>\n    <tr>\n      <th>3</th>\n      <td>6</td>\n      <td>1</td>\n      <td>0.797415</td>\n      <td>8.304757</td>\n      <td>C</td>\n      <td>4.225930</td>\n      <td>11.627438</td>\n      <td>2.097700</td>\n      <td>1.987549</td>\n      <td>0.171947</td>\n      <td>...</td>\n      <td>ACUE</td>\n      <td>-4.810000e-07</td>\n      <td>D</td>\n      <td>0.148843</td>\n      <td>1.308269</td>\n      <td>2.303640</td>\n      <td>8.926662</td>\n      <td>8.874521</td>\n      <td>C</td>\n      <td>B</td>\n    </tr>\n    <tr>\n      <th>4</th>\n      <td>8</td>\n      <td>1</td>\n      <td>0.000000</td>\n      <td>0.000000</td>\n      <td>C</td>\n      <td>0.000000</td>\n      <td>0.000000</td>\n      <td>0.000000</td>\n      <td>0.000000</td>\n      <td>0.000000</td>\n      <td>...</td>\n      <td>HIT</td>\n      <td>0.000000e+00</td>\n      <td>E</td>\n      <td>0.000000</td>\n      <td>0.000000</td>\n      <td>0.000000</td>\n      <td>0.000000</td>\n      <td>0.000000</td>\n      <td>0</td>\n      <td>A</td>\n    </tr>\n  </tbody>\n</table>\n<p>5 rows × 33 columns</p>\n</div>"
     },
     "metadata": {},
     "execution_count": 72
    }
   ],
   "source": [
    "# 컬럼 삭제\n",
    "df.drop(\"new_col\", axis=1, inplace=True)\n",
    "df.head()"
   ]
  },
  {
   "cell_type": "code",
   "execution_count": 70,
   "metadata": {},
   "outputs": [
    {
     "output_type": "execute_result",
     "data": {
      "text/plain": [
       "C    19377\n",
       "D      594\n",
       "A       24\n",
       "B        5\n",
       "Name: v3, dtype: int64"
      ]
     },
     "metadata": {},
     "execution_count": 70
    }
   ],
   "source": [
    "# 컬럼에 들어있는 특정 데이터 replace\n",
    "# \"0\" --> \"D\" 변경\n",
    "df.loc[df[\"v3\"] ==\"0\", \"v3\"]  = \"D\"\n",
    "df[\"v3\"].value_counts()"
   ]
  },
  {
   "cell_type": "code",
   "execution_count": null,
   "metadata": {},
   "outputs": [],
   "source": [
    "# 작업 완료된 데이터프레임 컴퓨터에 파일(csv) 형태로 저장\n",
    "df.to_csv(\"원하는 파일명을 쓰시오.csv\")"
   ]
  },
  {
   "cell_type": "code",
   "execution_count": null,
   "metadata": {},
   "outputs": [],
   "source": [
    "#######################################################################################################################################\n",
    "#                                                                                                                                     #\n",
    "#                                                                                                                                     #                                    \n",
    "#                                                       넘파이 - 데이터 연산 기초                                                       #\n",
    "#                                                                                                                                     #\n",
    "#                                                                                                                                     #\n",
    "#######################################################################################################################################"
   ]
  },
  {
   "cell_type": "code",
   "execution_count": 3,
   "metadata": {},
   "outputs": [],
   "source": [
    "# 필요 라이브러리 불러오기\n",
    "import pandas as pd\n",
    "import numpy as np"
   ]
  },
  {
   "cell_type": "code",
   "execution_count": null,
   "metadata": {},
   "outputs": [],
   "source": [
    "'''\n",
    "\n",
    "넘파이(Numpy)는 Python에서 벡터, 행렬(matrix) 등 수치 연산을 수행하는 라이브러리입니다.           \n",
    "내부적으로 C언어로 구현되어 있어 빠른 연산 속도를 자랑합니다.\n",
    "\n",
    "넘파이에서는 모든 배열의 값이 기본적으로 같은 타입이어야 합니다.\n",
    "그리고 넘파이에서는 각 차원(Dimension)을 축(axis)라고 표현합니다.\n",
    "\n",
    "3D Space의 포인트를 [1,2,1] 과 같은 배열(array)로 표현가능 한데, 1개의 축을 가진다고 표현합니다.\n",
    "(여기서 축은 3개의 요소(Element)를 가지고 있다고 하며 길이(Length)도 3입니다.)\n",
    "\n",
    "넘파이에서 배열은 ndarray 또는 array라고도 부릅니다. \n",
    "\n",
    "\n",
    "\n",
    "Vector are implemented as dynamic arrays with list interface \n",
    "whereas arrays can be implemented as statically or dynamically with primitive data type interface. \n",
    "Size of arrays are fixed whereas the vectors are resizable \n",
    "i.e they can grow and shrink as vectors are allocated on heap memory.\n",
    "\n",
    "'''"
   ]
  },
  {
   "cell_type": "code",
   "execution_count": null,
   "metadata": {},
   "outputs": [],
   "source": [
    "##################################################################################################### array create test"
   ]
  },
  {
   "cell_type": "code",
   "execution_count": 40,
   "metadata": {},
   "outputs": [
    {
     "output_type": "execute_result",
     "data": {
      "text/plain": [
       "array([ 0,  1,  2,  3,  4,  5,  6,  7,  8,  9, 10, 11, 12, 13, 14, 15, 16,\n",
       "       17, 18, 19])"
      ]
     },
     "metadata": {},
     "execution_count": 40
    }
   ],
   "source": [
    "# array 생성\n",
    "array_test = np.arange(20)\n",
    "array_test"
   ]
  },
  {
   "cell_type": "code",
   "execution_count": 65,
   "metadata": {},
   "outputs": [
    {
     "output_type": "execute_result",
     "data": {
      "text/plain": [
       "[0, 1, 2, 3, 4, 5, 6, 7, 8, 9, 10, 11, 12, 13, 14, 15, 16, 17, 18, 19]"
      ]
     },
     "metadata": {},
     "execution_count": 65
    }
   ],
   "source": [
    "# list 생성\n",
    "list_test = list(range(0,20))\n",
    "test"
   ]
  },
  {
   "cell_type": "code",
   "execution_count": 66,
   "metadata": {},
   "outputs": [
    {
     "output_type": "execute_result",
     "data": {
      "text/plain": [
       "array([ 0,  1,  2,  3,  4,  5,  6,  7,  8,  9, 10, 11, 12, 13, 14, 15, 16,\n",
       "       17, 18, 19])"
      ]
     },
     "metadata": {},
     "execution_count": 66
    }
   ],
   "source": [
    "# list를 array형태로 변경\n",
    "np.array(list_test)"
   ]
  },
  {
   "cell_type": "code",
   "execution_count": null,
   "metadata": {},
   "outputs": [],
   "source": [
    "##################################################################################################### array reshape test"
   ]
  },
  {
   "cell_type": "code",
   "execution_count": 47,
   "metadata": {},
   "outputs": [
    {
     "output_type": "execute_result",
     "data": {
      "text/plain": [
       "array([[[ 0,  1,  2,  3,  4],\n",
       "        [ 5,  6,  7,  8,  9]],\n",
       "\n",
       "       [[10, 11, 12, 13, 14],\n",
       "        [15, 16, 17, 18, 19]]])"
      ]
     },
     "metadata": {},
     "execution_count": 47
    }
   ],
   "source": [
    "# reshape 예제 1\n",
    "array_test.reshape(2,2,5)"
   ]
  },
  {
   "cell_type": "code",
   "execution_count": 48,
   "metadata": {},
   "outputs": [
    {
     "output_type": "execute_result",
     "data": {
      "text/plain": [
       "array([[[ 0,  1],\n",
       "        [ 2,  3],\n",
       "        [ 4,  5],\n",
       "        [ 6,  7],\n",
       "        [ 8,  9]],\n",
       "\n",
       "       [[10, 11],\n",
       "        [12, 13],\n",
       "        [14, 15],\n",
       "        [16, 17],\n",
       "        [18, 19]]])"
      ]
     },
     "metadata": {},
     "execution_count": 48
    }
   ],
   "source": [
    "# reshape 예제 2\n",
    "array_test.reshape(2,5,2)"
   ]
  },
  {
   "cell_type": "code",
   "execution_count": 107,
   "metadata": {},
   "outputs": [
    {
     "output_type": "stream",
     "name": "stdout",
     "text": [
      "2차원:\n\n[[[ 0  1]\n  [ 2  3]\n  [ 4  5]\n  [ 6  7]\n  [ 8  9]]\n\n [[10 11]\n  [12 13]\n  [14 15]\n  [16 17]\n  [18 19]]]\n\n\n1차원으로 변경:\n\n[ 0  1  2  3  4  5  6  7  8  9 10 11 12 13 14 15 16 17 18 19]\n"
     ]
    }
   ],
   "source": [
    "## reshape 예제 3\n",
    "# 2차원 array 생성\n",
    "array_test_2d = array_test.reshape(2,5,2)\n",
    "print(\"2차원:\\n\")\n",
    "print(array_test_2d)\n",
    "\n",
    "print(\"\\n\")\n",
    "\n",
    "# 2차원 array형태의 데이터를 1차원으로 다시 변경\n",
    "print(\"1차원으로 변경:\\n\")\n",
    "print(array_test_2d.ravel())"
   ]
  },
  {
   "cell_type": "code",
   "execution_count": null,
   "metadata": {},
   "outputs": [],
   "source": [
    "##################################################################################################### array shape check\n",
    "'''\n",
    "Data Check:\n",
    "\n",
    "ndarray.shape : 배열의 각 축(axis)의 크기\n",
    "ndarray.ndim : 축의 개수(Dimension)\n",
    "ndarray.dtype : 각 요소(Element)의 타입\n",
    "ndarray.itemsize : 각 요소(Element)의 타입의 bytes 크기\n",
    "ndarray.size : 전체 요소(Element)의 개수\n",
    "'''"
   ]
  },
  {
   "cell_type": "code",
   "execution_count": 58,
   "metadata": {},
   "outputs": [
    {
     "output_type": "stream",
     "name": "stdout",
     "text": [
      "shape: (2, 2, 5)\nndim: 3\ndtype: int32\nitemsize: 4\nsize: 20\n"
     ]
    }
   ],
   "source": [
    "# shape 확인 예제 1\n",
    "print(\"shape:\", array_test.reshape(2,2,5).shape)\n",
    "print(\"ndim:\", array_test.reshape(2,2,5).ndim)\n",
    "print(\"dtype:\", array_test.reshape(2,2,5).dtype)\n",
    "print(\"itemsize:\", array_test.reshape(2,2,5).itemsize)\n",
    "print(\"size:\", array_test.reshape(2,2,5).size)"
   ]
  },
  {
   "cell_type": "code",
   "execution_count": 59,
   "metadata": {},
   "outputs": [
    {
     "output_type": "stream",
     "name": "stdout",
     "text": [
      "shape: (2, 5, 2)\nndim: 3\ndtype: int32\nitemsize: 4\nsize: 20\n"
     ]
    }
   ],
   "source": [
    "# shape 확인 예제 2\n",
    "print(\"shape:\", array_test.reshape(2,5,2).shape)\n",
    "print(\"ndim:\", array_test.reshape(2,5,2).ndim)\n",
    "print(\"dtype:\", array_test.reshape(2,5,2).dtype)\n",
    "print(\"itemsize:\", array_test.reshape(2,5,2).itemsize)\n",
    "print(\"size:\", array_test.reshape(2,5,2).size)"
   ]
  },
  {
   "cell_type": "code",
   "execution_count": null,
   "metadata": {},
   "outputs": [],
   "source": [
    "##################################################################################################### Basic Calculation"
   ]
  },
  {
   "cell_type": "code",
   "execution_count": 118,
   "metadata": {},
   "outputs": [
    {
     "output_type": "stream",
     "name": "stdout",
     "text": [
      "a_array: [0 1 2 3]\nb_array: [4 5 6 7]\na+b_array: [ 4  6  8 10]\n"
     ]
    }
   ],
   "source": [
    "# 연산 예제 - 1차원 (1)\n",
    "\n",
    "# a_array 생성\n",
    "a = np.arange(4)\n",
    "print(\"a_array:\", a)\n",
    "\n",
    "# b_array 생성\n",
    "b = np.arange(4,8)\n",
    "print(\"b_array:\", b)\n",
    "\n",
    "# a + b 연산\n",
    "print(\"a+b_array:\", a+b)"
   ]
  },
  {
   "cell_type": "code",
   "execution_count": 84,
   "metadata": {},
   "outputs": [
    {
     "output_type": "stream",
     "name": "stdout",
     "text": [
      "original_1d: [0 1 2 3 4 5 6 7 8 9]\noriginal_1d +1: [ 1  2  3  4  5  6  7  8  9 10]\noriginal_1d *2: [ 0  2  4  6  8 10 12 14 16 18]\noriginal_1d **2: [ 0  1  4  9 16 25 36 49 64 81]\n"
     ]
    }
   ],
   "source": [
    "## 연산 예제 - 1차원 (2)\n",
    "\n",
    "# data 생성\n",
    "test_calc_1d = np.arange(10)\n",
    "\n",
    "# 연산\n",
    "print(\"original_1d:\", test_calc_1d)\n",
    "print(\"original_1d +1:\", test_calc_1d + 1)\n",
    "print(\"original_1d *2:\", test_calc_1d * 2)\n",
    "print(\"original_1d **2:\", test_calc_1d**2)"
   ]
  },
  {
   "cell_type": "code",
   "execution_count": 92,
   "metadata": {},
   "outputs": [
    {
     "output_type": "stream",
     "name": "stdout",
     "text": [
      "Original_2d:\n [[[0 1 2 3]]\n\n [[4 5 6 7]]]\n\n\nOriginal_2d +1:\n [[[1 2 3 4]]\n\n [[5 6 7 8]]]\n\n\nOriginal_2d *2:\n [[[ 0  2  4  6]]\n\n [[ 8 10 12 14]]]\n\n\nOriginal_2d **2:\n [[[ 0  1  4  9]]\n\n [[16 25 36 49]]]\n"
     ]
    }
   ],
   "source": [
    "## 연산 예제 - 2차원\n",
    "\n",
    "# data 생성\n",
    "test_calc_2d = np.arange(8).reshape(2,1,4)\n",
    "\n",
    "# 연산\n",
    "print(\"Original_2d:\\n\", test_calc_2d)\n",
    "print(\"\\n\")\n",
    "print(\"Original_2d +1:\\n\", test_calc_2d + 1)\n",
    "print(\"\\n\")\n",
    "print(\"Original_2d *2:\\n\", test_calc_2d * 2)\n",
    "print(\"\\n\")\n",
    "print(\"Original_2d **2:\\n\", test_calc_2d**2)"
   ]
  },
  {
   "cell_type": "code",
   "execution_count": 136,
   "metadata": {},
   "outputs": [
    {
     "output_type": "stream",
     "name": "stdout",
     "text": [
      "Array: [5 6 7 8 9]\nmin: 5\nmax: 9\nmean: 7.0\nmedian: 7.0\nquantile 25%: 6.0\n"
     ]
    }
   ],
   "source": [
    "## min, max, mean, median, & quantile 연산\n",
    "\n",
    "# array 생성\n",
    "stat_test = np.arange(5,10)\n",
    "\n",
    "# 연산 \n",
    "print(\"Array:\", stat_test)\n",
    "print(\"min:\", np.min(stat_test))\n",
    "print(\"max:\", np.max(stat_test))\n",
    "print(\"mean:\", np.mean(stat_test))\n",
    "print(\"median:\", np.median(stat_test))\n",
    "print(\"quantile 25%:\", np.quantile(stat_test, 0.25)) # (0, 0.25, 0.5, 0.75, 1.0)"
   ]
  },
  {
   "cell_type": "code",
   "execution_count": null,
   "metadata": {},
   "outputs": [],
   "source": []
  }
 ]
}