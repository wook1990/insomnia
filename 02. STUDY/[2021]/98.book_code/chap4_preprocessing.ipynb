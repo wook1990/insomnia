{
    "cells": [
        {
            "cell_type": "code",
            "execution_count": 188,
            "source": [
                "import pandas \r\n",
                "import numpy\r\n",
                "import datetime\r\n",
                "import missingno\r\n",
                "import seaborn\r\n",
                "import warnings\r\n",
                "import matplotlib.pyplot as plt\r\n",
                "\r\n",
                "warnings.filterwarnings(action=\"ignore\")\r\n",
                "# 데이터 경로\r\n",
                "PATH = \"C:/Users/WAI/OneDrive/03.WORKSPACE/00.DATA/99.KAGGLE/insurance/\"\r\n",
                "\r\n",
                "# 데이터 명\r\n",
                "DATA_NAME = \"14. Learning from Imbalaced Insurance Data/aug_train_mod.csv\"\r\n"
            ],
            "outputs": [],
            "metadata": {}
        },
        {
            "cell_type": "code",
            "execution_count": 177,
            "source": [
                "df = pandas.read_csv(PATH + DATA_NAME, index_col=False)\r\n",
                "# 실습을 위해 birth_date datetime으로 형변환\r\n",
                "df[\"birth_date\"]= pandas.to_datetime(df[\"birth_date\"], format=\"%Y-%m-%d\")\r\n",
                "df[\"insure_date\"] = df[\"insure_date\"].apply(str)\r\n",
                "\r\n"
            ],
            "outputs": [],
            "metadata": {}
        },
        {
            "cell_type": "code",
            "execution_count": 178,
            "source": [
                "# 데이터 형변환\r\n",
                "# dataframe dtypes을 사용하여 전체 컬럼의 데이터 타입을 확인\r\n",
                "print(\"birth Date type : {}\".format(df[\"birth_date\"].dtypes))\r\n",
                "print(df[\"birth_date\"].head(1))\r\n",
                "# i) 문자형변환\r\n",
                "# 컬럼중 birth_date 는 datetime 형식인것을 확인할 수 있다\r\n",
                "# birth_date를 문자형으로 변환해보겠습니다.\r\n",
                "df[\"birth_date\"] = df[\"birth_date\"].apply(lambda x : x.strftime('%Y%m%d'))\r\n",
                "print(\"birth Date type : {}\".format(df[\"birth_date\"].dtypes))\r\n",
                "print(df[\"birth_date\"].head(1))\r\n"
            ],
            "outputs": [
                {
                    "output_type": "stream",
                    "name": "stdout",
                    "text": [
                        "birth Date type : datetime64[ns]\n",
                        "0   1997-08-09\n",
                        "Name: birth_date, dtype: datetime64[ns]\n",
                        "birth Date type : object\n",
                        "0    19970809\n",
                        "Name: birth_date, dtype: object\n"
                    ]
                }
            ],
            "metadata": {}
        },
        {
            "cell_type": "code",
            "execution_count": 179,
            "source": [
                "\r\n",
                "# ii) 수치형변환\r\n",
                "# Male 과 Female로 되어있는 성별 변수를 수치형으로 변환\r\n",
                "# Male = 0으로 Female = 1로변경\r\n",
                "df[\"Gender\"][(df['Gender'] == 0 )]= 'Male' \r\n",
                "df[\"Gender\"][(df['Gender'] == 1 )]= 'Female'\r\n",
                "print(\"Gender columnd dtype : {}\".format(df[\"Gender\"].dtypes))\r\n",
                "print(df[\"Gender\"].head(1))\r\n",
                "df[\"Gender\"][(df['Gender'] == 'Male')]= 0 \r\n",
                "df[\"Gender\"][(df['Gender'] == 'Female')]= 1\r\n",
                "df['Gender'] = df['Gender'].apply(int)\r\n",
                "print(\"Gender columnd dtype : {}\".format(df[\"Gender\"].dtypes))\r\n",
                "print(df[\"Gender\"].head(1))\r\n",
                "\r\n"
            ],
            "outputs": [
                {
                    "output_type": "stream",
                    "name": "stdout",
                    "text": [
                        "Gender columnd dtype : object\n",
                        "0    Male\n",
                        "Name: Gender, dtype: object\n",
                        "Gender columnd dtype : int64\n",
                        "0    0\n",
                        "Name: Gender, dtype: int64\n"
                    ]
                }
            ],
            "metadata": {}
        },
        {
            "cell_type": "code",
            "execution_count": 180,
            "source": [
                "# iii) 날짜형 변환\r\n",
                "# insure_date 는 문자형으로 이루어진 날짜데이터입니다\r\n",
                "# 문자형 날짜를 datetime형식으로 변환해보도록 하겠습니다.\r\n",
                "print(\"insure date column dtype : {} \".format(df[\"insure_date\"].dtypes))\r\n",
                "print(df[\"insure_date\"].head(1))\r\n",
                "df[\"insure_date\"] = pandas.to_datetime(df[\"insure_date\"], format='%Y-%m-%d')\r\n",
                "print(\"insure date column dtype : {} \".format(df[\"insure_date\"].dtypes))\r\n",
                "print(df[\"insure_date\"].head(1))\r\n"
            ],
            "outputs": [
                {
                    "output_type": "stream",
                    "name": "stdout",
                    "text": [
                        "insure date column dtype : object \n",
                        "0    20000106\n",
                        "Name: insure_date, dtype: object\n",
                        "insure date column dtype : datetime64[ns] \n",
                        "0   2000-01-06\n",
                        "Name: insure_date, dtype: datetime64[ns]\n"
                    ]
                }
            ],
            "metadata": {}
        },
        {
            "cell_type": "code",
            "execution_count": 181,
            "source": [
                "# 결측치 이상치 보정\r\n",
                "\r\n",
                "# i) 결측치\r\n",
                "\r\n",
                "# 결측치 확인\r\n",
                "colours = ['#000099','#ffff00']\r\n",
                "seaborn.heatmap(df.isnull(), cmap=seaborn.color_palette(colours))\r\n",
                "\r\n",
                "# 결측건수 확인\r\n",
                "print(\"-----------------------------\")\r\n",
                "print(df.isnull().sum())\r\n",
                "\r\n",
                "# 결측치 비율확인\r\n",
                "print(\"-----------------------------\")\r\n",
                "for col in iter(df.columns):\r\n",
                "    pct_missing = numpy.mean(df[col].isnull())\r\n",
                "    print(\"{0} : {1}%\".format(col, round(pct_missing * 100,5)))\r\n",
                "\r\n",
                "# Age, Driving_License, Annual_premium, Vintage 네 개의 컬럼에 결측치가 존재하는 것을 확인할 수 있다.\r\n",
                "\r\n",
                "\r\n"
            ],
            "outputs": [
                {
                    "output_type": "stream",
                    "name": "stdout",
                    "text": [
                        "-----------------------------\n",
                        "id                          0\n",
                        "Gender                      0\n",
                        "Age                     26750\n",
                        "Driving_License          1910\n",
                        "Region_Code                 0\n",
                        "Previously_Insured          0\n",
                        "Vehicle_Age                 0\n",
                        "Vehicle_Damage              0\n",
                        "Annual_Premium            382\n",
                        "Policy_Sales_Channel        0\n",
                        "Vintage                  1146\n",
                        "Response                    0\n",
                        "birth_date                  0\n",
                        "insure_date                 0\n",
                        "dtype: int64\n",
                        "-----------------------------\n",
                        "id : 0.0%\n",
                        "Gender : 0.0%\n",
                        "Age : 6.9998%\n",
                        "Driving_License : 0.4998%\n",
                        "Region_Code : 0.0%\n",
                        "Previously_Insured : 0.0%\n",
                        "Vehicle_Age : 0.0%\n",
                        "Vehicle_Damage : 0.0%\n",
                        "Annual_Premium : 0.09996%\n",
                        "Policy_Sales_Channel : 0.0%\n",
                        "Vintage : 0.29988%\n",
                        "Response : 0.0%\n",
                        "birth_date : 0.0%\n",
                        "insure_date : 0.0%\n"
                    ]
                },
                {
                    "output_type": "display_data",
                    "data": {
                        "text/plain": [
                            "<Figure size 432x288 with 2 Axes>"
                        ],
                        "image/png": "[encoded data removed]"
                    },
                    "metadata": {
                        "needs_background": "light"
                    }
                }
            ],
            "metadata": {}
        },
        {
            "cell_type": "code",
            "execution_count": 182,
            "source": [
                "# 결측치 처리\r\n",
                "\r\n",
                "# 1) 결측치가 존재하는 관측치 삭제\r\n",
                "# Annual_Premium의 결칙치 비율은 0.1% 미만이므로 존재하는 관측치 제거\r\n",
                "df_mod = df.dropna(subset=[\"Annual_Premium\"],axis = 0)\r\n",
                "print(\"결측관측치 제거전 : {} 건, 제거후 : {}\".format(len(df),len(df_mod)))\r\n",
                "\r\n",
                "# 2) 결측치 보정 \r\n",
                "# Driving_License 의 Value Count 확인 \r\n",
                "print(\"Driving License 관측치 값 : \\n {}\".format(df_mod[\"Driving_License\"].value_counts()))\r\n",
                "# Driving License의 값은 대부분의 값을 가지고 있고, 자동차 보험관련된 데이터 이기 때문에 \r\n",
                "# 결측치의 값을 1올 대체\r\n",
                "df_mod[\"Driving_License\"] = df_mod[\"Driving_License\"].fillna(1)\r\n",
                "# Age,  Vintage 의 평균값을 사용하여 Null 값 보정\r\n",
                "df_mod[\"Age\"] = df_mod[\"Age\"].fillna(df_mod[\"Age\"].mean())\r\n",
                "df_mod[\"Vintage\"] = df_mod[\"Vintage\"].fillna(df_mod[\"Vintage\"].mean())\r\n",
                "\r\n",
                "# 보정되었는지 결과 확인\r\n",
                "print(\"---------------------------------\")\r\n",
                "print(\"결측치 보정 결과 \")\r\n",
                "print(df_mod.isnull().sum())\r\n"
            ],
            "outputs": [
                {
                    "output_type": "stream",
                    "name": "stdout",
                    "text": [
                        "결측관측치 제거전 : 382154 건, 제거후 : 381772\n",
                        "Driving License 관측치 값 : \n",
                        " 1.0    379146\n",
                        "0.0       719\n",
                        "Name: Driving_License, dtype: int64\n",
                        "---------------------------------\n",
                        "결측치 보정 결과 \n",
                        "id                      0\n",
                        "Gender                  0\n",
                        "Age                     0\n",
                        "Driving_License         0\n",
                        "Region_Code             0\n",
                        "Previously_Insured      0\n",
                        "Vehicle_Age             0\n",
                        "Vehicle_Damage          0\n",
                        "Annual_Premium          0\n",
                        "Policy_Sales_Channel    0\n",
                        "Vintage                 0\n",
                        "Response                0\n",
                        "birth_date              0\n",
                        "insure_date             0\n",
                        "dtype: int64\n"
                    ]
                }
            ],
            "metadata": {}
        },
        {
            "cell_type": "code",
            "execution_count": 197,
            "source": [
                "# ii) 이상치\r\n",
                "# 이상치 확인\r\n",
                "# 데이터의 기초통계량을 확인하여 이상치 포함 여부를 판단\r\n",
                "print(df_mod.describe())\r\n",
                "# Annual_Premium, Policy_Sales_Channel 세 컬럼에서 평균을 크게 벗어난 값이 있는 것을 확인할 수 있음\r\n",
                "# 시각화 자료를 사용하여 이상치 확인\r\n",
                "'''\r\n",
                "plt.figure(figsize=(10,10))\r\n",
                "plt.subplot(1,3,1)\r\n",
                "plt.boxplot(df[\"Annual_Premium\"],  sym=\"bo\") \r\n",
                "plt.subplot(1,3,2)\r\n",
                "plt.boxplot(df[\"Policy_Sales_Channel\"],  sym=\"bo\") \r\n",
                "plt.subplot(1,3,3)\r\n",
                "plt.boxplot(df[\"Vintage\"],  sym=\"bo\") \r\n",
                "'''\r\n",
                "df_mod.boxplot(column = [\"Annual_Premium\"])\r\n",
                "plt.show()\r\n",
                "df_mod.boxplot(column = [\"Policy_Sales_Channel\"])\r\n",
                "plt.show()\r\n",
                "df_mod.boxplot(column = [\"Vintage\"])\r\n",
                "plt.show()\r\n",
                "\r\n",
                "# 범위를 벗어나는 이상치가 존재하는 것을 알 수 있다. "
            ],
            "outputs": [
                {
                    "output_type": "stream",
                    "name": "stdout",
                    "text": [
                        "                  id         Gender            Age  Driving_License  \\\n",
                        "count  381772.000000  381772.000000  381772.000000    381772.000000   \n",
                        "mean   234391.906811       0.461969      38.535247         0.998117   \n",
                        "std    139527.680847       0.498552      14.680680         0.043356   \n",
                        "min         1.000000       0.000000      20.000000         0.000000   \n",
                        "25%    115008.750000       0.000000      25.000000         1.000000   \n",
                        "50%    230461.500000       0.000000      38.000000         1.000000   \n",
                        "75%    345433.250000       1.000000      48.000000         1.000000   \n",
                        "max    508145.000000       1.000000      85.000000         1.000000   \n",
                        "\n",
                        "         Region_Code  Previously_Insured  Annual_Premium  \\\n",
                        "count  381772.000000       381772.000000   381772.000000   \n",
                        "mean       26.407607            0.489148    30711.275397   \n",
                        "std        13.181450            0.499883    17063.441319   \n",
                        "min         0.000000            0.000000     2630.000000   \n",
                        "25%        15.000000            0.000000    24544.000000   \n",
                        "50%        28.000000            0.000000    31691.000000   \n",
                        "75%        35.000000            1.000000    39448.000000   \n",
                        "max        52.000000            1.000000   540165.000000   \n",
                        "\n",
                        "       Policy_Sales_Channel        Vintage       Response  \n",
                        "count         381772.000000  381772.000000  381772.000000  \n",
                        "mean             113.377898     154.223555       0.163799  \n",
                        "std               84.343236      84.606736       0.370094  \n",
                        "min                1.000000      10.000000       0.000000  \n",
                        "25%               26.000000      82.000000       0.000000  \n",
                        "50%              145.000000     154.000000       0.000000  \n",
                        "75%              152.000000     227.000000       0.000000  \n",
                        "max             2999.000000    4778.000000       1.000000  \n"
                    ]
                },
                {
                    "output_type": "display_data",
                    "data": {
                        "text/plain": [
                            "<Figure size 432x288 with 1 Axes>"
                        ],
                        "image/png": "[encoded data removed]"
                    },
                    "metadata": {
                        "needs_background": "light"
                    }
                },
                {
                    "output_type": "display_data",
                    "data": {
                        "text/plain": [
                            "<Figure size 432x288 with 1 Axes>"
                        ],
                        "image/png": "[encoded data removed]"
                    },
                    "metadata": {
                        "needs_background": "light"
                    }
                },
                {
                    "output_type": "display_data",
                    "data": {
                        "text/plain": [
                            "<Figure size 432x288 with 1 Axes>"
                        ],
                        "image/png": "[encoded data removed]"
                    },
                    "metadata": {
                        "needs_background": "light"
                    }
                }
            ],
            "metadata": {}
        },
        {
            "cell_type": "code",
            "execution_count": 250,
            "source": [
                "# 이상치 처리\r\n",
                "print(df_mod[[\"Annual_Premium\", \"Policy_Sales_Channel\", \"Vintage\"]].describe())\r\n",
                "# i) 이상치 관측치 제거\r\n",
                "# Vintage와 Policy_Sales_Channel의 bob plot을 보면 특정 데이터에만 이상치가 존재하는 것을 확인할 수 있습니다.\r\n",
                "# max값으로 잡힌 관측치를 이상치라 판단하고 제거합니다.\r\n",
                "# 이상치가 존재하는 index 확인\r\n",
                "df_mod = df_mod.loc[df_mod[\"Policy_Sales_Channel\"] != df_mod[\"Policy_Sales_Channel\"].max()]\r\n",
                "df_mod = df_mod.loc[df_mod[\"Vintage\"] != df_mod[\"Vintage\"].max()]\r\n",
                "print(\"------------------------ 이상치 제거 ------------------------\")\r\n",
                "print(df_mod[[\"Annual_Premium\", \"Policy_Sales_Channel\", \"Vintage\"]].describe())\r\n",
                "# ii) 평균값으로 보정\r\n",
                "df_mod.loc[(df_mod[\"Annual_Premium\"] > 42359),\"Annual_Premium\"] = df_mod[\"Annual_Premium\"].mean()\r\n",
                "\r\n",
                "print(\"------------------------ 이상치 보정 ------------------------\")\r\n",
                "print(df_mod[[\"Annual_Premium\", \"Policy_Sales_Channel\", \"Vintage\"]].describe())\r\n",
                "\r\n",
                "df_mod.to_csv(PATH + \"14. Learning from Imbalaced Insurance Data/aug_train_mod_2.csv\", index=False)\r\n"
            ],
            "outputs": [
                {
                    "output_type": "stream",
                    "name": "stdout",
                    "text": [
                        "       Annual_Premium  Policy_Sales_Channel        Vintage\n",
                        "count   178108.000000         178108.000000  178108.000000\n",
                        "mean     27856.525201             70.273239     144.727945\n",
                        "std      11782.435745             49.262947      78.123439\n",
                        "min       2630.000000              1.000000      10.000000\n",
                        "25%      26294.000000             26.000000      77.000000\n",
                        "50%      32901.909565             26.000000     145.000000\n",
                        "75%      34021.000000            124.000000     212.000000\n",
                        "max      42359.000000            138.000000     280.000000\n",
                        "------------------------ 이상치 제거 ------------------------\n",
                        "       Annual_Premium  Policy_Sales_Channel        Vintage\n",
                        "count   177355.000000         177355.000000  177355.000000\n",
                        "mean     27857.988969             70.230673     144.259045\n",
                        "std      11781.405474             49.248534      77.842845\n",
                        "min       2630.000000              1.000000      10.000000\n",
                        "25%      26294.000000             26.000000      77.000000\n",
                        "50%      32901.909565             26.000000     144.000000\n",
                        "75%      34021.000000            124.000000     212.000000\n",
                        "max      42359.000000            137.000000     279.000000\n",
                        "------------------------ 이상치 보정 ------------------------\n",
                        "       Annual_Premium  Policy_Sales_Channel        Vintage\n",
                        "count   177355.000000         177355.000000  177355.000000\n",
                        "mean     27857.988969             70.230673     144.259045\n",
                        "std      11781.405474             49.248534      77.842845\n",
                        "min       2630.000000              1.000000      10.000000\n",
                        "25%      26294.000000             26.000000      77.000000\n",
                        "50%      32901.909565             26.000000     144.000000\n",
                        "75%      34021.000000            124.000000     212.000000\n",
                        "max      42359.000000            137.000000     279.000000\n"
                    ]
                }
            ],
            "metadata": {}
        },
        {
            "cell_type": "code",
            "execution_count": 249,
            "source": [
                "# 데이터 결함\r\n",
                "# \r\n",
                "# i) join\r\n",
                "df_1 = pandas.DataFrame({'key' : ['K0', 'K1', 'K2', 'K3', 'K4', 'K5'],\r\n",
                "                      'A' :['A0', 'A1', 'A2', 'A3', 'A4', 'A5']})\r\n",
                "            \r\n",
                "df_2 = pandas.DataFrame({'key' : ['K0', 'K1', 'K2'],\r\n",
                "\t\t\t          'B' : ['B0', 'B1', 'B2']})\r\n",
                "\r\n",
                "\r\n",
                "df_1.set_index('key', inplace=True)\r\n",
                "df_2.set_index('key',inplace = True)\r\n",
                "\r\n",
                "# 1) join \r\n",
                "print(\"---- Left Join ----\")\r\n",
                "print(df_1.join(df_2, how = 'left'))\r\n",
                "print(\"---- Right Join ----\")\r\n",
                "print(df_1.join(df_2, how = 'right'))\r\n",
                "print(\"---- Inner Join ----\")\r\n",
                "print(df_1.join(df_2, how = 'inner'))\r\n",
                "print(\"---- Outer Join ----\")\r\n",
                "print(df_1.join(df_2, how = 'outer'))\r\n",
                "\r\n",
                "# ii) concat\r\n",
                "\r\n",
                "print(\"---- Concat Row ----\")\r\n",
                "print(pandas.concat([df_1, df_2], axis = 0))\r\n",
                "print(\"---- Concat column ----\")\r\n",
                "print(pandas.concat([df_1, df_2], axis = 1))"
            ],
            "outputs": [
                {
                    "output_type": "stream",
                    "name": "stdout",
                    "text": [
                        "---- Left Join ----\n",
                        "      A    B\n",
                        "key         \n",
                        "K0   A0   B0\n",
                        "K1   A1   B1\n",
                        "K2   A2   B2\n",
                        "K3   A3  NaN\n",
                        "K4   A4  NaN\n",
                        "K5   A5  NaN\n",
                        "---- Right Join ----\n",
                        "      A   B\n",
                        "key        \n",
                        "K0   A0  B0\n",
                        "K1   A1  B1\n",
                        "K2   A2  B2\n",
                        "---- Inner Join ----\n",
                        "      A   B\n",
                        "key        \n",
                        "K0   A0  B0\n",
                        "K1   A1  B1\n",
                        "K2   A2  B2\n",
                        "---- Outer Join ----\n",
                        "      A    B\n",
                        "key         \n",
                        "K0   A0   B0\n",
                        "K1   A1   B1\n",
                        "K2   A2   B2\n",
                        "K3   A3  NaN\n",
                        "K4   A4  NaN\n",
                        "K5   A5  NaN\n",
                        "---- Concat Row ----\n",
                        "       A    B\n",
                        "key          \n",
                        "K0    A0  NaN\n",
                        "K1    A1  NaN\n",
                        "K2    A2  NaN\n",
                        "K3    A3  NaN\n",
                        "K4    A4  NaN\n",
                        "K5    A5  NaN\n",
                        "K0   NaN   B0\n",
                        "K1   NaN   B1\n",
                        "K2   NaN   B2\n",
                        "---- Concat column ----\n",
                        "      A    B\n",
                        "key         \n",
                        "K0   A0   B0\n",
                        "K1   A1   B1\n",
                        "K2   A2   B2\n",
                        "K3   A3  NaN\n",
                        "K4   A4  NaN\n",
                        "K5   A5  NaN\n"
                    ]
                }
            ],
            "metadata": {}
        },
        {
            "cell_type": "code",
            "execution_count": null,
            "source": [],
            "outputs": [],
            "metadata": {}
        }
    ],
    "metadata": {
        "orig_nbformat": 4,
        "language_info": {
            "name": "python",
            "version": "3.7.10",
            "mimetype": "text/x-python",
            "codemirror_mode": {
                "name": "ipython",
                "version": 3
            },
            "pygments_lexer": "ipython3",
            "nbconvert_exporter": "python",
            "file_extension": ".py"
        },
        "kernelspec": {
            "name": "python3",
            "display_name": "Python 3.7.10 64-bit ('analysis': conda)"
        },
        "interpreter": {
            "hash": "b93001225728b99e51adba9f8af0e0d4fa33af88688185137188ede2401578f5"
        }
    },
    "nbformat": 4,
    "nbformat_minor": 2
}