{
    "cells": [
        {
            "cell_type": "markdown",
            "source": [
                "## Scipy\r\n",
                " - 과학 및 수학 문제를 해결하는데 사용되는 파이썬 라이브러리\r\n",
                " - Numpy 확장을 기반으로하기 때문에 ndarray를 기본 자료형으로 사용하며, 사용자가 다양한 고급 명령으로 데이터를 조작하고 시각화가 가능\r\n",
                " - 특수 함수, 최적화를 비롯한 다양한 고급 수학 함수들을 제공하여 과학적 프로그래밍을 완전히 다른 수준에서 수행 할 수 있음\r\n",
                " - scipy 에는 통계, 상수값, 수학함수, 선형대수, 보간법, 최적화, Fast Fuurier transforms등의 모듈을 가지고 있다.\r\n",
                " \r\n",
                " #### Timing\r\n",
                " - 과학기술계산 연산은 계싼 속도가 중요한 척도이다.\r\n",
                " - 작업이 수행된 시간을 CPU Time 과 Wall Time으로 구분한다. \r\n",
                " - CPU Time 은 작업을 수행한 프로세서의 시간을 합한 시간이고, Wall Time은 작업을 수행한 시간을 의미한다.\r\n",
                "\r\n",
                "[참고자료](https://namyoungkim.github.io/python/scipy/2017/10/09/scipy/) scipy\r\n"
            ],
            "metadata": {}
        },
        {
            "cell_type": "code",
            "execution_count": 1,
            "source": [
                "# Timming 계산\r\n",
                "\r\n",
                "import numpy as np\r\n",
                "import scipy.linalg as linalg\r\n",
                "import time\r\n",
                "\r\n",
                "A = np.random.random(size=(10000,10000))\r\n",
                "\r\n",
                "cpuTime   = time.process_time()    # CPU time\r\n",
                "wallTime1 = time.perf_counter()   # wall time\r\n",
                "wallTime2 = time.time()            # wall time\r\n",
                "\r\n",
                "linalg.norm(A)\r\n",
                "\r\n",
                "cpuTime   = time.process_time()-cpuTime     # CPU time\r\n",
                "wallTime1 = time.perf_counter()-wallTime1   # wall time\r\n",
                "wallTime2 = time.time()-wallTime2           # wall time\r\n",
                "\r\n",
                "print('cpuTime : ', cpuTime)\r\n",
                "print('wallTime1 : ',wallTime1)\r\n",
                "print('wallTime2 : ',wallTime2)"
            ],
            "outputs": [
                {
                    "output_type": "stream",
                    "name": "stdout",
                    "text": [
                        "cpuTime :  3.546875\n",
                        "wallTime1 :  4.405017999999999\n",
                        "wallTime2 :  4.405183553695679\n"
                    ]
                }
            ],
            "metadata": {}
        },
        {
            "cell_type": "markdown",
            "source": [
                "#### scipy.stats\r\n",
                "> - scipy에서 지원하는 통계 모듈이다. \r\n",
                "> - Random Variable(확률변수), 확률 밀도 함수, 누적 확률 함수, 샘플 생성, Parameter Estimation 등을 지원한다.\r\n",
                "> - 연속형 변수와 이산형 변수의 다양한 확률 분포를 지원하고\r\n",
                "> - scipy.stats를 사용하려면 seaborn과 함께 import를 해주어야 한다.  \r\n",
                "> [<a href=\"http://docs.scipy.org/doc/scipy/reference/tutorial/stats/continuous.html#continuous-distributions-in-scipy-stats\">Documentation</a>]Scipy 공식 문서\r\n"
            ],
            "metadata": {}
        },
        {
            "cell_type": "code",
            "execution_count": 2,
            "source": [
                "# scipy.stats\r\n",
                "# -*- coding: utf-8 -*-\r\n",
                "\r\n",
                "import scipy as sp\r\n",
                "import seaborn as sns\r\n",
                "import numpy as np\r\n",
                "import matplotlib.pyplot as plt\r\n",
                "%matplotlib inline\r\n",
                "\r\n",
                "# Create Random Variable \r\n",
                "# 평균이 10이고, 표준편차가 10인 정규분포를 따르는 random variable을 만든다.\r\n",
                "rv = sp.stats.norm(loc=1, scale=2)\r\n",
                "# rvs : 샘플생성(size : 생성하려는 샘플의 shape, loc : 일반적으로 평균의 값, scale : 일반적으로 표준편차의 값, random_state : seed 값)\r\n",
                "random_var = rv.rvs(size=(3,10), random_state=1)\r\n",
                "print(\"Random Varliable : \\n {}\".format(random_var))\r\n",
                "\r\n",
                "\r\n",
                "# Probability density function\r\n",
                "# 확률 분포 메소드 \r\n",
                "# pdf(확률밀도함수), pmf(확률질량함수), cdf(누적분포함수), rvs(랜덤샘플생성), stats(기술통계함수), fit(모수추정)\r\n",
                "\r\n",
                "\r\n",
                "\r\n",
                "# 확률 밀도 함수\r\n",
                "xx = np.linspace(-8, 8 ,100)\r\n",
                "pdf = rv.pdf(xx)\r\n",
                "plt.subplot(1, 3, 1)\r\n",
                "plt.plot(xx, pdf)\r\n",
                "plt.title(\"Probability Densicity Function\", size = 15)\r\n",
                "\r\n",
                "\r\n",
                "# 누적 분포 함수\r\n",
                "xx = np.linspace(-8, 8, 100)\r\n",
                "cdf = rv.cdf(xx)\r\n",
                "plt.subplot(1,3,3)\r\n",
                "plt.plot(xx, cdf)\r\n",
                "plt.title(\"Cumulative Distribution Function\", size=15)\r\n",
                "\r\n"
            ],
            "outputs": [
                {
                    "output_type": "stream",
                    "name": "stdout",
                    "text": [
                        "Random Varliable : \n",
                        " [[ 4.24869073 -0.22351283 -0.0563435  -1.14593724  2.73081526 -3.60307739\n",
                        "   4.48962353 -0.5224138   1.63807819  0.50125925]\n",
                        " [ 3.92421587 -3.12028142  0.35516559  0.23189129  3.26753888 -1.19978253\n",
                        "   0.65514358 -0.75571684  1.08442749  2.16563043]\n",
                        " [-1.20123835  3.28944742  2.80318144  2.00498868  2.8017119  -0.36745572\n",
                        "   0.75421955 -0.87153887  0.46422384  2.06071093]]\n"
                    ]
                },
                {
                    "output_type": "execute_result",
                    "data": {
                        "text/plain": [
                            "Text(0.5, 1.0, 'Cumulative Distribution Function')"
                        ]
                    },
                    "metadata": {},
                    "execution_count": 2
                },
                {
                    "output_type": "display_data",
                    "data": {
                        "text/plain": [
                            "<Figure size 432x288 with 2 Axes>"
                        ],
                        "image/png": "[encoded data removed]"
                    },
                    "metadata": {
                        "needs_background": "light"
                    }
                }
            ],
            "metadata": {}
        },
        {
            "cell_type": "markdown",
            "source": [
                "#### 상수(Constants)\r\n",
                "> - 특별상수 π(scipy.pi), 기타상수(scipy.constants.XXXX)로 선언한다.  \r\n",
                "> ---\r\n",
                "> [기타 상수 단위 표현 값]\r\n",
                "> - yotta, zetta, exa, peta, tera, giga, mega, kilo, hecto, deka\r\n",
                "> - deci, centi, milli, micro, nano, pico, femto, atto, zepto\r\n",
                "> - lb, oz, degree\r\n",
                "> - inch, foot, yard, mile, au, light_year, parsec\r\n",
                "> - hectare, acre, gallon\r\n",
                "> - mph, mach, knot "
            ],
            "metadata": {}
        },
        {
            "cell_type": "code",
            "execution_count": 3,
            "source": [
                "print(\"PI 원주율 : {}\".format(sp.pi))\r\n",
                "print(\"C 광속상수 : {}\".format(sp.constants.c))\r\n",
                "print(\"10^24 Yotta : {}\".format(sp.constants.yotta))\r\n",
                "print(\"oz 상수값 : {}\".format(sp.constants.oz))\r\n"
            ],
            "outputs": [
                {
                    "output_type": "stream",
                    "name": "stdout",
                    "text": [
                        "PI 원주율 : 3.141592653589793\n",
                        "C 광속상수 : 299792458.0\n",
                        "10^24 Yotta : 1e+24\n",
                        "oz 상수값 : 0.028349523124999998\n"
                    ]
                }
            ],
            "metadata": {}
        },
        {
            "cell_type": "markdown",
            "source": [
                "#### 수학함수\r\n",
                "> - scipy.special 기능내 Gamma, Beta, Erf, Logit 함수\r\n",
                "> - Bessel, Legendre 함수 지원"
            ],
            "metadata": {}
        },
        {
            "cell_type": "code",
            "execution_count": 6,
            "source": [
                "x = np.linspace(-3, 3, 1000)\r\n",
                "\r\n",
                "# Error Function(오차함수)\r\n",
                "y1 = sp.special.erf(x)\r\n",
                "a = plt.subplot(311)\r\n",
                "plt.plot(x,y1)\r\n",
                "plt.title(\"Error Function\")\r\n",
                "\r\n",
                "# Logistic\r\n",
                "y2 = sp.special.expit(x)\r\n",
                "plt.subplot(313)\r\n",
                "plt.plot(x,y2)\r\n",
                "plt.title(\"Logistic\")\r\n",
                "plt.show()"
            ],
            "outputs": [
                {
                    "output_type": "display_data",
                    "data": {
                        "text/plain": [
                            "<Figure size 432x288 with 2 Axes>"
                        ],
                        "image/png": "[encoded data removed]"
                    },
                    "metadata": {
                        "needs_background": "light"
                    }
                }
            ],
            "metadata": {}
        },
        {
            "cell_type": "markdown",
            "source": [
                "#### 선형대수 \r\n",
                "> - scipy.linalg 기능으로 사용 가능\r\n",
                "> - inv(역행렬), pinv(펜로즈 의사 역행렬), det(행렬식) 메소드를 지원한다."
            ],
            "metadata": {}
        },
        {
            "cell_type": "code",
            "execution_count": 7,
            "source": [
                "# inverse(역행렬)\r\n",
                "A = np.array([[1,2],\r\n",
                "             [3,4]])\r\n",
                "\r\n",
                "print(\"행렬 A의 역행렬 :\\n {}\\n\".format(sp.linalg.inv(A)))\r\n",
                "\r\n",
                "# 행렬식 계산\r\n",
                "print(\"A의 행렬식 계산 : {}\".format(sp.linalg.det(A)))"
            ],
            "outputs": [
                {
                    "output_type": "stream",
                    "name": "stdout",
                    "text": [
                        "행렬 A의 역행렬 :\n",
                        " [[-2.   1. ]\n",
                        " [ 1.5 -0.5]]\n",
                        "\n",
                        "A의 행렬식 계산 : -2.0\n"
                    ]
                }
            ],
            "metadata": {}
        },
        {
            "cell_type": "markdown",
            "source": [
                "#### Interpolation(데이터 보간)\r\n",
                "> - 자료에 빠진 부분을 유추하는 방법(결측치를 채워 넣는 방법과 동일)\r\n",
                "> - 1차원, 2차원 보간\r\n",
                "> - scipy.interpolation 을 사용하여 데이터 보간"
            ],
            "metadata": {}
        },
        {
            "cell_type": "code",
            "execution_count": 8,
            "source": [
                "# interp1d → 1차원 보간 / interp2d → 2차원 보간\r\n",
                "from scipy.interpolate import interp1d\r\n",
                "\r\n",
                "x = np.linspace(0, 10, num=11, endpoint=True)\r\n",
                "y = np.cos(-x**2/9.0)\r\n",
                "\r\n",
                "f = interp1d(x, y)\r\n",
                "# kind='cubic' → 선형보다 부드럽게\r\n",
                "f2 = interp1d(x, y, kind='cubic')\r\n",
                "\r\n",
                "xnew = np.linspace(0, 10, num=41)\r\n",
                "plt.figure(figsize=(5,5))\r\n",
                "plt.plot(x, y, 'o', xnew, f(xnew), '-', xnew, f2(xnew), '--')\r\n",
                "plt.legend(['data', 'linear', 'cubic'])\r\n",
                "plt.show()\r\n"
            ],
            "outputs": [
                {
                    "output_type": "display_data",
                    "data": {
                        "text/plain": [
                            "<Figure size 360x360 with 1 Axes>"
                        ],
                        "image/png": "[encoded data removed]"
                    },
                    "metadata": {
                        "needs_background": "light"
                    }
                }
            ],
            "metadata": {}
        },
        {
            "cell_type": "markdown",
            "source": [
                "#### 최적화(Optimization)\r\n",
                "> - 다양한 분야의 최적화 문제를 해결할 수 있다.\r\n",
                "> - Local Optimization : 비구속 및 구속 조건하의 multivariate scalar function의 최소화 문제(minimize)\r\n",
                "> - Global Optimization : bashinghopping, defferential_Evolution\r\n",
                "> - Least-squares minimization 과 curve fitting : least_sqares, curve_fit\r\n",
                "> - Scalar univariate function의 최소해 찾기 : minimizer_scalar, root_scalar\r\n",
                "> - Multivariate equation system의 해 찾기 : root\r\n",
                "> - Linear Programming : linprog\r\n"
            ],
            "metadata": {}
        },
        {
            "cell_type": "code",
            "execution_count": 10,
            "source": [
                "# 스칼라 함수의 해 찾기\r\n",
                "# Univariate scalar function f(x) = 0 (x는 스칼라, 함수값도 스칼라) 해를 찾는 문제\r\n",
                "# scipy.optimize.root_scalar() 를 사용하여 구한다.\r\n",
                "# parameter 해를 찾기위한 함수(function), method 는 (bisect, brentq, newton) 등과 같이 사용할 알고리즘을 적용한다.\r\n",
                "# 해가 존재하는 범위를 아는 경우 bracket 파라미터의 해의 범위를 파라미터로 전달해준다.\r\n",
                "\r\n",
                "from scipy import optimize\r\n",
                "def func(x):\r\n",
                "    return x**3-1\r\n",
                "\r\n",
                "print(\"Brentq Method Solver\")\r\n",
                "sol = optimize.root_scalar(func, bracket=[0,3], method='brentq')\r\n",
                "\r\n",
                "if sol.converged == True:\r\n",
                "    print('Solution  = {}'.format(sol))\r\n",
                "\r\n",
                "print(\"===================================\")\r\n",
                "print(\"Newton Method Solver\")\r\n",
                "\r\n",
                "# Newton Method는 fprime 인자로 미분함수를 제돌해야 한다.\r\n",
                "# 문제를 풀어야할 scalar function의 인자와 동일한 인자를 갖는 미분함수여야\r\n",
                "def func(x):\r\n",
                "    return x**3-1\r\n",
                "\r\n",
                "def derivative(x):\r\n",
                "    return 3*x**2\r\n",
                "\r\n",
                "sol = optimize.root_scalar(func,x0=1.5,method='newton',fprime=derivative)\r\n",
                "if sol.converged == True:\r\n",
                "    print('Solution = ', sol)"
            ],
            "outputs": [
                {
                    "output_type": "stream",
                    "name": "stdout",
                    "text": [
                        "Brentq Method Solver\n",
                        "Solution  =       converged: True\n",
                        "           flag: 'converged'\n",
                        " function_calls: 11\n",
                        "     iterations: 10\n",
                        "           root: 1.0\n",
                        "===================================\n",
                        "Newton Method Solver\n",
                        "Solution =        converged: True\n",
                        "           flag: 'converged'\n",
                        " function_calls: 12\n",
                        "     iterations: 6\n",
                        "           root: 1.0\n"
                    ]
                }
            ],
            "metadata": {}
        }
    ],
    "metadata": {
        "orig_nbformat": 4,
        "language_info": {
            "name": "python",
            "version": "3.7.10",
            "mimetype": "text/x-python",
            "codemirror_mode": {
                "name": "ipython",
                "version": 3
            },
            "pygments_lexer": "ipython3",
            "nbconvert_exporter": "python",
            "file_extension": ".py"
        },
        "kernelspec": {
            "name": "python3",
            "display_name": "Python 3.7.10 64-bit ('analysis': conda)"
        },
        "interpreter": {
            "hash": "b93001225728b99e51adba9f8af0e0d4fa33af88688185137188ede2401578f5"
        }
    },
    "nbformat": 4,
    "nbformat_minor": 2
}