{
    "cells": [
        {
            "cell_type": "code",
            "execution_count": 2,
            "source": [
                "# chap2\r\n",
                "# 실습 : 2차원 배열 데이터 입출력 \r\n",
                "import numpy\r\n"
            ],
            "outputs": [],
            "metadata": {}
        },
        {
            "cell_type": "code",
            "execution_count": 14,
            "source": [
                "# numpy 배열\r\n",
                "# numpy 에서 배열은 동일한 타입의 값들을 가지며, 배열의 차원을 rank라 하고\r\n",
                "# 각 차원의 크기를 튜플로 표시하는 것을 shape라고 한다. \r\n",
                "\r\n",
                "# 1. Numpy 1차원 배열 생성 및 Append 예제\r\n",
                "\r\n",
                "arr_1d = numpy.array([1,2,3,4])\r\n",
                "\r\n",
                "# 배열에 요소를 추가하는 방법\r\n",
                "arr1 = numpy.array([])\r\n",
                "arr1 = numpy.append(arr1, numpy.array([1,2,3]))\r\n",
                "arr1 = numpy.append(arr1, numpy.array([4,5]))\r\n",
                "\r\n",
                "print(\"'1D Array'\")\r\n",
                "print(arr_1d)\r\n",
                "print(\"\\n'1D Append Array'\")\r\n",
                "print(arr1)\r\n",
                "\r\n",
                "# 2. 2차원 배열 생성 및 append 예제\r\n",
                "\r\n",
                "arr_2d = numpy.array([[1,2,3],[4,5,6]])\r\n",
                "print(\"\\n'2D Array'\")\r\n",
                "print(arr_2d)\r\n",
                "\r\n",
                "# 2차원 배열에 요소를 추가하는 방법\r\n",
                "# 배열을 numpy.empty를 사용하여 초기화\r\n",
                "arr2 = numpy.empty((0,3), int)\r\n",
                "\r\n",
                "# 배열을 추가\r\n",
                "# 추가하는 배열의 요소수는 초기화 했던 길이와 동일해야한다.\r\n",
                "# axis = 0 은 행으로 추가한다는 의미\r\n",
                "arr2 = numpy.append(arr2, numpy.array([[1,2,3]]), axis=0)\r\n",
                "arr2 = numpy.append(arr2, numpy.array([[4,5,6]]), axis=0)\r\n",
                "\r\n",
                "print(\"\\n'2D Array Append'\")\r\n",
                "print(arr2)\r\n",
                "\r\n"
            ],
            "outputs": [
                {
                    "output_type": "stream",
                    "name": "stdout",
                    "text": [
                        "'1D Array'\n",
                        "[1 2 3 4]\n",
                        "\n",
                        "'1D Append Array'\n",
                        "[1. 2. 3. 4. 5.]\n",
                        "\n",
                        "'2D Array'\n",
                        "[[1 2 3]\n",
                        " [4 5 6]]\n",
                        "\n",
                        "'2D Array Append'\n",
                        "[[1 2 3]\n",
                        " [4 5 6]]\n"
                    ]
                }
            ],
            "metadata": {}
        },
        {
            "cell_type": "code",
            "execution_count": 23,
            "source": [
                "# 2차원 배열 슬라이스\r\n",
                "arr = numpy.empty((0,3), int)\r\n",
                "arr = numpy.append(arr, numpy.array([[1, 2, 3]]), axis = 0)\r\n",
                "arr = numpy.append(arr, numpy.array([[4,5,6]]), axis = 0)\r\n",
                "\r\n",
                "print(arr)\r\n",
                "\r\n",
                "print(\"\\n'Array Indexing'\")\r\n",
                "\r\n",
                "print(arr[0,1])\r\n",
                "print(arr[1, :2])\r\n",
                "print(arr[:, 1])"
            ],
            "outputs": [
                {
                    "output_type": "stream",
                    "name": "stdout",
                    "text": [
                        "[[1 2 3]\n",
                        " [4 5 6]]\n",
                        "\n",
                        "'Array Indexing'\n",
                        "2\n",
                        "[4 5]\n",
                        "[2 5]\n"
                    ]
                }
            ],
            "metadata": {}
        }
    ],
    "metadata": {
        "orig_nbformat": 4,
        "language_info": {
            "name": "python"
        }
    },
    "nbformat": 4,
    "nbformat_minor": 2
}