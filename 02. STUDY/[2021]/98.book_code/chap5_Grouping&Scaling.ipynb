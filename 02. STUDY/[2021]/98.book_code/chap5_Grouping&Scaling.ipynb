{
 "cells": [
  {
   "cell_type": "code",
   "execution_count": 13,
   "source": [
    "# 패키지 임포트\r\n",
    "import pandas\r\n",
    "import numpy\r\n",
    "from sklearn.preprocessing import StandardScaler, MinMaxScaler, MaxAbsScaler, RobustScaler # 스케일링 관련 패키지\r\n",
    "import matplotlib.pyplot as plt\r\n",
    "from sklearn.preprocessing import LabelEncoder, OneHotEncoder # 범주화 및 더미변수화\r\n",
    "import warnings \r\n",
    "\r\n",
    "warnings.filterwarnings(action=\"ignore\")\r\n",
    "# 데이터 경로\r\n",
    "PATH = \"C:/Users/WAI/OneDrive/03.WORKSPACE/00.DATA/99.KAGGLE/insurance/\"\r\n",
    "\r\n",
    "# 데이터 명\r\n",
    "DATA_NAME = \"14. Learning from Imbalaced Insurance Data/aug_train_mod_2.csv\""
   ],
   "outputs": [],
   "metadata": {}
  },
  {
   "cell_type": "code",
   "execution_count": 14,
   "source": [
    "# 실습 데이터 불러오기\r\n",
    "df = pandas.read_csv(PATH + DATA_NAME)\r\n",
    "print(df)"
   ],
   "outputs": [
    {
     "output_type": "stream",
     "name": "stdout",
     "text": [
      "            id  Gender        Age  Driving_License  Region_Code  \\\n",
      "0        17163       0  42.000000              1.0         28.0   \n",
      "1        32023       1  66.000000              1.0         33.0   \n",
      "2        71711       0  51.000000              1.0          8.0   \n",
      "3       331781       0  38.000000              1.0         28.0   \n",
      "4       290704       1  45.000000              1.0         28.0   \n",
      "...        ...     ...        ...              ...          ...   \n",
      "177350  447797       0  38.535247              1.0         28.0   \n",
      "177351  157507       0  56.000000              1.0         17.0   \n",
      "177352  498091       1  48.000000              1.0         28.0   \n",
      "177353   89317       0  47.000000              1.0         43.0   \n",
      "177354  165293       0  45.000000              1.0         28.0   \n",
      "\n",
      "        Previously_Insured Vehicle_Age Vehicle_Damage  Annual_Premium  \\\n",
      "0                        0    1-2 Year            Yes    32901.909565   \n",
      "1                        0    1-2 Year            Yes    35841.000000   \n",
      "2                        0    1-2 Year            Yes     2630.000000   \n",
      "3                        1    1-2 Year             No     2630.000000   \n",
      "4                        0    1-2 Year            Yes    32901.909565   \n",
      "...                    ...         ...            ...             ...   \n",
      "177350                   0    1-2 Year            Yes    37138.000000   \n",
      "177351                   0    1-2 Year            Yes    32901.909565   \n",
      "177352                   0    1-2 Year            Yes    32901.909565   \n",
      "177353                   0    1-2 Year            Yes    32774.000000   \n",
      "177354                   0    1-2 Year            Yes    40443.000000   \n",
      "\n",
      "        Policy_Sales_Channel  Vintage  Response  birth_date insure_date  \n",
      "0                       26.0    135.0         0    20080411  1996-08-16  \n",
      "1                      124.0    253.0         0    20040818  2001-07-04  \n",
      "2                       26.0    209.0         0    20031110  2000-06-18  \n",
      "3                       26.0     51.0         0    20061204  1992-04-06  \n",
      "4                      124.0    262.0         0    19960115  2001-05-15  \n",
      "...                      ...      ...       ...         ...         ...  \n",
      "177350                  26.0    276.0         1    19901205  1990-01-22  \n",
      "177351                 124.0    244.0         0    20010701  2006-08-08  \n",
      "177352                  26.0     80.0         1    19910714  1993-09-07  \n",
      "177353                 124.0    105.0         0    19960620  2004-05-28  \n",
      "177354                  26.0    187.0         0    19950825  1997-09-04  \n",
      "\n",
      "[177355 rows x 14 columns]\n"
     ]
    }
   ],
   "metadata": {}
  },
  {
   "cell_type": "code",
   "execution_count": null,
   "source": [
    "    "
   ],
   "outputs": [],
   "metadata": {}
  },
  {
   "cell_type": "code",
   "execution_count": 15,
   "source": [
    "### 'Age' 나이 변수 범주화 및 더미변수화 ###\r\n",
    "### 실습 1) 'Age' 나이 변수 범주화 하기\r\n",
    "\r\n",
    "# 나이대 라벨링 리스트 선언\r\n",
    "labels = []\r\n",
    "# 구간 개수 : 9\r\n",
    "diff_n = 9\r\n",
    "for x in range(10, diff_n*10+10, 10):\r\n",
    "    print(x)\r\n",
    "    labels.append(str(x) + '대')\r\n",
    "print(labels) # 구간 개수에 따라 나이대를 라벨링\r\n",
    "\r\n",
    "# 데이터 프레임에 'Age_grade'  나이대 그룹핑(10개의 구간을 일정한 구간의 크기로 구분함)\r\n",
    "df['Age_grade'] = pandas.cut(df.loc[:,'Age'], bins=diff_n, labels=labels)\r\n",
    "print(df['Age_grade'] )\r\n",
    "\r\n",
    "# 데이터 프레임에 'Age_grade_quantile' 나이대 그룹핑(9개의 구간을 일정한 분위수로 구분함)\r\n",
    "# 변수의 변량에 따라서 분위수를 나누는 구간이 중복가능하기 때문에 duplicates 옵션에 'drop'을 해준다.\r\n",
    "# labels=False 옵션을 주어 낮은 구간부터 높은 구간순으로 0,1,..6  +1씩 값이 증가하는 구간으로 세팅된다.\r\n",
    "df['Age_grade_quantile'] = pandas.qcut(df.loc[:,'Age'], q=diff_n, duplicates='drop', labels=False) # 7개의 구간으로 나누어졌다.\r\n",
    "# 0 등급부터 라벨링이 되기때문에 'v1_grade_quantile' 컬럼에 전체 적으로 +1을 해준다.\r\n",
    "df['Age_grade_quantile'] = df['Age_grade_quantile'] + 1\r\n",
    "print(df['Age_grade_quantile'])\r\n"
   ],
   "outputs": [
    {
     "output_type": "stream",
     "name": "stdout",
     "text": [
      "10\n",
      "20\n",
      "30\n",
      "40\n",
      "50\n",
      "60\n",
      "70\n",
      "80\n",
      "90\n",
      "['10대', '20대', '30대', '40대', '50대', '60대', '70대', '80대', '90대']\n",
      "0         40대\n",
      "1         70대\n",
      "2         50대\n",
      "3         30대\n",
      "4         40대\n",
      "         ... \n",
      "177350    30대\n",
      "177351    50대\n",
      "177352    40대\n",
      "177353    40대\n",
      "177354    40대\n",
      "Name: Age_grade, Length: 177355, dtype: category\n",
      "Categories (9, object): ['10대' < '20대' < '30대' < '40대' ... '60대' < '70대' < '80대' < '90대']\n",
      "0         3\n",
      "1         8\n",
      "2         6\n",
      "3         2\n",
      "4         4\n",
      "         ..\n",
      "177350    2\n",
      "177351    7\n",
      "177352    5\n",
      "177353    5\n",
      "177354    4\n",
      "Name: Age_grade_quantile, Length: 177355, dtype: int64\n"
     ]
    }
   ],
   "metadata": {}
  },
  {
   "cell_type": "code",
   "execution_count": 16,
   "source": [
    "### 실습 2) 'Age_grade'(범주형 변수) 더미 변수화 하기\r\n",
    "# unique 값 확인 ['10대', '30대', '40대', '50대', '70대', '20대', '60대', '80대', '90대']\r\n",
    "print(df.loc[:,'Age_grade'].unique())\r\n",
    "\r\n",
    "# 범주형 데이터는 모델의 학습 변수로 사용할 수 없다. 그래서 더미 변수화를 해주여야 사용할 수 있게 된다.\r\n",
    "dummies_df = pandas.get_dummies(df.loc[:,'Age_grade']) # 더미 변수를 생성\r\n",
    "# 더미 변수명 변경 => 'Age_1' ~ 'Age_9' 까지\r\n",
    "dummies_df.columns = list(map(lambda x : 'Age_' + x.replace('0대',''), list(dummies_df.columns)))\r\n",
    "result_df = pandas.concat([df, dummies_df], axis=1) # 생성된 더미 변수를 원 데이터 옆에 붙여준다.\r\n",
    "print(result_df) # 원 데이터 뒤에 프레임 뒤에 더미 변수가 생성된 것을 확인"
   ],
   "outputs": [
    {
     "output_type": "stream",
     "name": "stdout",
     "text": [
      "['40대', '70대', '50대', '30대', '20대', '10대', '60대', '80대', '90대']\n",
      "Categories (9, object): ['10대' < '20대' < '30대' < '40대' ... '60대' < '70대' < '80대' < '90대']\n",
      "            id  Gender        Age  Driving_License  Region_Code  \\\n",
      "0        17163       0  42.000000              1.0         28.0   \n",
      "1        32023       1  66.000000              1.0         33.0   \n",
      "2        71711       0  51.000000              1.0          8.0   \n",
      "3       331781       0  38.000000              1.0         28.0   \n",
      "4       290704       1  45.000000              1.0         28.0   \n",
      "...        ...     ...        ...              ...          ...   \n",
      "177350  447797       0  38.535247              1.0         28.0   \n",
      "177351  157507       0  56.000000              1.0         17.0   \n",
      "177352  498091       1  48.000000              1.0         28.0   \n",
      "177353   89317       0  47.000000              1.0         43.0   \n",
      "177354  165293       0  45.000000              1.0         28.0   \n",
      "\n",
      "        Previously_Insured Vehicle_Age Vehicle_Damage  Annual_Premium  \\\n",
      "0                        0    1-2 Year            Yes    32901.909565   \n",
      "1                        0    1-2 Year            Yes    35841.000000   \n",
      "2                        0    1-2 Year            Yes     2630.000000   \n",
      "3                        1    1-2 Year             No     2630.000000   \n",
      "4                        0    1-2 Year            Yes    32901.909565   \n",
      "...                    ...         ...            ...             ...   \n",
      "177350                   0    1-2 Year            Yes    37138.000000   \n",
      "177351                   0    1-2 Year            Yes    32901.909565   \n",
      "177352                   0    1-2 Year            Yes    32901.909565   \n",
      "177353                   0    1-2 Year            Yes    32774.000000   \n",
      "177354                   0    1-2 Year            Yes    40443.000000   \n",
      "\n",
      "        Policy_Sales_Channel  ...  Age_grade_quantile  Age_1  Age_2 Age_3  \\\n",
      "0                       26.0  ...                   3      0      0     0   \n",
      "1                      124.0  ...                   8      0      0     0   \n",
      "2                       26.0  ...                   6      0      0     0   \n",
      "3                       26.0  ...                   2      0      0     1   \n",
      "4                      124.0  ...                   4      0      0     0   \n",
      "...                      ...  ...                 ...    ...    ...   ...   \n",
      "177350                  26.0  ...                   2      0      0     1   \n",
      "177351                 124.0  ...                   7      0      0     0   \n",
      "177352                  26.0  ...                   5      0      0     0   \n",
      "177353                 124.0  ...                   5      0      0     0   \n",
      "177354                  26.0  ...                   4      0      0     0   \n",
      "\n",
      "       Age_4  Age_5  Age_6  Age_7  Age_8  Age_9  \n",
      "0          1      0      0      0      0      0  \n",
      "1          0      0      0      1      0      0  \n",
      "2          0      1      0      0      0      0  \n",
      "3          0      0      0      0      0      0  \n",
      "4          1      0      0      0      0      0  \n",
      "...      ...    ...    ...    ...    ...    ...  \n",
      "177350     0      0      0      0      0      0  \n",
      "177351     0      1      0      0      0      0  \n",
      "177352     1      0      0      0      0      0  \n",
      "177353     1      0      0      0      0      0  \n",
      "177354     1      0      0      0      0      0  \n",
      "\n",
      "[177355 rows x 25 columns]\n"
     ]
    }
   ],
   "metadata": {}
  },
  {
   "cell_type": "code",
   "execution_count": 17,
   "source": [
    "### 실습 3) sklearn의 LabelEncoder, OneHotEncoder 함수로 더미 변수화 하기\r\n",
    "le = LabelEncoder()\r\n",
    "labels = le.fit_transform(df.loc[:,'Age_grade']) # 데이터 변량에 따른 라벨링\r\n",
    "lb_matrix = labels.reshape(-1, 1) # 2차원 행렬로 변환\r\n",
    "print('나이대 데이터 행렬 :', lb_matrix)\r\n",
    "print('나이대 데이터 행렬 사이즈 :', lb_matrix.shape)\r\n",
    "print('나이대 데이터 변량 unique :', le.classes_)\r\n",
    "\r\n",
    "# 원핫인코더로 더미 변수 생성\r\n",
    "ohe = OneHotEncoder(sparse=False)\r\n",
    "ohe_matrix = ohe.fit_transform(lb_matrix)\r\n",
    "list(le.classes_)\r\n",
    "# 행렬을 변수화\r\n",
    "dummies_df_2 = pandas.DataFrame(data=ohe_matrix, columns=le.classes_) # 데이터 프레임화\r\n",
    "# 더미 변수명 변경 => 'Age_1' ~ 'Age_9' 까지\r\n",
    "dummies_df_2.columns = list(map(lambda x : 'Age_' + x.replace('0대',''), list(dummies_df_2.columns)))\r\n",
    "result_df = pandas.concat([df, dummies_df_2], axis=1) # 생성된 더미 변수를 원 데이터 옆에 붙여준다.\r\n",
    "print(result_df)"
   ],
   "outputs": [
    {
     "output_type": "stream",
     "name": "stdout",
     "text": [
      "나이대 데이터 행렬 : [[3]\n",
      " [6]\n",
      " [4]\n",
      " ...\n",
      " [3]\n",
      " [3]\n",
      " [3]]\n",
      "나이대 데이터 행렬 사이즈 : (177355, 1)\n",
      "나이대 데이터 변량 unique : ['10대' '20대' '30대' '40대' '50대' '60대' '70대' '80대' '90대']\n",
      "            id  Gender        Age  Driving_License  Region_Code  \\\n",
      "0        17163       0  42.000000              1.0         28.0   \n",
      "1        32023       1  66.000000              1.0         33.0   \n",
      "2        71711       0  51.000000              1.0          8.0   \n",
      "3       331781       0  38.000000              1.0         28.0   \n",
      "4       290704       1  45.000000              1.0         28.0   \n",
      "...        ...     ...        ...              ...          ...   \n",
      "177350  447797       0  38.535247              1.0         28.0   \n",
      "177351  157507       0  56.000000              1.0         17.0   \n",
      "177352  498091       1  48.000000              1.0         28.0   \n",
      "177353   89317       0  47.000000              1.0         43.0   \n",
      "177354  165293       0  45.000000              1.0         28.0   \n",
      "\n",
      "        Previously_Insured Vehicle_Age Vehicle_Damage  Annual_Premium  \\\n",
      "0                        0    1-2 Year            Yes    32901.909565   \n",
      "1                        0    1-2 Year            Yes    35841.000000   \n",
      "2                        0    1-2 Year            Yes     2630.000000   \n",
      "3                        1    1-2 Year             No     2630.000000   \n",
      "4                        0    1-2 Year            Yes    32901.909565   \n",
      "...                    ...         ...            ...             ...   \n",
      "177350                   0    1-2 Year            Yes    37138.000000   \n",
      "177351                   0    1-2 Year            Yes    32901.909565   \n",
      "177352                   0    1-2 Year            Yes    32901.909565   \n",
      "177353                   0    1-2 Year            Yes    32774.000000   \n",
      "177354                   0    1-2 Year            Yes    40443.000000   \n",
      "\n",
      "        Policy_Sales_Channel  ...  Age_grade_quantile  Age_1  Age_2 Age_3  \\\n",
      "0                       26.0  ...                   3    0.0    0.0   0.0   \n",
      "1                      124.0  ...                   8    0.0    0.0   0.0   \n",
      "2                       26.0  ...                   6    0.0    0.0   0.0   \n",
      "3                       26.0  ...                   2    0.0    0.0   1.0   \n",
      "4                      124.0  ...                   4    0.0    0.0   0.0   \n",
      "...                      ...  ...                 ...    ...    ...   ...   \n",
      "177350                  26.0  ...                   2    0.0    0.0   1.0   \n",
      "177351                 124.0  ...                   7    0.0    0.0   0.0   \n",
      "177352                  26.0  ...                   5    0.0    0.0   0.0   \n",
      "177353                 124.0  ...                   5    0.0    0.0   0.0   \n",
      "177354                  26.0  ...                   4    0.0    0.0   0.0   \n",
      "\n",
      "       Age_4  Age_5  Age_6  Age_7  Age_8  Age_9  \n",
      "0        1.0    0.0    0.0    0.0    0.0    0.0  \n",
      "1        0.0    0.0    0.0    1.0    0.0    0.0  \n",
      "2        0.0    1.0    0.0    0.0    0.0    0.0  \n",
      "3        0.0    0.0    0.0    0.0    0.0    0.0  \n",
      "4        1.0    0.0    0.0    0.0    0.0    0.0  \n",
      "...      ...    ...    ...    ...    ...    ...  \n",
      "177350   0.0    0.0    0.0    0.0    0.0    0.0  \n",
      "177351   0.0    1.0    0.0    0.0    0.0    0.0  \n",
      "177352   1.0    0.0    0.0    0.0    0.0    0.0  \n",
      "177353   1.0    0.0    0.0    0.0    0.0    0.0  \n",
      "177354   1.0    0.0    0.0    0.0    0.0    0.0  \n",
      "\n",
      "[177355 rows x 25 columns]\n"
     ]
    }
   ],
   "metadata": {}
  },
  {
   "cell_type": "code",
   "execution_count": 18,
   "source": [
    "##'Annual_Premium' 변수 Scaling 하기 ###\r\n",
    "\r\n",
    "# 'Annual_Premium' 데이터 최대 및 최소값 확인\r\n",
    "print('Annual_Premium 데이터 : ', df.loc[:,'Annual_Premium'])\r\n",
    "var_array = numpy.array(df.loc[:,'Annual_Premium'])\r\n",
    "\r\n",
    "# 히스토그램 : X축은 변량, Y축은 빈도수\r\n",
    "print('최소 :', var_array.min(), ', 최대 :', var_array.max())\r\n",
    "plt.hist(var_array)\r\n",
    "plt.title('Annual_Premium RAW DATA')"
   ],
   "outputs": [
    {
     "output_type": "stream",
     "name": "stdout",
     "text": [
      "Annual_Premium 데이터 :  0         32901.909565\n",
      "1         35841.000000\n",
      "2          2630.000000\n",
      "3          2630.000000\n",
      "4         32901.909565\n",
      "              ...     \n",
      "177350    37138.000000\n",
      "177351    32901.909565\n",
      "177352    32901.909565\n",
      "177353    32774.000000\n",
      "177354    40443.000000\n",
      "Name: Annual_Premium, Length: 177355, dtype: float64\n",
      "최소 : 2630.0 , 최대 : 42359.0\n"
     ]
    },
    {
     "output_type": "execute_result",
     "data": {
      "text/plain": [
       "Text(0.5, 1.0, 'Annual_Premium RAW DATA')"
      ]
     },
     "metadata": {},
     "execution_count": 18
    },
    {
     "output_type": "display_data",
     "data": {
      "text/plain": [
       "<Figure size 432x288 with 1 Axes>"
      ],
      "image/png": "[encoded data removed]"
     },
     "metadata": {
      "needs_background": "light"
     }
    }
   ],
   "metadata": {}
  },
  {
   "cell_type": "code",
   "execution_count": 19,
   "source": [
    "### 실습 4) StandardScaler : 평균을 0, 분산 1인 데이터로 변경합니다.\r\n",
    "\r\n",
    "standardscaler = StandardScaler() # 스케일러 객체 할당\r\n",
    "print('스케일러 객체 :', standardscaler) \r\n",
    "\r\n",
    "# 스케일링을 하기위해 2차원 행렬로 변환\r\n",
    "scale_array = var_array.reshape(-1,1)\r\n",
    "print(scale_array)\r\n",
    "# StandardScaler 스케일링\r\n",
    "std_scaling = standardscaler.fit_transform(scale_array)\r\n",
    "print('StandardScaling : ', std_scaling)\r\n",
    "\r\n",
    "# 히스토그램 : Standard Scalling\r\n",
    "print('최소 :', std_scaling.min(), ', 최대 :', std_scaling.max())\r\n",
    "plt.hist(std_scaling)\r\n",
    "plt.title('Annual_Premium Standard Scaling')"
   ],
   "outputs": [
    {
     "output_type": "stream",
     "name": "stdout",
     "text": [
      "스케일러 객체 : StandardScaler()\n",
      "[[32901.90956485]\n",
      " [35841.        ]\n",
      " [ 2630.        ]\n",
      " ...\n",
      " [32901.90956485]\n",
      " [32774.        ]\n",
      " [40443.        ]]\n",
      "StandardScaling :  [[ 0.42812675]\n",
      " [ 0.67759603]\n",
      " [-2.14134554]\n",
      " ...\n",
      " [ 0.42812675]\n",
      " [ 0.41726982]\n",
      " [ 1.06821266]]\n",
      "최소 : -2.141345542109037 , 최대 : 1.2308422746543195\n"
     ]
    },
    {
     "output_type": "execute_result",
     "data": {
      "text/plain": [
       "Text(0.5, 1.0, 'Annual_Premium Standard Scaling')"
      ]
     },
     "metadata": {},
     "execution_count": 19
    },
    {
     "output_type": "display_data",
     "data": {
      "text/plain": [
       "<Figure size 432x288 with 1 Axes>"
      ],
      "image/png": "[encoded data removed]"
     },
     "metadata": {
      "needs_background": "light"
     }
    }
   ],
   "metadata": {}
  },
  {
   "cell_type": "code",
   "execution_count": 20,
   "source": [
    "### 실습 5) MinmaxScaler : 모든 데이터 값이 0과 1사이의 값들로 매핑됩니다.\r\n",
    "minmaxscaler= MinMaxScaler()\r\n",
    "print(minmaxscaler) # 스케일러 객체\r\n",
    "\r\n",
    "# StandardScaler 스케일링\r\n",
    "mms_scaling = minmaxscaler.fit_transform(scale_array)\r\n",
    "print('MinMaxScaling : ', mms_scaling)\r\n",
    "\r\n",
    "# 히스토그램 : MinMax Scalling\r\n",
    "print('최소 :', mms_scaling.min(), ', 최대 :', mms_scaling.max())\r\n",
    "plt.hist(mms_scaling)\r\n",
    "plt.title('Annual_Premium MinMax Scaling')"
   ],
   "outputs": [
    {
     "output_type": "stream",
     "name": "stdout",
     "text": [
      "MinMaxScaler()\n",
      "MinMaxScaling :  [[0.76196002]\n",
      " [0.83593848]\n",
      " [0.        ]\n",
      " ...\n",
      " [0.76196002]\n",
      " [0.75874047]\n",
      " [0.95177326]]\n",
      "최소 : 0.0 , 최대 : 1.0\n"
     ]
    },
    {
     "output_type": "execute_result",
     "data": {
      "text/plain": [
       "Text(0.5, 1.0, 'Annual_Premium MinMax Scaling')"
      ]
     },
     "metadata": {},
     "execution_count": 20
    },
    {
     "output_type": "display_data",
     "data": {
      "text/plain": [
       "<Figure size 432x288 with 1 Axes>"
      ],
      "image/png": "[encoded data removed]"
     },
     "metadata": {
      "needs_background": "light"
     }
    }
   ],
   "metadata": {}
  },
  {
   "cell_type": "code",
   "execution_count": 12,
   "source": [
    "### 실습 6) MaxAbsScaler : 절대값이 0~1사이에 매핑되도록 합니다. 즉 -1~1 사이로 재조정됩니다..\r\n",
    "minabsscaler= MaxAbsScaler()\r\n",
    "print(minmaxscaler) # 스케일러 객체\r\n",
    "\r\n",
    "# MaxAbsScaler 스케일링\r\n",
    "mabs = minabsscaler.fit_transform(scale_array)\r\n",
    "print('MaxAbsScaling : ', mms_scaling)\r\n",
    "print('최소 :', mms_scaling.min(), ', 최대 :', mms_scaling.max())\r\n",
    "# 히스토그램으로 표현(스케일링한 데이터 분포) => 모든 데이터 값이 양수이기 때문에 스케일링된 값이 음수일 수가 없습니다.\r\n",
    "plt.hist(mms_scaling)\r\n",
    "plt.title('Annual_Premium MaxAbsScaling Scaling')"
   ],
   "outputs": [
    {
     "output_type": "stream",
     "name": "stdout",
     "text": [
      "MinMaxScaler()\n",
      "MaxAbsScaling :  [[0.76196002]\n",
      " [0.83593848]\n",
      " [0.        ]\n",
      " ...\n",
      " [0.76196002]\n",
      " [0.75874047]\n",
      " [0.95177326]]\n",
      "최소 : 0.0 , 최대 : 1.0\n"
     ]
    },
    {
     "output_type": "execute_result",
     "data": {
      "text/plain": [
       "Text(0.5, 1.0, 'Annual_Premium MaxAbsScaling Scaling')"
      ]
     },
     "metadata": {},
     "execution_count": 12
    },
    {
     "output_type": "display_data",
     "data": {
      "text/plain": [
       "<Figure size 432x288 with 1 Axes>"
      ],
      "image/png": "[encoded data removed]"
     },
     "metadata": {
      "needs_background": "light"
     }
    }
   ],
   "metadata": {}
  }
 ],
 "metadata": {
  "kernelspec": {
   "name": "python3",
   "display_name": "Python 3.7.10 64-bit ('analysis': conda)"
  },
  "language_info": {
   "codemirror_mode": {
    "name": "ipython",
    "version": 3
   },
   "file_extension": ".py",
   "mimetype": "text/x-python",
   "name": "python",
   "nbconvert_exporter": "python",
   "pygments_lexer": "ipython3",
   "version": "3.7.10"
  },
  "interpreter": {
   "hash": "b93001225728b99e51adba9f8af0e0d4fa33af88688185137188ede2401578f5"
  }
 },
 "nbformat": 4,
 "nbformat_minor": 4
}