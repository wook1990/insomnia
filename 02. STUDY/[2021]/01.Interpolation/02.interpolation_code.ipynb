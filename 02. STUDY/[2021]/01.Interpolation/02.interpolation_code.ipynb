{
 "cells": [
  {
   "cell_type": "markdown",
   "source": [
    "#### 보간법 코드\n",
    "1. 데이터의 column 별 null 값 비율 및 분포 확인(missingno)\n",
    "2. 비율값과 null값의 균일 분포에 따른 보간 순위 정렬\n",
    "3. 정렬된 순위의 변수의 선형성 검증\n",
    "4. 조건을 만족하는 변수에 대해서 -> 보간법 수행( pandas interpolation or scipy interpolayion)\n",
    "5. 옵션값을 주어 통계값으로 일괄 처리하는 함수(데이터의 속성파악해서 자동으로 판단할 수 있는 근거를 만들면 재밌을것같은데..일단 쉬운것 부터)\n",
    "6. 선형성을 띄지 않거나 데이터가 불균일하게 비어있고, 연속적으로 널값이 존재하는 데이터의 처리 (고민)"
   ],
   "metadata": {
    "collapsed": false
   }
  },
  {
   "cell_type": "code",
   "source": [
    "# 기본 모듈 import\n",
    "import numpy\n",
    "import pandas\n",
    "import matplotlib.pyplot as plt\n",
    "import missingno\n",
    "import warnings\n",
    "\n",
    "warnings.filterwarnings(action='ignore')\n",
    "def line_logging(*messages):\n",
    "    import datetime\n",
    "    import sys\n",
    "    today = datetime.datetime.today()\n",
    "    log_time = today.strftime('[%Y/%m/%d %H:%M:%S]')\n",
    "    log = []\n",
    "    for message in messages:\n",
    "        log.append(str(message))\n",
    "    print(log_time + '::' + ','.join(log) + '')\n",
    "    sys.stdout.flush()"
   ],
   "metadata": {
    "collapsed": false,
    "pycharm": {
     "name": "#%%\n"
    }
   },
   "execution_count": 3,
   "outputs": []
  },
  {
   "cell_type": "code",
   "execution_count": 97,
   "outputs": [
    {
     "name": "stdout",
     "output_type": "stream",
     "text": [
      "['ChipRate', 'BF-CMratio', 'BlowFlow', 'ChipLevel4 ', 'T-upperExt-2 ', 'T-lowerExt-2  ', 'UCZAA', 'WhiteFlow-4 ', 'AA-Wood-4  ', 'ChipMoisture-4 ', 'SteamFlow-4 ', 'Lower-HeatT-3', 'Upper-HeatT-3 ', 'ChipMass-4 ', 'WeakLiquorF ', 'BlackFlow-2 ', 'WeakWashF ', 'SteamHeatF-3 ', 'T-Top-Chips-4 ']\n",
      "296    14.233\n",
      "297    15.167\n",
      "298    15.167\n",
      "299    15.167\n",
      "300    15.167\n",
      "dtype: float64\n",
      "0\n"
     ]
    },
    {
     "data": {
      "text/plain": "'\\nfor colname in iter(a_list):\\n    #print(colname)\\n    #print(df[colname].head(1))\\n    model = OLS(df[\"Y-Kappa\"], df[colname])\\n    result = model.fit()\\n    print(result.summary())\\n'"
     },
     "execution_count": 97,
     "metadata": {},
     "output_type": "execute_result"
    }
   ],
   "source": [
    "import missingno as msno\n",
    "import matplotlib.pyplot as plt\n",
    "# 1. null값 확인 하는 코드(input : DataFrame)\n",
    "# index_col , target_col, null_ratio\n",
    "df = pandas.read_csv(\"C:\\\\Users\\\\WAI\\\\PycharmProjects\\\\pythonProject\\\\data\\\\1.interpolation\\\\kamyr-digester.csv\")\n",
    "df.set_index(\"Observation\",inplace=True)\n",
    "# print(df.head())\n",
    "# target : Y-Kappa\n",
    "null_ratio = (round(df.isnull().sum()/301*100,3))\n",
    "# print(null_ratio)\n",
    "null_df = pandas.DataFrame(null_ratio, columns=[\"null_ratio\"])\n",
    "\n",
    "# null값의 비율을 어떻게 보고 정해야할지\n",
    "# 10% 미만인 친구들은 선형성 검증하여 선형성을 띄고 있다면 바로 보간법 수행\n",
    "a_list = null_df.loc[(null_df[\"null_ratio\"] != 0) & (null_df[\"null_ratio\"]<= 10 )].index.to_list()\n",
    "#a_list.remove(\"Y-Kappa\")\n",
    "print(a_list)\n",
    "y_target = df[\"Y-Kappa\"]\n",
    "from statsmodels.regression.linear_model import OLS\n",
    "\n",
    "from scipy.interpolate import interp1d\n",
    "from matplotlib import pyplot as plt\n",
    "\n",
    "y = df[a_list[0]].values\n",
    "\n",
    "x_inter = pandas.Series(y).interpolate()\n",
    "print(x_inter.tail())\n",
    "\n",
    "print(x_inter.isnull().sum())\n",
    "\n",
    "x_inter.isnull().sum()\n",
    "\n",
    "\n",
    "\n",
    "'''\n",
    "for colname in iter(a_list):\n",
    "    #print(colname)\n",
    "    #print(df[colname].head(1))\n",
    "    model = OLS(df[\"Y-Kappa\"], df[colname])\n",
    "    result = model.fit()\n",
    "    print(result.summary())\n",
    "'''\n",
    "# 10% 이상인 데이터는 등분산성 검증을 통해 등분산성을 띄는 데이터는 선형성 검증후 보간법 수행\n",
    "#b_list = null_df.loc[(null_df[\"null_ratio\"]<= 50) & (null_df[\"null_ratio\"]> 10)].index.to_list()\n",
    "#print(len(b_list))\n",
    "\n",
    "# 아닌경우 케이스 처리\n",
    "#msno_matrix = msno.matrix(df)\n",
    "\n",
    "# Data read"
   ],
   "metadata": {
    "collapsed": false,
    "pycharm": {
     "name": "#%%\n"
    }
   }
  },
  {
   "cell_type": "code",
   "execution_count": null,
   "outputs": [],
   "source": [
    "df = pandas.read_csv(\"C:\\\\Users\\\\WAI\\\\PycharmProjects\\\\pythonProject\\\\data\\\\1.interpolation\\\\kamyr-digester.csv\", index_col=False)\n",
    "index_col = 'Observation'\n",
    "target_col = \"Y-Kappa\"\n",
    "interp_method = \"linear\"\n",
    "\n",
    "df.set_index(index_col, inplace = True)\n",
    "target_y = df[target_col]\n",
    "df = df.drop(columns=[target_col], axis=0)\n",
    "null_ratio = (round(df.isnull().sum()/301*100,3))\n",
    "null_df = pandas.DataFrame(null_ratio, columns=[\"null_ratio\"])\n",
    "list_intp = null_df.loc[(null_df[\"null_ratio\"] != 0) & (null_df[\"null_ratio\"]<= 10 )].index.to_list()\n",
    "\n",
    "#print(null_ratio_df)\n",
    "\n",
    "# 데이터 보간을 할 수있는 비율에 맞는 컬럼 추출\n",
    "for intp_col in iter(list_intp):\n",
    "    line_logging(intp_col)\n",
    "    prep_x = df[intp_col].values\n",
    "    intp_x = pandas.Series(prep_x).interpolate(interp_method)\n",
    "    #print(type(prep_x))\n",
    "    #print(type(intp_x))\n",
    "    #print(type(df[intp_col]))\n",
    "    print(df[intp_col].head(1))\n",
    "    df[intp_col] = intp_x.values\n",
    "\n",
    "    print(df[intp_col].head(1))\n"
   ],
   "metadata": {
    "collapsed": false,
    "pycharm": {
     "name": "#%%\n"
    }
   }
  },
  {
   "cell_type": "code",
   "execution_count": 98,
   "outputs": [
    {
     "data": {
      "text/plain": "(-2.0, 2.0)"
     },
     "execution_count": 98,
     "metadata": {},
     "output_type": "execute_result"
    },
    {
     "data": {
      "text/plain": "<Figure size 432x288 with 1 Axes>",
      "image/png": "[encoded data removed]"
     },
     "metadata": {
      "needs_background": "light"
     },
     "output_type": "display_data"
    }
   ],
   "source": [
    "# scipy 를 사용한 interpolate ->\n",
    "# 수식의 일반화를 통해 깊게 구현해보기 TODO\n",
    "import numpy\n",
    "from scipy.interpolate import interp1d\n",
    "from matplotlib import pyplot as plt\n",
    "\n",
    "x = numpy.linspace(0, 10 * numpy.pi, 20)\n",
    "y = numpy.cos(x)\n",
    "\n",
    "fl = interp1d(x, y, kind = 'linear')\n",
    "fq = interp1d(x, y, kind = 'quadratic')\n",
    "\n",
    "xint = numpy.linspace(x.min(), x.max(), 1000)\n",
    "yintl = fl(xint)\n",
    "# 결과는 numpy.ndarray\n",
    "yintq = fq(xint)\n",
    "\n",
    "plt.plot(xint, yintl, color = 'green', linewidth = 2)\n",
    "plt.plot(xint, yintq, color = 'red', linewidth = 2)\n",
    "plt.legend(['Linear','Quadratic'])\n",
    "plt.plot(x,y, 'o')\n",
    "plt.ylim(-2,2)"
   ],
   "metadata": {
    "collapsed": false,
    "pycharm": {
     "name": "#%%\n"
    }
   }
  },
  {
   "cell_type": "code",
   "execution_count": 4,
   "outputs": [],
   "source": [
    "# Pandas Interpolate -> 단일 열에 대한, Seriese에 대한 보간\n",
    "# 필요 모듈 import\n",
    "import pandas\n",
    "import warnings\n",
    "import scipy\n",
    "warnings.filterwarnings(action='ignore')\n",
    "\n",
    "def line_logging(*messages):\n",
    "    import datetime\n",
    "    import sys\n",
    "    today = datetime.datetime.today()\n",
    "    log_time = today.strftime('[%Y/%m/%d %H:%M:%S]')\n",
    "    log = []\n",
    "    for message in messages:\n",
    "        log.append(str(message))\n",
    "    print(log_time + '::' + ','.join(log) + '')\n",
    "    sys.stdout.flush()\n",
    "\n",
    "# 데이터 보간 함수\n",
    "def auto_interpolate(df : pandas.DataFrame, target_col : str , index_col: str,  null_ratio : int, interp_method:str):\n",
    "    '''\n",
    "    입력받은 데이터에서 null이 포함된 비율 기준으로 데이터를 뽑아 데이터를 보간하는 함수\n",
    "    :parameter df: pandas.DataFrame : Input data type DataFrame\n",
    "    :parameter target_col:str : Target column name for removing\n",
    "    :parameter index_col:str : Index column name\n",
    "    :parameter null_ratio : int : Criteria for selecting data to interpolate\n",
    "    :parameter interp_method : str : Data interpolation methodology\n",
    "     Parameters in to scipy.interpolate.interp1d\n",
    "      ‘linear’, ‘nearest’, ‘zero’, ‘slinear’, ‘quadratic’,\n",
    "      ‘cubic’, ‘previous’, ‘next’, where ‘zero’, ‘slinear’, ‘quadratic’, ‘cubic’ 등선언\n",
    "    '''\n",
    "    # null 값 확인\n",
    "    df.set_index(index_col, inplace = True)\n",
    "    target_y = df[target_col]\n",
    "    df = df.drop(columns=[target_col], axis=0)\n",
    "    null_ratio = (round(df.isnull().sum()/301*100,3))\n",
    "    null_df = pandas.DataFrame(null_ratio, columns=[\"null_ratio\"])\n",
    "\n",
    "    list_intp = null_df.loc[(null_df[\"null_ratio\"] != 0) & (null_df[\"null_ratio\"]<= null_ratio )].index.to_list()\n",
    "\n",
    "    for intp_col in iter(list_intp):\n",
    "        line_logging(intp_col)\n",
    "        prep_x = df[intp_col].values\n",
    "        intp_x = pandas.Series(prep_x).interpolate(interp_method)\n",
    "        df[intp_col] = intp_x.values\n",
    "        df[target_col] = target_y\n",
    "\n",
    "    check_col = null_df.loc[null_df[\"null_ratio\"] > null_ratio].index.to_list()\n",
    "\n",
    "    # TO_DO\n",
    "    # 기준치 이상의 null을 보유한 컬럼의 정규성 검증\n",
    "    for colname in iter(check_col):\n",
    "        df[colname]\n",
    "\n",
    "    return df"
   ],
   "metadata": {
    "collapsed": false,
    "pycharm": {
     "name": "#%%\n"
    }
   }
  },
  {
   "cell_type": "code",
   "execution_count": null,
   "outputs": [],
   "source": [
    "df = pandas.read_csv(\"C:\\\\Users\\\\WAI\\\\PycharmProjects\\\\pythonProject\\\\data\\\\1.interpolation\\\\kamyr-digester.csv\", index_col=False)\n",
    "print(df.head(1))\n",
    "intp_df = auto_interpolate(df, target_col=\"Y-Kappa\",index_col=\"Observation\",null_ratio=15, interp_method=\"linear\")\n",
    "print(intp_df.head(1))\n",
    "\n",
    "df_null = pandas.DataFrame((round(df.isnull().sum()/len(df)*100,3)))\n",
    "intp_null = pandas.DataFrame((round(intp_df.isnull().sum()/len(df)*100,3)))\n",
    "\n",
    "result_df = pandas.concat([df_null, intp_null], axis=1)\n",
    "print(result_df)"
   ],
   "metadata": {
    "collapsed": false,
    "pycharm": {
     "name": "#%%\n"
    }
   }
  },
  {
   "cell_type": "code",
   "execution_count": 38,
   "outputs": [
    {
     "name": "stdout",
     "output_type": "stream",
     "text": [
      "[2021/06/30 11:46:45]::AAWhiteSt-4 \n",
      "1.86875\n",
      "1.88125\n",
      "0.664\n",
      "[2021/06/30 11:46:45]::SulphidityL-4 \n",
      "1.86875\n",
      "1.88125\n",
      "0.664\n"
     ]
    }
   ],
   "source": [
    "from scipy import stats\n",
    "\n",
    "# 정규성 검정 및 선형성 검증\n",
    "df = pandas.read_csv(\"C:\\\\Users\\\\WAI\\\\PycharmProjects\\\\pythonProject\\\\data\\\\1.interpolation\\\\kamyr-digester.csv\", index_col=False)\n",
    "df.set_index(\"Observation\",inplace=True)\n",
    "\n",
    "null_ratio = (round(df.isnull().sum()/301*100,3))\n",
    "# print(null_ratio)\n",
    "null_df = pandas.DataFrame(null_ratio, columns=[\"null_ratio\"])\n",
    "# null값의 비율을 어떻게 보고 정해야할지\n",
    "# 10% 미만인 친구들은 선형성 검증하여 선형성을 띄고 있다면 바로 보간법 수행\n",
    "check_col = null_df.loc[null_df[\"null_ratio\"] > 10].index.to_list()\n",
    "# 정규성 검정\n",
    "for colname in iter(check_col):\n",
    "    line_logging(colname)\n",
    "    if len(df) <= 2000 :\n",
    "        # Shapirowilk Test\n",
    "        test_stats, p_val = stats.shapiro(df[colname].dropna().values)\n",
    "    else :\n",
    "        # Kolmogorov-Smirnov Test\n",
    "        test_stats, p_val = stats.kstest(df[colname].dropna().values, 'norm')\n",
    "        print(p_val)\n",
    "    if(p_val > 0.5):\n",
    "        print(\"정규성을 따르지 않음\")\n",
    "        check_col.remove(colname)\n",
    "    else:\n",
    "        # null이 아닌 데이터의 간격이 균일한지\n",
    "        not_null_dt = numpy.where(df[colname].notnull())\n",
    "\n",
    "        sum_diff = 0\n",
    "        for i in range(0,len(not_null_dt[0])):\n",
    "            if i < len(not_null_dt[0])-1:\n",
    "                sum_diff += not_null_dt[0][i+1] - not_null_dt[0][i]\n",
    "\n",
    "        # 모집단의 평균\n",
    "        print(sum_diff/len(not_null_dt[0]))\n",
    "        #ADI 의 개념 사용\n",
    "        # Average Demand Interval ( 평균 수요 구간)\n",
    "        print(len(df)/len(not_null_dt[0]))\n",
    "        # MAPE\n",
    "        print(round(numpy.abs((len(df)/len(not_null_dt[0])) - (sum_diff/len(not_null_dt[0]))) / (len(df)/len(not_null_dt[0])) * 100,3))\n",
    "\n",
    "        # 정규성을 따른다.\n",
    "\n",
    "\n",
    "    # 정규분포와의 잔차"
   ],
   "metadata": {
    "collapsed": false,
    "pycharm": {
     "name": "#%%\n"
    }
   }
  },
  {
   "cell_type": "code",
   "execution_count": 122,
   "outputs": [
    {
     "name": "stdout",
     "output_type": "stream",
     "text": [
      "<class 'numpy.ndarray'>\n"
     ]
    },
    {
     "data": {
      "text/plain": "<Figure size 432x288 with 1 Axes>",
      "image/png": "[encoded data removed]"
     },
     "metadata": {
      "needs_background": "light"
     },
     "output_type": "display_data"
    }
   ],
   "source": [
    "import seaborn\n",
    "\n",
    "N_1 = 10; mu_1 = 0; sigma_1 = 1\n",
    "N_2 = 10; mu_2 = 0.5; sigma_2 = 1\n",
    "numpy.random.seed(0)\n",
    "\n",
    "x1 = stats.norm(mu_1, sigma_1).rvs(N_1)\n",
    "x2 = stats.norm(mu_2, sigma_2).rvs(N_2)\n",
    "print(type(x1))\n",
    "seaborn.distplot(x1, kde=False, fit=stats.norm)\n",
    "seaborn.distplot(x2, kde=False, fit=stats.norm)\n",
    "plt.show()"
   ],
   "metadata": {
    "collapsed": false,
    "pycharm": {
     "name": "#%%\n"
    }
   }
  },
  {
   "cell_type": "code",
   "execution_count": 56,
   "outputs": [],
   "source": [
    "# Pandas Interpolate -> 단일 열에 대한, Seriese에 대한 보간\n",
    "# 필요 모듈 import\n",
    "import pandas\n",
    "import warnings\n",
    "import scipy\n",
    "warnings.filterwarnings(action='ignore')\n",
    "\n",
    "def line_logging(*messages):\n",
    "    import datetime\n",
    "    import sys\n",
    "    today = datetime.datetime.today()\n",
    "    log_time = today.strftime('[%Y/%m/%d %H:%M:%S]')\n",
    "    log = []\n",
    "    for message in messages:\n",
    "        log.append(str(message))\n",
    "    print(log_time + '::' + ','.join(log) + '')\n",
    "    sys.stdout.flush()\n",
    "\n",
    "# 데이터 보간 함수\n",
    "def auto_interpolate(df : pandas.DataFrame, target_col : str , index_col: str,  null_ratio : int, interp_method:str):\n",
    "    '''\n",
    "    입력받은 데이터에서 null이 포함된 비율 기준으로 데이터를 뽑아 데이터를 보간하는 함수\n",
    "    :parameter df: pandas.DataFrame : Input data type DataFrame\n",
    "    :parameter target_col:str : Target column name for removing\n",
    "    :parameter index_col:str : Index column name\n",
    "    :parameter null_ratio : int : Criteria for selecting data to interpolate\n",
    "    :parameter interp_method : str : Data interpolation methodology\n",
    "     Parameters in to scipy.interpolate.interp1d\n",
    "      ‘linear’, ‘nearest’, ‘zero’, ‘slinear’, ‘quadratic’,\n",
    "      ‘cubic’, ‘previous’, ‘next’, where ‘zero’, ‘slinear’, ‘quadratic’, ‘cubic’ 등선언\n",
    "    '''\n",
    "\n",
    "    '''TO-BE\n",
    "    1. 맨처음 값이 Null인 경우 처리방법 추가\n",
    "    2. 기초통계값을 이용한 보간처리 추가\n",
    "    3. 영향도 분석 등등 추가\n",
    "    '''\n",
    "    # null 값 확인\n",
    "    df.set_index(index_col, inplace = True)\n",
    "    target_y = df[target_col]\n",
    "    df = df.drop(columns=[target_col], axis=0)\n",
    "    null_ratio = (round(df.isnull().sum()/301*100,3))\n",
    "    null_df = pandas.DataFrame(null_ratio, columns=[\"null_ratio\"])\n",
    "    # 기준 범위 내 null을 가지고 있는 데이터 보간 방법법\n",
    "    list_intp = null_df.loc[(null_df[\"null_ratio\"] != 0) & (null_df[\"null_ratio\"]<= null_ratio )].index.to_list()\n",
    "    for intp_col in iter(list_intp):\n",
    "        #line_logging(intp_col)\n",
    "        prep_x = df[intp_col].values\n",
    "        if interp_method in [\"polynomial\",\"spline\"]:\n",
    "            # 3차 다항, 스플라인 사용 그이상의 차수는 고려\n",
    "            # To-Be\n",
    "            intp_x = pandas.Series(prep_x).interpolate(interp_method, order = 3)\n",
    "            df[intp_col] = intp_x.values\n",
    "        else:\n",
    "            intp_x = pandas.Series(prep_x).interpolate(interp_method)\n",
    "            df[intp_col] = intp_x.values\n",
    "\n",
    "    # 2. 기준 비율 이상의 null을 가지고 있는 데이터 보간 방법\n",
    "    check_col = null_df.loc[null_df[\"null_ratio\"] > null_ratio].index.to_list()\n",
    "\n",
    "    # TO_DO\n",
    "    # 기준치 이상의 null을 보유한 컬럼의 정규성 검증\n",
    "    for colname in iter(check_col):\n",
    "        #line_logging(colname)\n",
    "        if len(df) <= 2000 :\n",
    "            # Shapirowilk Test\n",
    "            test_stats, p_val = scipy.stats.shapiro(df[colname].dropna().values)\n",
    "        else :\n",
    "            # Kolmogorov-Smirnov Test\n",
    "            test_stats, p_val = scipy.stats.kstest(df[colname].dropna().values, 'norm')\n",
    "\n",
    "        if(p_val > 0.5):\n",
    "            #print(\"정규성을 따르지 않음\")\n",
    "            check_col.remove(colname)\n",
    "        else:\n",
    "            # null이 아닌 데이터의 간격이 균일한지\n",
    "            not_null_dt = numpy.where(df[colname].notnull())\n",
    "            sum_diff = 0\n",
    "            for i in range(0,len(not_null_dt[0])):\n",
    "                if i < len(not_null_dt[0])-1:\n",
    "                    sum_diff += not_null_dt[0][i+1] - not_null_dt[0][i]\n",
    "            # 모집단의 평균\n",
    "            #print(sum_diff/len(not_null_dt[0]))\n",
    "            #ADI 의 개념 사용\n",
    "            # Average Demand Interval ( 평균 수요 구간)\n",
    "            #print(len(df)/len(not_null_dt[0]))\n",
    "            # MAPE 오차율 비교하여 인덱스 차이 검증\n",
    "            #print(round(numpy.abs((len(df)/len(not_null_dt[0])) - (sum_diff/len(not_null_dt[0]))) / (len(df)/len(not_null_dt[0])) * 100,3))\n",
    "            mape_interval = round(numpy.abs((len(df)/len(not_null_dt[0])) - (sum_diff/len(not_null_dt[0]))) / (len(df)/len(not_null_dt[0])) * 100,3)\n",
    "\n",
    "            if mape_interval < 10:\n",
    "                prep_x = df[colname].values\n",
    "                if interp_method in [\"polynomial\",\"spline\"]:\n",
    "                    # 3차 다항, 스플라인 사용 그이상의 차수는 고려\n",
    "                    # To-Be\n",
    "                    intp_x = pandas.Series(prep_x).interpolate(interp_method, order = 3)\n",
    "                    df[intp_col] = intp_x.values\n",
    "                else:\n",
    "                    intp_x = pandas.Series(prep_x).interpolate(interp_method)\n",
    "                    df[intp_col] = intp_x.values\n",
    "            else:\n",
    "                df.drop(columns=colname, inplace=True, axis=1)\n",
    "\n",
    "    df[target_col] = target_y\n",
    "    return df\n"
   ],
   "metadata": {
    "collapsed": false,
    "pycharm": {
     "name": "#%%\n"
    }
   }
  },
  {
   "cell_type": "code",
   "execution_count": 72,
   "outputs": [
    {
     "name": "stdout",
     "output_type": "stream",
     "text": [
      "Observation\n",
      "31-00:00         NaN\n",
      "31-01:00    6.076000\n",
      "31-02:00    6.041541\n",
      "31-03:00    6.054000\n",
      "31-04:00    6.110000\n",
      "              ...   \n",
      "12-08:00    6.290966\n",
      "12-09:00    6.340000\n",
      "12-10:00    6.220000\n",
      "12-11:00    6.306498\n",
      "12-12:00    6.230000\n",
      "Name: AAWhiteSt-4 , Length: 301, dtype: float64\n",
      "Observation\n",
      "31-00:00          NaN\n",
      "31-01:00    29.110000\n",
      "31-02:00    29.293721\n",
      "31-03:00    29.020000\n",
      "31-04:00    29.010000\n",
      "              ...    \n",
      "12-08:00    30.810140\n",
      "12-09:00    30.290000\n",
      "12-10:00    30.470000\n",
      "12-11:00    30.860309\n",
      "12-12:00    30.460000\n",
      "Name: SulphidityL-4 , Length: 301, dtype: float64\n",
      "(array([0], dtype=int64),)\n"
     ]
    },
    {
     "data": {
      "text/plain": "0.33222591362126247"
     },
     "execution_count": 72,
     "metadata": {},
     "output_type": "execute_result"
    }
   ],
   "source": [
    "df = pandas.read_csv(\"C:\\\\Users\\\\WAI\\\\PycharmProjects\\\\pythonProject\\\\data\\\\1.interpolation\\\\kamyr-digester.csv\", index_col=False)\n",
    "#print(df.head(1))\n",
    "\n",
    "intp_df = auto_interpolate(df, target_col=\"Y-Kappa\",index_col=\"Observation\",null_ratio=15, interp_method=\"spline\")\n",
    "#print(intp_df.head(1))\n",
    "print(intp_df[\"AAWhiteSt-4 \"])\n",
    "print(intp_df[\"SulphidityL-4 \"])\n",
    "print(numpy.where(intp_df[\"SulphidityL-4 \"].isnull()))\n",
    "df_null = pandas.DataFrame((round(df.isnull().sum()/len(df)*100,3)))\n",
    "intp_null = pandas.DataFrame((round(intp_df.isnull().sum()/len(df)*100,3)))\n",
    "\n",
    "result_df = pandas.concat([df_null, intp_null], axis=1)\n",
    "\n",
    "\n"
   ],
   "metadata": {
    "collapsed": false,
    "pycharm": {
     "name": "#%%\n"
    }
   }
  }
 ],
 "metadata": {
  "kernelspec": {
   "name": "pycharm-58e97ac5",
   "language": "python",
   "display_name": "PyCharm (pythonProject)"
  },
  "language_info": {
   "codemirror_mode": {
    "name": "ipython",
    "version": 2
   },
   "file_extension": ".py",
   "mimetype": "text/x-python",
   "name": "python",
   "nbconvert_exporter": "python",
   "pygments_lexer": "ipython2",
   "version": "2.7.6"
  }
 },
 "nbformat": 4,
 "nbformat_minor": 0
}