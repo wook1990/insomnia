{
    "cells": [
        {
            "cell_type": "code",
            "execution_count": 2,
            "source": [
                "\r\n",
                "# 필요 패키지 import\r\n",
                "import pandas\r\n",
                "import numpy\r\n",
                "from sklearn.model_selection import train_test_split\r\n",
                "from sklearn.preprocessing import StandardScaler\r\n",
                "from sklearn.linear_model import Lasso, Ridge\r\n",
                "import matplotlib.pyplot as plt"
            ],
            "outputs": [],
            "metadata": {}
        },
        {
            "cell_type": "code",
            "execution_count": 3,
            "source": [
                "#\r\n",
                "# 1. DATA LOAD\r\n",
                "# \r\n",
                "# Kaggle에서 제공하는 [BNP Paribas Cardif Claims Management](https://www.kaggle.com/c/bnp-paribas-cardif-claims-management/data)데이터를 활용\r\n",
                "# BNP Paribas Cardif 청구관리 데이터 셋으로 고객의 클레임 여부를 판단하는 데이터셋의 Subset\r\n",
                "DATA_PATH = \"c:\\\\Users\\\\WAI\\\\OneDrive\\\\03.WORKSPACE\\\\00.DATA\\\\\"\r\n",
                "df = pandas.read_csv(DATA_PATH + \"BookExample.csv\")\r\n",
                "print(df.shape) # (20000, 33)\r\n",
                "\r\n",
                "# 연속형 변수만 추출\r\n",
                "n_obj_cols = []\r\n",
                "for col, type in zip(df.dtypes.index, df.dtypes.values):\r\n",
                "    if type != (\"object\"):\r\n",
                "        n_obj_cols.append(col)\r\n",
                "\r\n",
                "n_obj_df = df[n_obj_cols]\r\n",
                "print(n_obj_df.shape)\r\n",
                "\r\n",
                "\r\n",
                "x = n_obj_df.drop(labels=[\"ID\",\"target\"], axis=1)\r\n",
                "y = n_obj_df[\"target\"]\r\n",
                "\r\n"
            ],
            "outputs": [
                {
                    "output_type": "stream",
                    "name": "stdout",
                    "text": [
                        "(20000, 33)\n",
                        "(20000, 28)\n"
                    ]
                }
            ],
            "metadata": {}
        },
        {
            "cell_type": "code",
            "execution_count": null,
            "source": [
                "# 1. Ridge Regression\r\n",
                "#  선형모델의 예측력 또는 설명력을 높이기 위해 여러 정규하 방법들을 사용합니다.\r\n",
                "#  대표적인 shrinkage 방법에는 ridge와 lasso가 있습니다. 기본선형모델과 유사하나, 잔차에 제약조건을 추가하여 \r\n",
                "#  선형회귀식을 정규화 시키는 방법입니다.\r\n",
                "#  Ridge는 각 계수의 제곱을 더한값을 제약조건으로 포함시켜 각 특성의 계쏘의 크기도 함께 최소화 만드는 차이가 있습니다.\r\n",
                "#  분산이 커지는 상황을 막기 위해 계수가 큰 특성에 페널티를 추가하여, 보다 부드럽게 계수를 선택할 수 있습니다. \r\n",
                "#  특성의 크기가 결과에 큰 영향을 미치기 때문에, 스케일링(Scaling)을 통해 특성의 사이즈를 비슷하게 만들어 주어야 합니다.\r\n",
                " \r\n",
                "# 표준화\r\n",
                "#x = StandardScaler().fit_transform(x) \r\n",
                "# Ridge regression 파라미터 normalize 를 사용하여\r\n",
                "ridgeReg = Ridge(alpha=0.5, normalize=True)"
            ],
            "outputs": [],
            "metadata": {}
        }
    ],
    "metadata": {
        "orig_nbformat": 4,
        "language_info": {
            "name": "python"
        }
    },
    "nbformat": 4,
    "nbformat_minor": 2
}