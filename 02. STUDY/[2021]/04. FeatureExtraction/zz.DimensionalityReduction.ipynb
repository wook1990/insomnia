{
    "cells": [
        {
            "cell_type": "code",
            "execution_count": null,
            "source": [],
            "outputs": [],
            "metadata": {}
        },
        {
            "cell_type": "markdown",
            "source": [
                "### 차원 축소(Demensionality Reduction)  \r\n",
                "\r\n",
                "차원이라는 말은 데이터가 가지는 특성의 개수를 의미한다. 차원 축소는 다양한 특성으로 구성된 다차원의 데이터 세트의 특성을 줄여  \r\n",
                "데이터의 차원을 축소해 새로운 차원의 데이터를 생성하는 것을 말한다.\r\n",
                "차원이 증가할 수록 생기는 문제점으로는 \r\n",
                "1. 예측 신뢰도가 떨어진다.\r\n",
                "2. 과적합이 발생활 가능성이 높아진다.\r\n",
                "3. 각각의 특성간의 상관관계가 높아져 다중 공선성의 문제가 발생할수 있다.\r\n",
                "다시말해, 차원의 저주에 빠질 수 있다라는 말로 표현할 수 있다. \r\n",
                "\r\n",
                "이런 차원에 저주에 빠지지않기 위해 차원 축소를 사용하는 이유는 \r\n",
                "1. 다차원 데이터를 축소하여 특성수를 줄이면 더 직관적으로 데이터를 해석할 수 있다.\r\n",
                "2. 학습 데이터의 크기가 줄어 학습에 사용되는 자원을 줄일수 있다.\r\n",
                "\r\n",
                "\r\n",
                "일반적으로 차원 축소는 특성선택(Feature Selection)과 특성추출(Feature Extraction)로 나눌 수 있다.  \r\n",
                "\r\n",
                "두 방법의 차이를 간단히 설명하자면,   \r\n",
                "특성 선택은 데이터의 특징을 잘 나타내는 주요 특성만 선택하고, 불필요한 특성은 제거하는 방법을 얘기한다.  \r\n",
                "반면, 특성 추출은 기존의 특성을 저차원의 중요 특성으로 압축해서 기존의 특성과는 완전히 다른 새로운 특성을 만드는 방법을 말한다. \r\n",
                "\r\n",
                "차원 축소는 단순히 데이터의 압축만을 의미하는 것이 아니다. 차원 축소를 통해 좀더 데이터를 잘 설명할 수 있는 잠재적인 요소를 추출하는데 있다.  \r\n",
                "차원 축소방법에는 대표적으로 PCA(Principal Component Analysis), SVD(Single Value Decompostion), NMF(Non-negative Matirx Factorization)라는 알고리즘이 있다.\r\n",
                "\r\n"
            ],
            "metadata": {}
        },
        {
            "cell_type": "markdown",
            "source": [
                "#### 1) PCA(Principal Component  Anaylsis) - 주성분분석\r\n",
                "\r\n",
                "\r\n",
                "가장 대표적인 차원 축소 기법이다. 상관관계까 있는 변수들을 선형결합하여 이를 대표하는 주성분의 특징을 추출해 차원을 축소하는 기법이다.  \r\n",
                "간단하게 가장 높은 분산을 가지는 데이터의 축을 찾아 차원을 축소하는데, 이것이 PCA의 주성분이 되는 방식이다.   \r\n",
                "즉, 차원을 축소하면서도 원본 데이터의 특성을 가지고 있도록 하는 것이 핵심이다.  \r\n",
                "첫번째 주성분은 전체 데이터의 변동을 가장많이 설명하고,  \r\n",
                "두번째 주성분은 첫번째 주성분과 상관성이 낮아 첫번째 주성분이 설명하지 못하는 나머지 변동을 정보의 손실 없이 가장 많이 설명할 수 있도록 변수들을 조합하여\r\n",
                "차원 축소를 하는 알고리즘이다. \r\n",
                "\r\n",
                "일반적으로 주성분분석 결과에서 누적기울기(Cumulative Proportion)이 85%이상인 주성분(Screen plot에서 고유값이 수평을 유지하기 전단계)까지 선택하여사용"
            ],
            "metadata": {}
        },
        {
            "cell_type": "code",
            "execution_count": 1,
            "source": [
                "# import 모듈 \r\n",
                "import pandas\r\n",
                "\r\n",
                "url = \"https://archive.ics.uci.edu/ml/machine-learning-databases/iris/iris.data\"\r\n",
                "iris = pandas.read_csv(url, names=['sepal length','sepal width','petal length','petal width','target'])\r\n",
                "print(iris.head())"
            ],
            "outputs": [
                {
                    "output_type": "stream",
                    "name": "stdout",
                    "text": [
                        "   sepal length  sepal width  petal length  petal width       target\n",
                        "0           5.1          3.5           1.4          0.2  Iris-setosa\n",
                        "1           4.9          3.0           1.4          0.2  Iris-setosa\n",
                        "2           4.7          3.2           1.3          0.2  Iris-setosa\n",
                        "3           4.6          3.1           1.5          0.2  Iris-setosa\n",
                        "4           5.0          3.6           1.4          0.2  Iris-setosa\n"
                    ]
                }
            ],
            "metadata": {}
        },
        {
            "cell_type": "markdown",
            "source": [
                "### 표준화(Standardization)\r\n",
                "- PCA를 하기전에 데이터 스케일링을 해주어야 한다.\r\n",
                "-  데이터의 스케일에 따라 주성분의 설명가능한 분산량이 달라질 수 있기 때문이다.  \r\n",
                "\r\n",
                "<img src=\"https://mblogthumb-phinf.pstatic.net/MjAxOTExMjdfMTgx/MDAxNTc0ODQ0NDIyOTM0.RDcruLth8bWH62cYw7H1ad4U_mat0qCc1PjboiB6fxAg._546vqm8efUdqrciTPrN2fOBREMc8JAFWPhJ_djFWG8g.PNG.tjdrud1323/image.png?type=w800\" data-lazy-src=\"\" data-width=\"500\" data-height=\"265\" alt=\"\" class=\"se-image-resource _lazy-loading-target-image\" id=\"img_3\" data-top=\"5403.33935546875\">\r\n",
                "\r\n",
                "<img src=\"https://mblogthumb-phinf.pstatic.net/MjAxOTExMjdfMjk0/MDAxNTc0ODQ0NDM4MTk1.WyfcEvMDQ0GDq1H0v6HT3W0lgkKKmVarpP77UXnmyfYg.P2j4EZV3VuXjOuynKdl6TrLDjd6f1HBjlhKmwimPg0Ig.PNG.tjdrud1323/image.png?type=w800\" data-lazy-src=\"\" data-width=\"580\" data-height=\"315\" alt=\"\" class=\"se-image-resource _lazy-loading-target-image\" id=\"img_4\" data-top=\"5403.33935546875\">\r\n"
            ],
            "metadata": {}
        },
        {
            "cell_type": "code",
            "execution_count": 2,
            "source": [
                "from sklearn.preprocessing import StandardScaler\r\n",
                "\r\n",
                "x = iris.drop(['target'], axis=1).values\r\n",
                "y = iris['target'].values\r\n",
                "\r\n",
                "x = StandardScaler().fit_transform(x)\r\n",
                "features = ['sepal length', 'sepal width', 'petal length' , 'petal width']\r\n",
                "print(pandas.DataFrame(x, columns=features).head())"
            ],
            "outputs": [
                {
                    "output_type": "stream",
                    "name": "stdout",
                    "text": [
                        "   sepal length  sepal width  petal length  petal width\n",
                        "0     -0.900681     1.032057     -1.341272    -1.312977\n",
                        "1     -1.143017    -0.124958     -1.341272    -1.312977\n",
                        "2     -1.385353     0.337848     -1.398138    -1.312977\n",
                        "3     -1.506521     0.106445     -1.284407    -1.312977\n",
                        "4     -1.021849     1.263460     -1.341272    -1.312977\n"
                    ]
                }
            ],
            "metadata": {}
        },
        {
            "cell_type": "code",
            "execution_count": 15,
            "source": [
                "# PCA\r\n",
                "# import PCA \r\n",
                "from sklearn.decomposition import PCA\r\n",
                "import numpy\r\n",
                "import matplotlib.pyplot as plt\r\n",
                "# 주성분수 속성값으로 지정\r\n",
                "pca = PCA(n_components=2)\r\n",
                "\r\n",
                "principalComponents = pca.fit_transform(x)\r\n",
                "principal_df = pandas.DataFrame(data = principalComponents, columns = ['pcaComp1','pcaComp2'])\r\n",
                "print(principal_df.head())\r\n",
                "print(pca.explained_variance_ratio_)\r\n",
                "print(sum(pca.explained_variance_ratio_))\r\n",
                "# n_components로 선언한 주성분의 개수로 전체 데이터의 분산을 얼마나 설명 가능한지 \r\n",
                "# explained_Variance_ration_를 통해 알 수 있다.\r\n",
                "\r\n",
                "\r\n",
                "\r\n",
                "\r\n",
                "# 3개의 주성분 분석\r\n",
                "pca2 = PCA(n_components=3)\r\n",
                "principalComponents2 = pca2.fit_transform(x)\r\n",
                "principal_df2 = pandas.DataFrame(data = principalComponents2, columns = ['pcaComp1','pcaComp2','pcaComp3'])\r\n",
                "print(principal_df2.head())\r\n",
                "print(pca2.explained_variance_ratio_)\r\n",
                "\r\n",
                "# 3번째 주성분의 분산 설명력이\r\n",
                "# 0.03 밖에 되지 않는 것을 확인할 수 있따. \r\n",
                "# 따라서, 추가적인 주성분을 투입하더라도 설명 가능한 분산량이 얼마 증가하지 않기 때문에 주성분은 두개로 결정하는 것이 적절하다고 할 수 있다.\r\n",
                "\r\n"
            ],
            "outputs": [
                {
                    "output_type": "stream",
                    "name": "stdout",
                    "text": [
                        "   pcaComp1  pcaComp2\n",
                        "0 -2.264542  0.505704\n",
                        "1 -2.086426 -0.655405\n",
                        "2 -2.367950 -0.318477\n",
                        "3 -2.304197 -0.575368\n",
                        "4 -2.388777  0.674767\n",
                        "[0.72770452 0.23030523]\n",
                        "0.9580097536148198\n",
                        "   pcaComp1  pcaComp2  pcaComp3\n",
                        "0 -2.264542  0.505704 -0.121943\n",
                        "1 -2.086426 -0.655405 -0.227251\n",
                        "2 -2.367950 -0.318477  0.051480\n",
                        "3 -2.304197 -0.575368  0.098860\n",
                        "4 -2.388777  0.674767  0.021428\n",
                        "[0.72770452 0.23030523 0.03683832]\n"
                    ]
                }
            ],
            "metadata": {}
        },
        {
            "cell_type": "code",
            "execution_count": 4,
            "source": [
                "# 두개의 주성분을 이용햔 Iris species시각화\r\n",
                "from matplotlib import pyplot as plt\r\n",
                "\r\n",
                "final_df = pandas.concat([principal_df, iris[['target']]], axis=1)\r\n",
                "fig = plt.figure(figsize=(8,8))\r\n",
                "ax = fig.add_subplot(1,1,1)\r\n",
                "ax.set_xlabel('pcaComp1', fontsize=15)\r\n",
                "ax.set_ylabel('pcaComp2', fontsize=15)\r\n",
                "ax.set_title('2Comp PCA', fontsize=20)\r\n",
                "targets = ['Iris-setosa', 'Iris-versicolor', 'Iris-virginica']\r\n",
                "\r\n",
                "colors = ['r','g','b']\r\n",
                "for target, color in zip(targets, colors):\r\n",
                "    indicesToKeep = final_df['target'] == target\r\n",
                "    ax.scatter(final_df.loc[indicesToKeep, 'pcaComp1']\r\n",
                "            , final_df.loc[indicesToKeep, 'pcaComp2']\r\n",
                "            , c = color\r\n",
                "            , s = 50)\r\n",
                "ax.legend(targets)\r\n",
                "ax.grid()"
            ],
            "outputs": [
                {
                    "output_type": "display_data",
                    "data": {
                        "text/plain": [
                            "<Figure size 576x576 with 1 Axes>"
                        ],
                        "image/png": "[encoded data removed]"
                    },
                    "metadata": {
                        "needs_background": "light"
                    }
                }
            ],
            "metadata": {}
        },
        {
            "cell_type": "markdown",
            "source": [
                "#### 어떤 이유를 근거로 주성분을 2개로 결정하는가?  \r\n",
                "\r\n",
                "<img src=\"https://mblogthumb-phinf.pstatic.net/MjAxOTExMjdfNjQg/MDAxNTc0ODQ1Nzg2MjMx.vHpiC4Tqt0UH09gfdJ2bCQtBqmxJ-sX2pNlYidz-ZQEg.fQyb9VSVkvnbuMT_So2fOSkbtU9OEO6ck8h20LfH0NMg.PNG.tjdrud1323/image.png?type=w800\" data-lazy-src=\"\" data-width=\"450\" data-height=\"364\" alt=\"\" class=\"se-image-resource _lazy-loading-target-image\" id=\"img_8\" data-top=\"7877.7236328125\">\r\n",
                "<img src=\"https://mblogthumb-phinf.pstatic.net/MjAxOTExMjdfMzAw/MDAxNTc0ODQ5OTQ4ODc2.o5UQM1igQqD5NrOBXH8ePAR6uIFp4uM5J-1jA49-db0g.zc3ow6UBEzOcMJHubEhfCMpDoRwYaiPJDJMCnFclY6sg.PNG.tjdrud1323/image.png?type=w800\" data-lazy-src=\"\" data-width=\"575\" data-height=\"460\" alt=\"\" class=\"se-image-resource _lazy-loading-target-image\" id=\"img_9\" data-top=\"7877.7236328125\">\r\n",
                "\r\n",
                "- PCA를 단계적으로 진행할 경우, 공분산 행렬을 통해 고유값과 고유벡터를 구할 수 있는데, 이때의 고유값이 설명 가능한 분산량에 해당한다. \r\n",
                "- 위 그래프는 주성분 각각의 고윳값들이 원래 데이터를 설명한 비율을 나타내는 그래프이다.\r\n",
                "- 그래프 대로 해석을 하자면 주성분이 6개일 때, 누적 설명 분산량이 73%이기 때문에 주성분을 6개로 결정하였다라고 결론 지을 수 있는 것이다.\r\n"
            ],
            "metadata": {}
        },
        {
            "cell_type": "code",
            "execution_count": 17,
            "source": [
                "# Explained Variance \r\n",
                "from numpy.linalg import eigh\r\n",
                "\r\n",
                "# Determine covariance Matrix\r\n",
                "cov_matrix = numpy.cov(x, rowvar=False)\r\n",
                "\r\n",
                "# Determine eigenvalues and eigenvectors\r\n",
                "egnvalues, egnvectors = eigh(cov_matrix)\r\n",
                "\r\n",
                "# Determine Explained Variance\r\n",
                "total_egnvalues = sum(egnvalues)\r\n",
                "var_exp = [(i/total_egnvalues) for i in sorted(egnvalues, reverse=True)]\r\n",
                "\r\n",
                "# plot the explained variance against cumulative explained variance\r\n",
                "import matplotlib.pyplot as plt\r\n",
                "\r\n",
                "cum_sum_exp = numpy.cumsum(var_exp)\r\n",
                "plt.bar(range(0,len(var_exp)), var_exp, alpha=0.5, align='center', label = 'Individual Explained Variane')\r\n",
                "plt.step(range(0,len(cum_sum_exp)), cum_sum_exp, where ='mid', label='Cumulative explained var')\r\n",
                "plt.ylabel('Explained Variance Ratio')\r\n",
                "plt.xlabel(\"Principal Component index\")\r\n",
                "plt.legend(loc='best')\r\n",
                "plt.tight_layout()\r\n",
                "plt.show()\r\n",
                "\r\n",
                "# 결과를 통해 \r\n",
                "# 2개의 PCA Component가 Raw 데이터 분산설명량의 90%를 차지하고있다\r\n",
                "# PCA의 component 개수는 2개가 적절하다.\r\n",
                "\r\n"
            ],
            "outputs": [
                {
                    "output_type": "display_data",
                    "data": {
                        "text/plain": [
                            "<Figure size 432x288 with 1 Axes>"
                        ],
                        "image/png": "[encoded data removed]"
                    },
                    "metadata": {
                        "needs_background": "light"
                    }
                }
            ],
            "metadata": {}
        }
    ],
    "metadata": {
        "orig_nbformat": 4,
        "language_info": {
            "name": "python"
        }
    },
    "nbformat": 4,
    "nbformat_minor": 2
}