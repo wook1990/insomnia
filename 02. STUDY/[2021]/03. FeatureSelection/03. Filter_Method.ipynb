{
 "cells": [
  {
   "cell_type": "markdown",
   "metadata": {},
   "source": [
    "### Filter Method\r\n",
    "Filter Method 는 Machine Learning Algorithm과 독립적으로 Feature Selection을 수행하는 방법이다.  \r\n",
    "Filter Method의 가장 큰 장점중의 하나라고 할 수 있다. Filter Method로 선택된 Feature들은 모든 Machine Learning Algorithm에 사용할 수 있다.  \r\n",
    "또한 Filter Method는 매우 빠르다는 장점 또한 가지고 있다. 그렇기 때문에 Feature Selection의 파이프라인 중에서 첫번째 단계에서 수행된다. \r\n",
    "\r\n",
    "Filter Method는 크게 **Univariate Filter Method** 와 **Multivariate Filter Method** 로 구분할 수 있다. \r\n",
    "\r\n",
    "##### Univariate Filter Method(단변량)\r\n",
    "*Univariate Filter Method* 는 특정 기준에 따라 각각의 Feature에 순위를 정한수, 상위 N개의 Feature를 선택하는 방법이다.  \r\n",
    "Fisher Score, Mutual information and Variance 등의 기준을 사용할 수 있다.   \r\n",
    "하지만, Feature간의 관계를 고려하지 않기 때문에, 중복되는 성질을 가진 Feature를 선택할 수 있다.  \r\n",
    "그렇기 때문에 상수 및 준 상수 특성을 제거하는데 이상적이라고 할 수 있는 방법이다.\r\n",
    "\r\n",
    "\r\n",
    "##### Multivariate Filter Method\r\n",
    "*Multivariate Filter Method*는 Feature 간의 상호 관계를 고려하므로 데이터에서 중복 및 상관된 성질을 가진 Feature를 제거할 수 있다.  \r\n",
    "\r\n",
    "사용할 데이터는 Kaggle에서 제공하는 [Santandar Customer Satisfation](https://www.kaggle.com/c/santander-customer-satisfaction/data)의 train.csv를 사용한다.  \r\n",
    "\r\n",
    "[참고링크](https://stackabuse.com/applying-filter-methods-in-python-for-feature-selection)\r\n"
   ]
  },
  {
   "cell_type": "code",
   "execution_count": null,
   "metadata": {},
   "outputs": [],
   "source": [
    "####  "
   ]
  }
 ],
 "metadata": {
  "interpreter": {
   "hash": "38566a39552b1b655eb72da874b1961bbd93b9f82fa170b03452a67a93060447"
  },
  "kernelspec": {
   "display_name": "Python 3.8.8 64-bit ('base': conda)",
   "name": "python3"
  },
  "language_info": {
   "name": "python",
   "version": ""
  },
  "orig_nbformat": 4
 },
 "nbformat": 4,
 "nbformat_minor": 2
}