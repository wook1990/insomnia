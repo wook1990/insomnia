{
    "cells": [
        {
            "cell_type": "markdown",
            "source": [
                "## Scipy\r\n",
                " - 과학 및 수학 문제를 해결하는데 사용되는 파이썬 라이브러리\r\n",
                " - Numpy 확장을 기반으로하기 때문에 ndarray를 기본 자료형으로 사용하며, 사용자가 다양한 고급 명령으로 데이터를 조작하고 시각화가 가능\r\n",
                " - 특수 함수, 최적화를 비롯한 다양한 고급 수학 함수들을 제공하여 과학적 프로그래밍을 완전히 다른 수준에서 수행 할 수 있음\r\n",
                " - scipy 에는 통계, 상수값, 수학함수, 선형대수, 보간법, 최적화, Fast Fuurier transforms등의 모듈을 가지고 있다.\r\n",
                " \r\n",
                " #### Timing\r\n",
                " - 과학기술계산 연산은 계싼 속도가 중요한 척도이다.\r\n",
                " - 작업이 수행된 시간을 CPU Time 과 Wall Time으로 구분한다. \r\n",
                " - CPU Time 은 작업을 수행한 프로세서의 시간을 합한 시간이고, Wall Time은 작업을 수행한 시간을 의미한다.\r\n",
                "\r\n",
                "[참고자료](https://namyoungkim.github.io/python/scipy/2017/10/09/scipy/) scipy\r\n"
            ],
            "metadata": {}
        },
        {
            "cell_type": "code",
            "execution_count": 6,
            "source": [
                "# Timming 계산\r\n",
                "\r\n",
                "import numpy as np\r\n",
                "import scipy.linalg as linalg\r\n",
                "import time\r\n",
                "\r\n",
                "A = np.random.random(size=(10000,10000))\r\n",
                "\r\n",
                "cpuTime   = time.process_time()    # CPU time\r\n",
                "wallTime1 = time.perf_counter()   # wall time\r\n",
                "wallTime2 = time.time()            # wall time\r\n",
                "\r\n",
                "linalg.norm(A)\r\n",
                "\r\n",
                "cpuTime   = time.process_time()-cpuTime     # CPU time\r\n",
                "wallTime1 = time.perf_counter()-wallTime1   # wall time\r\n",
                "wallTime2 = time.time()-wallTime2           # wall time\r\n",
                "\r\n",
                "print('cpuTime : ', cpuTime)\r\n",
                "print('wallTime1 : ',wallTime1)\r\n",
                "print('wallTime2 : ',wallTime2)"
            ],
            "outputs": [
                {
                    "output_type": "stream",
                    "name": "stdout",
                    "text": [
                        "cpuTime :  1.71875\n",
                        "wallTime1 :  1.9970625999999356\n",
                        "wallTime2 :  1.9971299171447754\n"
                    ]
                }
            ],
            "metadata": {}
        },
        {
            "cell_type": "markdown",
            "source": [
                "#### scipy.stats\r\n",
                "> - scipy에서 지원하는 통계 모듈이다. \r\n",
                "> - Random Variable(확률변수), 확률 밀도 함수, 누적 확률 함수, 샘플 생성, Parameter Estimation 등을 지원한다.\r\n",
                "> - 연속형 변수와 이산형 변수의 다양한 확률 분포를 지원하고\r\n",
                "> - scipy.stats를 사용하려면 seaborn과 함께 import를 해주어야 한다.  \r\n",
                "> [<a href=\"http://docs.scipy.org/doc/scipy/reference/tutorial/stats/continuous.html#continuous-distributions-in-scipy-stats\">Documentation</a>]Scipy 공식 문서\r\n"
            ],
            "metadata": {}
        },
        {
            "cell_type": "code",
            "execution_count": 7,
            "source": [
                "# scipy.stats\r\n",
                "# -*- coding: utf-8 -*-\r\n",
                "\r\n",
                "import scipy as sp\r\n",
                "import seaborn as sns\r\n",
                "import numpy as np\r\n",
                "import matplotlib.pyplot as plt\r\n",
                "%matplotlib inline\r\n",
                "\r\n",
                "# Random Variable \r\n",
                "random_var = sp.stats.norm(loc=10, scale=10)"
            ],
            "outputs": [
                {
                    "output_type": "error",
                    "ename": "SyntaxError",
                    "evalue": "invalid syntax (<ipython-input-7-d441b26dd92b>, line 4)",
                    "traceback": [
                        "\u001b[1;36m  File \u001b[1;32m\"<ipython-input-7-d441b26dd92b>\"\u001b[1;36m, line \u001b[1;32m4\u001b[0m\n\u001b[1;33m    import\u001b[0m\n\u001b[1;37m           ^\u001b[0m\n\u001b[1;31mSyntaxError\u001b[0m\u001b[1;31m:\u001b[0m invalid syntax\n"
                    ]
                }
            ],
            "metadata": {}
        },
        {
            "cell_type": "code",
            "execution_count": 2,
            "source": [],
            "outputs": [],
            "metadata": {}
        }
    ],
    "metadata": {
        "orig_nbformat": 4,
        "language_info": {
            "name": "python"
        }
    },
    "nbformat": 4,
    "nbformat_minor": 2
}