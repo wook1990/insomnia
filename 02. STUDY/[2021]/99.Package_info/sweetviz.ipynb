{
    "cells": [
        {
            "cell_type": "code",
            "execution_count": 8,
            "source": [
                "import pandas \r\n",
                "import numpy\r\n",
                "import sweetviz\r\n",
                "import warnings\r\n",
                "\r\n",
                "warnings.filterwarnings(action=\"ignore\")\r\n",
                "# 데이터 경로\r\n",
                "PATH = \"C:/Users/WAI/OneDrive/03.WORKSPACE/01.BLABLA/\"\r\n",
                "\r\n",
                "\r\n"
            ],
            "outputs": [],
            "metadata": {}
        },
        {
            "cell_type": "code",
            "execution_count": 9,
            "source": [
                "\r\n",
                "train = pandas.read_csv(PATH + \"titanic_train.csv\", index_col=False)\r\n",
                "\r\n",
                "#test = pandas.read_csv(PATH + \"aug_test.csv\", index_col=False)"
            ],
            "outputs": [],
            "metadata": {}
        },
        {
            "cell_type": "code",
            "execution_count": 10,
            "source": [
                "report = sweetviz.analyze(train)\r\n",
                "report.show_html('./sweetviz_Advertising.html')"
            ],
            "outputs": [
                {
                    "output_type": "stream",
                    "name": "stderr",
                    "text": [
                        "Done! Use 'show' commands to display/save.   |██████████| [100%]   00:00 -> (00:00 left)\n"
                    ]
                },
                {
                    "output_type": "stream",
                    "name": "stdout",
                    "text": [
                        "Report ./sweetviz_Advertising.html was generated! NOTEBOOK/COLAB USERS: the web browser MAY not pop up, regardless, the report IS saved in your notebook/colab files.\n"
                    ]
                }
            ],
            "metadata": {}
        },
        {
            "cell_type": "code",
            "execution_count": null,
            "source": [],
            "outputs": [],
            "metadata": {}
        }
    ],
    "metadata": {
        "orig_nbformat": 4,
        "language_info": {
            "name": "python",
            "version": "3.7.10",
            "mimetype": "text/x-python",
            "codemirror_mode": {
                "name": "ipython",
                "version": 3
            },
            "pygments_lexer": "ipython3",
            "nbconvert_exporter": "python",
            "file_extension": ".py"
        },
        "kernelspec": {
            "name": "python3",
            "display_name": "Python 3.7.10 64-bit ('analysis': conda)"
        },
        "interpreter": {
            "hash": "b93001225728b99e51adba9f8af0e0d4fa33af88688185137188ede2401578f5"
        }
    },
    "nbformat": 4,
    "nbformat_minor": 2
}