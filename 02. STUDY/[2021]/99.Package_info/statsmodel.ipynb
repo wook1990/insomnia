{
    "cells": [
        {
            "cell_type": "code",
            "execution_count": null,
            "source": [
                "# https://notebook.community/junhwanjang/DataSchool/Lecture/12.%20Scikit-Learn%20%26%20statsmodels%20%ED%8C%A8%ED%82%A4%EC%A7%80%20%EC%86%8C%EA%B0%9C/5%29%20statsmodels%20%ED%8C%A8%ED%82%A4%EC%A7%80%20%EC%86%8C%EA%B0%9C"
            ],
            "outputs": [],
            "metadata": {}
        }
    ],
    "metadata": {
        "orig_nbformat": 4,
        "language_info": {
            "name": "python"
        }
    },
    "nbformat": 4,
    "nbformat_minor": 2
}