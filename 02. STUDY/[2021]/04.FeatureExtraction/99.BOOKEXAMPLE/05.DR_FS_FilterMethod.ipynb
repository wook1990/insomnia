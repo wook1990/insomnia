{
    "cells": [
        {
            "cell_type": "code",
            "execution_count": 29,
            "source": [
                "import pandas\r\n",
                "import numpy\r\n",
                "from sklearn.model_selection import train_test_split\r\n",
                "from sklearn.feature_selection import VarianceThreshold\r\n",
                "from sklearn.feature_selection import mutual_info_classif\r\n",
                "import matplotlib.pyplot as plt\r\n",
                "import scipy.stats\r\n",
                "from sklearn.feature_selection import f_classif"
            ],
            "outputs": [],
            "metadata": {}
        },
        {
            "cell_type": "code",
            "execution_count": 21,
            "source": [
                "#\r\n",
                "# 1. DATA LOAD\r\n",
                "# \r\n",
                "# Kaggle에서 제공하는 [BNP Paribas Cardif Claims Management](https://www.kaggle.com/c/bnp-paribas-cardif-claims-management/data)데이터를 활용\r\n",
                "# BNP Paribas Cardif 청구관리 데이터 셋으로 고객의 클레임 여부를 판단하는 데이터셋의 Subset\r\n",
                "DATA_PATH = \"c:\\\\Users\\\\WAI\\\\OneDrive\\\\03.WORKSPACE\\\\00.DATA\\\\\"\r\n",
                "df = pandas.read_csv(DATA_PATH + \"BookExample.csv\")\r\n",
                "print(df.shape) # (20000, 33)\r\n",
                "\r\n",
                "# 연속형 변수만 추출\r\n",
                "n_obj_cols = []\r\n",
                "for col, type in zip(df.dtypes.index, df.dtypes.values):\r\n",
                "    if type != (\"object\"):\r\n",
                "        n_obj_cols.append(col)\r\n",
                "\r\n",
                "n_obj_df = df[n_obj_cols]\r\n",
                "print(n_obj_df.shape)\r\n",
                "\r\n",
                "\r\n",
                "# 학습, 검증 데이터 분할\r\n",
                "train_x, test_x, train_y, test_y = train_test_split(n_obj_df.drop(labels=[\"ID\",\"target\"], axis=1),\r\n",
                "                                                    n_obj_df[\"target\"],\r\n",
                "                                                    test_size=0.2,\r\n",
                "                                                    random_state=42)\r\n",
                "\r\n",
                "print(\"Train Shape : {0}, Test Shape : {1}\".format(train_x.shape, test_x.shape))"
            ],
            "outputs": [
                {
                    "output_type": "stream",
                    "name": "stdout",
                    "text": [
                        "(20000, 33)\n",
                        "(20000, 28)\n",
                        "Train Shape : (16000, 26), Test Shape : (4000, 26)\n"
                    ]
                }
            ],
            "metadata": {}
        },
        {
            "cell_type": "code",
            "execution_count": 3,
            "source": [
                "# 1. 상수항 제거를 위한 분산 임계치 사용\r\n",
                "# 상수변수를 제거하기 위해서 VarianceTreshold를 사용할 것입니다.\r\n",
                "# 표본 변화에 따른 데이터 값의 변화 즉, 분산이 기준치보다 낮은 특징 데이터를 제거하는 방법입니다.\r\n",
                "# 상수항의 경우 동일한 값으로 구성되어 있어 데이터의 분산이 0인 특징을 가지고 있어\r\n",
                "# 모델에 영향력이 없습니다. 학습 시간 및 시스템 자원의 효율성을 위해 상수항 이나 Quasi-Constants와 \r\n",
                "# 같은 데이터 항은 제거해주어야합니다\r\n",
                "# Quasi-Constants : 데이터의 전부는 아니지만 99%가 동일한 값으로 구성되어 있는 특성\r\n",
                "# 분산임계치를 사용하여 손쉽게 제거할 수 있습니다.\r\n",
                "\r\n",
                "\r\n",
                "# 분산이 0.1 미만인 Feature를 찾아 제거해보도록 하겠습니다.\r\n",
                "\r\n",
                "# 상수항으로 구성된 Feature를 제거\r\n",
                "\r\n",
                "constant_filter = VarianceThreshold(0.1)\r\n",
                "constant_filter.fit(train_x)\r\n",
                "print(len(train_x.columns[constant_filter.get_support()]))\r\n",
                "\r\n",
                "constant_columns = [column for column in train_x.columns\r\n",
                "                    if column not in train_x.columns[constant_filter.get_support()]]\r\n",
                "\r\n",
                "\r\n",
                "print(\"Removed Columns count : {} \".format(len(constant_columns)))\r\n",
                "print(constant_columns)\r\n",
                "\r\n",
                "\r\n",
                "# VarianceTreshold로 선택된 Feature들로 train, test Feature 재구성\r\n",
                "train_x_sel = constant_filter.transform(train_x)\r\n",
                "test_x_sel = constant_filter.transform(test_x)\r\n",
                "print(\"Train Shape after adjusting VarianceTreshold : {} \".format(train_x_sel.shape))\r\n",
                "# 처음 Train Data의 Feature는 총 26 였는데, 1개 Feature가 감소한것을 확인할 수 있습니다."
            ],
            "outputs": [
                {
                    "output_type": "stream",
                    "name": "stdout",
                    "text": [
                        "25\n",
                        "Removed Columns count : 1 \n",
                        "['v19']\n",
                        "Train Shape after adjusting VarianceTreshold : (16000, 25) \n"
                    ]
                }
            ],
            "metadata": {}
        },
        {
            "cell_type": "code",
            "execution_count": 23,
            "source": [
                "# 2. 상관계수(Correlation)\r\n",
                "# 상관계수를 확인하여, 특성간 상관성이 높은 특성을 제거할 수 있습니다.\r\n",
                "correlated_features = set()\r\n",
                "corr_df = df.set_index([\"ID\",\"target\"])\r\n",
                "correlation_matrix = corr_df.corr()\r\n",
                "\r\n",
                "# 특성들간 상관계수가 0.8 이상인 특성을 제거해보도록 하겠습니다. \r\n",
                "# Feature들 간의 상관계수가 0.8 이상인 Feature 제거\r\n",
                "\r\n",
                "for i in range(len(correlation_matrix.columns)):\r\n",
                "    #print(i)\r\n",
                "    #print(\"range :  {} \".format(range(i)))\r\n",
                "    for j in range(i):\r\n",
                "        if abs(correlation_matrix.iloc[i,j] > 0.8):\r\n",
                "            colname = correlation_matrix.columns[i]\r\n",
                "            correlated_features.add(colname)\r\n",
                "\r\n",
                "print(len(correlated_features))            \r\n",
                "print(correlated_features)\r\n",
                "\r\n",
                "train_x_sel = train_x.drop(labels=correlated_features, axis=1)\r\n",
                "test_x_sel = test_x.drop(labels=correlated_features, axis=1)\r\n",
                "\r\n",
                "print(\"Train Shape after adjusting VarianceTreshold : {} \".format(train_x_sel.shape))\r\n",
                "\r\n",
                "# 총 26개의 특성중 18개의 특성이 서로 상관성이 높아 제거되고, 8개의 특성이 선택된것을 확인할 수 있습니다.\r\n"
            ],
            "outputs": [
                {
                    "output_type": "stream",
                    "name": "stdout",
                    "text": [
                        "18\n",
                        "{'v5', 'v12', 'v19', 'v7', 'v16', 'v17', 'v11', 'v13', 'v15', 'v26', 'v29', 'v25', 'v28', 'v20', 'v4', 'v9', 'v27', 'v6'}\n",
                        "Train Shape after adjusting VarianceTreshold : (16000, 8) \n"
                    ]
                }
            ],
            "metadata": {}
        },
        {
            "cell_type": "code",
            "execution_count": 27,
            "source": [
                "# 3. Mutual Information\r\n",
                "# 일반적으로 특성을 관찰한후 종속변수의 불확실성 감소를 측정하는 지표입니다.\r\n",
                "# 특성과 종속변수간의 단변량 의존성을 측정하게 되고, 값이 작을 수록 특성은 종속변수에 영향력이 낮다고\r\n",
                "# 판단할 수 있습니다. mutual_inf_ 메소드를 사용하기 위해 모든 특성값에 결측값 없어야 합니다.\r\n",
                "# Class의 분포가 균일 하지 않다면 정보값이 매우 작아질 수 있어 rescaling을 고려해야하는 주의점이 있습니다.\r\n",
                "\r\n",
                "# 정보값의 임계치\r\n",
                "threshold = 0.01\r\n",
                "\r\n",
                "high_score_feature = []\r\n",
                "feature_scores = mutual_info_classif(train_x.fillna(0), train_y, random_state=41)\r\n",
                "\r\n",
                "\r\n",
                "fig, axes = plt.subplots(1,1, figsize = (10,10))\r\n",
                "pos = numpy.arange(len(feature_scores))\r\n",
                "plt.barh(pos, feature_scores)\r\n",
                "plt.yticks(pos , train_x.columns)\r\n",
                "\r\n",
                "plt.axvline(x=threshold, color='red', linestyle='--', linewidth = 2)\r\n",
                "plt.show()\r\n",
                "\r\n",
                "\r\n",
                "for score, f_name in zip(feature_scores, train_x.columns):\r\n",
                "    # print(f_name, score)\r\n",
                "    if score > threshold:\r\n",
                "        high_score_feature.append(f_name)\r\n",
                "\r\n",
                "train_x_sel = train_x[high_score_feature]\r\n",
                "print(train_x_sel.columns)\r\n",
                "\r\n",
                "# 각특성의 mutual information 값이 전체적으로 낮게 구성되어 있고, 임계치를 넘는 값을 가지는\r\n",
                "# 4개의 특성이 선택된것을 확인할 수 있습니다. "
            ],
            "outputs": [
                {
                    "output_type": "display_data",
                    "data": {
                        "text/plain": [
                            "<Figure size 720x720 with 1 Axes>"
                        ],
                        "image/png": "[encoded data removed]"
                    },
                    "metadata": {
                        "needs_background": "light"
                    }
                },
                {
                    "output_type": "stream",
                    "name": "stdout",
                    "text": [
                        "Index(['v10', 'v12', 'v14', 'v21'], dtype='object')\n"
                    ]
                }
            ],
            "metadata": {}
        },
        {
            "cell_type": "code",
            "execution_count": 32,
            "source": [
                "# 4. ANOVA F-test\r\n",
                "# 특성에 대하여 분산 분석을 수행한 F-test 결과를 사용하는 방법입니다.\r\n",
                "# 선형 의존성만 고려한 방법이며 일원 분산 분석(독립변수 연속형, 종속변수 이산/범주형)을 수행합니다.\r\n",
                "# Feature selection 방법중에 잘 사용되는 방법은 아닙니다.\r\n",
                "\r\n",
                "\r\n",
                "feature_scores = f_classif(train_x.fillna(0), train_y)[0]\r\n",
                "high_score_feature = []\r\n",
                "\r\n",
                "threshold = 10\r\n",
                "# visualizaion\r\n",
                "\r\n",
                "fig, axes = plt.subplots(1,1, figsize = (10,10))\r\n",
                "pos = numpy.arange(len(feature_scores))\r\n",
                "plt.barh(pos, feature_scores)\r\n",
                "plt.yticks(pos , train_x.columns)\r\n",
                "\r\n",
                "plt.axvline(x=threshold, color='red', linestyle='--', linewidth = 2)\r\n",
                "plt.show()\r\n",
                "\r\n",
                "for score, f_name in sorted(zip(feature_scores, train_x.columns)):\r\n",
                "    #print(f_name, \" : \", score)\r\n",
                "    if(score > threshold):\r\n",
                "        high_score_feature.append(f_name)\r\n",
                "\r\n",
                "train_x_sel = train_x[high_score_feature]\r\n",
                "print(train_x_sel.columns)"
            ],
            "outputs": [
                {
                    "output_type": "display_data",
                    "data": {
                        "text/plain": [
                            "<Figure size 720x720 with 1 Axes>"
                        ],
                        "image/png": "[encoded data removed]"
                    },
                    "metadata": {
                        "needs_background": "light"
                    }
                },
                {
                    "output_type": "stream",
                    "name": "stdout",
                    "text": [
                        "Index(['v1', 'v19', 'v15', 'v13', 'v21', 'v12', 'v14', 'v10'], dtype='object')\n"
                    ]
                }
            ],
            "metadata": {}
        }
    ],
    "metadata": {
        "orig_nbformat": 4,
        "language_info": {
            "name": "python"
        }
    },
    "nbformat": 4,
    "nbformat_minor": 2
}