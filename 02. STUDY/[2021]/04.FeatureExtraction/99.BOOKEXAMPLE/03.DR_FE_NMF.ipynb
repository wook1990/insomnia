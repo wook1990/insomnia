{
    "cells": [
        {
            "cell_type": "code",
            "execution_count": 7,
            "source": [
                "# 필요 패키지 임포드\r\n",
                "import pandas\r\n",
                "import numpy#\r\n",
                "from sklearn.preprocessing import StandardScaler, MinMaxScaler\r\n",
                "from sklearn.decomposition import PCA,NMF\r\n",
                "import matplotlib.pyplot as plt\r\n",
                "from numpy.linalg import eigh\r\n",
                "import seaborn\r\n",
                "\r\n",
                "#\r\n",
                "# 1. DATA LOAD\r\n",
                "# \r\n",
                "# Kaggle에서 제공하는 [BNP Paribas Cardif Claims Management](https://www.kaggle.com/c/bnp-paribas-cardif-claims-management/data)데이터를 활용\r\n",
                "# BNP Paribas Cardif 청구관리 데이터 셋으로 고객의 클레임 여부를 판단하는 데이터셋의 Subset\r\n",
                "DATA_PATH = \"c:\\\\Users\\\\WAI\\\\OneDrive\\\\03.WORKSPACE\\\\00.DATA\\\\\"\r\n",
                "df = pandas.read_csv(DATA_PATH + \"BookExample.csv\")\r\n",
                "print(df.shape) # (20000, 33)\r\n",
                "target_df = df[[\"target\"]]\r\n",
                "df.set_index([\"ID\",\"target\"], inplace=True)"
            ],
            "outputs": [
                {
                    "output_type": "stream",
                    "name": "stdout",
                    "text": [
                        "(20000, 33)\n"
                    ]
                }
            ],
            "metadata": {}
        },
        {
            "cell_type": "code",
            "execution_count": 5,
            "source": [
                "# NMF(non-negative matrix factorization) 비음수 행렬 분해\r\n",
                "# 음수가 아닌 특성 행렬에 대한 차원 축소를 하는 방법입니다\r\n",
                "# 비지도 학습 기법으로 샘플과 특성 사이에 잠재되어 있는 관계를 표현하는 행렬로 특성 행렬을 분해\r\n",
                "# 음수의 값을 가지면 안되기 때문에 정규화를 통해 데이터를 0과 1사이로 변환해주도록 하겠습니다.\r\n",
                "\r\n",
                "# NMF 알고리즘은 주로 시각철, 문서분류, 음파 분석등의 비정형 데이터의 차원을 축소하는 방법으로 사용됩니다.\r\n",
                "# scikit learn의 NMF API를 사용하는 방법만 알아보도록 하겠습니다. \r\n",
                "\r\n",
                "# 범주화 및 인코딩 하기전의 데이터 셋\r\n",
                "n_obj_cols = []\r\n",
                "for col, type in zip(df.dtypes.index, df.dtypes.values):\r\n",
                "    if type != (\"object\"):\r\n",
                "        n_obj_cols.append(col)\r\n",
                "\r\n",
                "n_obj_df = df[n_obj_cols]\r\n",
                "print(n_obj_df.shape)\r\n",
                "\r\n",
                "# PCA를 하기전에 Scale 조정을 통해 각 특성의 분산량을 동일 하게 수정\r\n",
                "x = n_obj_df.values\r\n",
                "x = MinMaxScaler().fit_transform(x)\r\n",
                "features = n_obj_cols\r\n",
                "#print(pandas.DataFrame(x, columns = features).head())\r\n",
                "print(pandas.DataFrame(x, columns = features).describe())"
            ],
            "outputs": [
                {
                    "output_type": "stream",
                    "name": "stdout",
                    "text": [
                        "(20000, 26)\n",
                        "             v1        v2        v4        v5            v6            v7  \\\n",
                        "0  1.046932e-01  0.464949  0.331398  0.395763  3.574007e-01  3.574007e-01   \n",
                        "1  7.837838e-08  0.000000  0.000000  0.459563  8.401249e-08  1.065375e-07   \n",
                        "2  7.397962e-02  0.282890  0.372807  0.266308  5.471939e-01  4.419643e-01   \n",
                        "3  6.250014e-02  0.442429  0.357168  0.581372  2.884339e-01  2.235993e-01   \n",
                        "4  7.837838e-08  0.000000  0.000000  0.000000  8.401249e-08  1.065375e-07   \n",
                        "\n",
                        "             v8            v9       v10           v11  ...       v18  \\\n",
                        "0  6.471121e-04  5.000000e-01  0.027155  8.217054e-01  ...  0.005336   \n",
                        "1  1.150816e-01  4.915000e-08  0.070838  6.800000e-09  ...  0.000000   \n",
                        "2  9.822954e-04  6.333334e-01  0.041322  7.378049e-01  ...  0.012227   \n",
                        "3  8.597373e-03  4.482758e-01  0.353011  8.173741e-01  ...  0.061206   \n",
                        "4  3.890000e-08  4.915000e-08  0.056671  6.800000e-09  ...  0.000000   \n",
                        "\n",
                        "        v19       v20       v21           v23       v25           v26  \\\n",
                        "0  0.047148  0.943464  0.490295  4.914000e-08  0.006971  1.877257e-01   \n",
                        "1  0.000000  0.000000  0.428917  5.000000e-08  0.152807  8.236364e-08   \n",
                        "2  0.045684  0.897617  0.332640  3.605000e-08  0.005700  2.448979e-01   \n",
                        "3  0.073352  0.918820  0.476736  2.595000e-08  0.007442  1.427204e-01   \n",
                        "4  0.000000  0.000000  0.406812  5.000000e-08  0.000000  8.236364e-08   \n",
                        "\n",
                        "            v27       v28           v29  \n",
                        "0  3.054153e-01  0.029732  6.343476e-01  \n",
                        "1  6.479999e-08  0.000000  2.171428e-08  \n",
                        "2  4.775510e-01  0.042120  5.357142e-01  \n",
                        "3  2.073276e-01  0.449747  6.338943e-01  \n",
                        "4  6.479999e-08  0.000000  2.171428e-08  \n",
                        "\n",
                        "[5 rows x 26 columns]\n",
                        "                 v1            v2            v4            v5            v6  \\\n",
                        "count  2.000000e+04  20000.000000  20000.000000  20000.000000  2.000000e+04   \n",
                        "mean   7.260548e-02      0.225860      0.198806      0.252218  1.897878e-01   \n",
                        "std    8.952306e-02      0.229939      0.188138      0.228603  1.764466e-01   \n",
                        "min    0.000000e+00      0.000000      0.000000      0.000000  0.000000e+00   \n",
                        "25%    7.837838e-08      0.000000      0.000000      0.000000  8.401249e-08   \n",
                        "50%    4.291005e-02      0.219907      0.234528      0.337684  2.454272e-01   \n",
                        "75%    1.270565e-01      0.400946      0.366270      0.446129  3.409874e-01   \n",
                        "max    1.000000e+00      1.000000      1.000000      1.000000  1.000000e+00   \n",
                        "\n",
                        "                 v7            v8            v9           v10           v11  \\\n",
                        "count  2.000000e+04  2.000000e+04  2.000000e+04  20000.000000  2.000000e+04   \n",
                        "mean   1.587221e-01  4.390348e-02  2.562601e-01      0.101374  4.390486e-01   \n",
                        "std    1.469118e-01  1.111376e-01  2.348741e-01      0.075356  3.838182e-01   \n",
                        "min    0.000000e+00  0.000000e+00  0.000000e+00      0.000000  0.000000e+00   \n",
                        "25%    1.065375e-07  3.890000e-08  4.915000e-08      0.056671  6.800000e-09   \n",
                        "50%    2.071548e-01  1.877815e-03  3.429087e-01      0.070838  7.294665e-01   \n",
                        "75%    2.842225e-01  2.942039e-02  4.643077e-01      0.113341  7.801315e-01   \n",
                        "max    1.000000e+00  1.000000e+00  1.000000e+00      1.000000  1.000000e+00   \n",
                        "\n",
                        "       ...           v18           v19           v20           v21  \\\n",
                        "count  ...  20000.000000  20000.000000  20000.000000  20000.000000   \n",
                        "mean   ...      0.024023      0.039965      0.504656      0.444109   \n",
                        "std    ...      0.031575      0.042803      0.441985      0.073493   \n",
                        "min    ...      0.000000      0.000000      0.000000      0.000000   \n",
                        "25%    ...      0.000000      0.000000      0.000000      0.406513   \n",
                        "50%    ...      0.012598      0.050583      0.826510      0.446792   \n",
                        "75%    ...      0.041770      0.065423      0.907599      0.486226   \n",
                        "max    ...      1.000000      1.000000      1.000000      1.000000   \n",
                        "\n",
                        "                v23           v25           v26           v27           v28  \\\n",
                        "count  2.000000e+04  20000.000000  2.000000e+04  2.000000e+04  20000.000000   \n",
                        "mean   3.237594e-02      0.049876  1.162038e-01  1.402781e-01      0.146391   \n",
                        "std    1.569558e-01      0.119688  1.109091e-01  1.347320e-01      0.163762   \n",
                        "min    0.000000e+00      0.000000  0.000000e+00  0.000000e+00      0.000000   \n",
                        "25%    5.000000e-08      0.000000  8.236364e-08  6.479999e-08      0.000000   \n",
                        "50%    5.000000e-08      0.006114  1.412186e-01  1.652805e-01      0.081008   \n",
                        "75%    6.584999e-08      0.038228  2.074614e-01  2.504442e-01      0.270845   \n",
                        "max    1.000000e+00      1.000000  1.000000e+00  1.000000e+00      1.000000   \n",
                        "\n",
                        "                v29  \n",
                        "count  2.000000e+04  \n",
                        "mean   3.327046e-01  \n",
                        "std    2.980842e-01  \n",
                        "min    0.000000e+00  \n",
                        "25%    2.171428e-08  \n",
                        "50%    4.775908e-01  \n",
                        "75%    6.060928e-01  \n",
                        "max    1.000000e+00  \n",
                        "\n",
                        "[8 rows x 26 columns]\n"
                    ]
                }
            ],
            "metadata": {}
        },
        {
            "cell_type": "code",
            "execution_count": 14,
            "source": [
                "# NMF(non-negative matrix factorization)\r\n",
                "nmf = NMF(n_components=5, random_state=1)\r\n",
                "nmfComponents = nmf.fit_transform(x)\r\n",
                "nmf_df = pandas.DataFrame(data=nmfComponents, columns = ['pcaComp1', 'pcaComp2', 'pcaComp3', 'pcaComp4', 'pcaComp5'])\r\n",
                "print(nmf_df.head())\r\n",
                "\r\n",
                "# 결과 출력\r\n",
                "print(\"원본 특성 개수:\", df.shape[1]) \r\n",
                "print(\"줄어든 특성 개수:\", nmfComponents.shape[1])\r\n",
                "\r\n",
                "# H 특성 행렬\r\n",
                "print(nmf.components_.shape)\r\n",
                "# 모두 양수 인지 확인\r\n",
                "print(numpy.all(nmf.components_ >=0))"
            ],
            "outputs": [
                {
                    "output_type": "stream",
                    "name": "stderr",
                    "text": [
                        "C:\\Users\\WAI\\Anaconda3\\envs\\analysis\\lib\\site-packages\\sklearn\\decomposition\\_nmf.py:315: FutureWarning: The 'init' value, when 'init=None' and n_components is less than n_samples and n_features, will be changed from 'nndsvd' to 'nndsvda' in 1.1 (renaming of 0.26).\n",
                        "  \"'nndsvda' in 1.1 (renaming of 0.26).\"), FutureWarning)\n"
                    ]
                },
                {
                    "output_type": "stream",
                    "name": "stdout",
                    "text": [
                        "   pcaComp1  pcaComp2  pcaComp3  pcaComp4  pcaComp5\n",
                        "0  0.093748  0.043048  0.003939  0.000000  0.066862\n",
                        "1  0.000000  0.101007  0.000000  0.048258  0.000000\n",
                        "2  0.103772  0.019344  0.000000  0.000000  0.055422\n",
                        "3  0.118763  0.055480  0.000000  0.008671  0.047783\n",
                        "4  0.000000  0.096432  0.000000  0.000000  0.000000\n",
                        "원본 특성 개수: 31\n",
                        "줄어든 특성 개수: 5\n",
                        "(5, 26)\n",
                        "True\n"
                    ]
                },
                {
                    "output_type": "stream",
                    "name": "stderr",
                    "text": [
                        "C:\\Users\\WAI\\Anaconda3\\envs\\analysis\\lib\\site-packages\\sklearn\\decomposition\\_nmf.py:1091: ConvergenceWarning: Maximum number of iterations 200 reached. Increase it to improve convergence.\n",
                        "  \" improve convergence.\" % max_iter, ConvergenceWarning)\n"
                    ]
                }
            ],
            "metadata": {}
        }
    ],
    "metadata": {
        "orig_nbformat": 4,
        "language_info": {
            "name": "python"
        }
    },
    "nbformat": 4,
    "nbformat_minor": 2
}