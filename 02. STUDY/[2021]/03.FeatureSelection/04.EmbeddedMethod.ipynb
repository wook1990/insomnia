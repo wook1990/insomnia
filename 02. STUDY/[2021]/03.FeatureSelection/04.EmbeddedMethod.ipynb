{
    "cells": [
        {
            "cell_type": "markdown",
            "source": [
                "#### Embedded Method  \r\n",
                "<img src=\"https://blog.kakaocdn.net/dn/4VGda/btq127JXVPT/4Ww4kkt2ujIiCKN73QUs40/img.png\" srcset=\"https://img1.daumcdn.net/thumb/R1280x0/?scode=mtistory2&amp;fname=https%3A%2F%2Fblog.kakaocdn.net%2Fdn%2F4VGda%2Fbtq127JXVPT%2F4Ww4kkt2ujIiCKN73QUs40%2Fimg.png\" width=\"70%\" data-origin-width=\"1192\" data-origin-height=\"382\" data-ke-mobilestyle=\"widthContent\">  \r\n",
                "\r\n",
                "- 모델의 성능에 유의미한 결과를 주는 Feature를 선택하는 방법으로, 학습알고리즘의 한 부분으로 확장될 수 있다.  \r\n",
                "(In Embedded Methods, the feature selection algorithm is integrated as part of the learning algorithm)\r\n",
                "- *Filter Method* 와 *Wrapper Method*의 장점을 결합한 방법이다.\r\n",
                "- Feature Selection이 내포된 모델을 통해 각각의 Feature를 직접 학습하며, 모델의 정확도에 기여하는 Feature를 선택한다.\r\n",
                "- 계수가 0이 아닌 Feature가 선택되어, 더 낮은 복잡성으로 모델을 훈련하며, 학습 절차를 최적화 할 수 있다.\r\n",
                "- Feature들 간의 상호관계를 고려하고, Filter Method 처럼 빠르고, 더 정확하다.\r\n",
                "\r\n",
                "Embedded Method는 잔차항에 제약조건을 추가하여 정규화시킨 모델을 사용할 수 있고, Tree 기반 모형의 변수 중요도를 기준으로 사용할 수 있다.  \r\n",
                "\r\n",
                "\r\n",
                "#####  Regularization Approch  \r\n",
                "\r\n",
                "Lasso Ridge, Elastic Nets을 포함한 정규화 접근을 사용할 수 있다. 잔차 제곱합에 제약조건을 주어, 잔차의 정규화를 통해 회귀 계수의 값을 정하는 방법론이다.  \r\n",
                "\r\n",
                "1. LASSO(L1 Regularization) \r\n",
                " - Least Absolute Shrinkage and Selection Operation의 약자로, 주어진 데이터를 정규화하고 Feature Selection에 도움이 되는 강력한 방법이다.\r\n",
                " - 회귀계수(Coeficient) β에 영향을 준어, 모델 파라미터 값의 합계에 제한/제제를 가한다. \r\n",
                " - 일부 계수를 0으로 축소기 때문에 특정 Feature의 계수가 0이 되어 결과를 예측한다. Lasso가 진행되는 중에 계수가 0이아닌 변수가 모델의 일부로 선택되고, \r\n",
                "   Hyperparameter인 λ(람다)값을 수정하며 모델의 비용함수에 패널티 항을 추가한다. \r\n",
                "\r\n",
                "<img alt=\"\" class=\"of tw t u v ke aj c\" width=\"700\" height=\"80\" role=\"presentation\" src=\"https://miro.medium.com/max/770/1*yhtLJKjvlvQ-vpYTOWZ_mw.png\" srcset=\"https://miro.medium.com/max/304/1*yhtLJKjvlvQ-vpYTOWZ_mw.png 276w, https://miro.medium.com/max/607/1*yhtLJKjvlvQ-vpYTOWZ_mw.png 552w, https://miro.medium.com/max/704/1*yhtLJKjvlvQ-vpYTOWZ_mw.png 640w, https://miro.medium.com/max/770/1*yhtLJKjvlvQ-vpYTOWZ_mw.png 700w\" sizes=\"700px\">  \r\n",
                "\r\n",
                "2. Ridge(L2 Regularization)\r\n",
                " - Ridge는 coeficient가 너무 크면 페널티를 주지만, 계수를 0으로 낮추거나 축소하지 않고 오히려 0에 가깝게 만든다.\r\n",
                " - 모델의 복잡성을 줄이고 다중 공선성을 제거하는 효과를 가지고 있고, 모델을 단순하게 만들 수 있지만 정확도가 떨어지게 되어 실제로 중요한 데이터가 많은 경우 \r\n",
                "   좋지 않은 방법이 될수 있다.\r\n",
                " - 모델의 계수를 0으로 만들어 주는 것이 아니고 최소화 시키는 것이기 때문에 Dementionality Redunction에는 적합하지 않으나, 임계값을 주어 임의로 Feature Selection을 수행할 수 있다.\r\n",
                "\r\n",
                "\r\n",
                " <img alt=\"\" class=\"of tw t u v ke aj c\" width=\"656\" height=\"165\" role=\"presentation\" src=\"https://miro.medium.com/max/722/1*Qz8FFCEaTrzceoyS3twH7g.jpeg\" srcset=\"https://miro.medium.com/max/304/1*Qz8FFCEaTrzceoyS3twH7g.jpeg 276w, https://miro.medium.com/max/607/1*Qz8FFCEaTrzceoyS3twH7g.jpeg 552w, https://miro.medium.com/max/704/1*Qz8FFCEaTrzceoyS3twH7g.jpeg 640w, https://miro.medium.com/max/722/1*Qz8FFCEaTrzceoyS3twH7g.jpeg 656w\" sizes=\"656px\">  \r\n",
                "\r\n",
                " 3. Elastic Net(L1 Regularization & L2 Regularization)\r\n",
                "  - Lasso는 Feature Selection에 매우 좋은 알고리즘이기는 하나, 간혹 데이터를 너무 정규화시켜버리는 경향을 띈다.\r\n",
                "  - 이런경우 Lasso의 특성과 Ridge의 L1, L2 정규화를 모두 사용하여 지나치게 정규화되는 경향을 줄여주는 방법을 사용할 수 있다.\r\n",
                "  - Lasso와 Ridge의 Penalty를 균형있게 사용하는 방법이다. \r\n",
                "  - Elastic Nets의 Hyperparameter인 α의 변화에 의해 L1 , L2의 정규화에 가중치를 줄 수 있다. α가 1일경우 LASSO와 동일한 모델이 되고, 0일 경우 Ridge 모델이 된다. \r\n",
                "  - Cross Validation을 활용하여 α값을 조정한다.  \r\n",
                "  \r\n",
                "<img alt=\"\" class=\"of tw t u v ke aj c\" width=\"656\" height=\"322\" role=\"presentation\" src=\"https://miro.medium.com/max/722/1*j_DDK7LbVrejTq0tfmavAA.png\" srcset=\"https://miro.medium.com/max/304/1*j_DDK7LbVrejTq0tfmavAA.png 276w, https://miro.medium.com/max/607/1*j_DDK7LbVrejTq0tfmavAA.png 552w, https://miro.medium.com/max/704/1*j_DDK7LbVrejTq0tfmavAA.png 640w, https://miro.medium.com/max/722/1*j_DDK7LbVrejTq0tfmavAA.png 656w\" sizes=\"656px\">  \r\n",
                "\r\n",
                "\r\n",
                "##### Algorithm Based Approch\r\n",
                " - RandomForest, ExtraTree, XGBoost 등과 같은 Tree Based Algorithm을 사용하여 수행할 수 있다.\r\n",
                " - 정확한 트리의 분할을 위한 Feature를 찾기 위해 알고리즘 내의 기능으로 수행된다.\r\n",
                " - 모든 Feature에 대하여 가능한 분할 방법을 시도해가면서, 가장 적합한 조합을 선택하는 Wrapper Method를 사용한다.\r\n",
                " - 분류모델의 경우 일반적으로 Gini index, infromation gain/entory의 값으로 분할점을 찾고, 회귀의 경우 분산을 확인하여 분할한다.\r\n",
                " - 트리 분할 기준을 통해 Feature Importance를 찾을 수 있고, 특정 Treshold보다 낮은 Feature를 제거하는 방식으로 사용할 수 있다.\r\n",
                "\r\n",
                "\r\n"
            ],
            "metadata": {}
        },
        {
            "cell_type": "code",
            "execution_count": 3,
            "source": [
                "\r\n",
                "# 필요 패키지 import\r\n",
                "import pandas\r\n",
                "import numpy\r\n",
                "from sklearn.model_selection import train_test_split\r\n",
                "from sklearn.preprocessing import StandardScaler\r\n",
                "from sklearn.linear_model import Lasso, Ridge, ElasticNet\r\n",
                "from sklearn.feature_selection import SelectFromModel\r\n",
                "from sklearn.ensemble import RandomTreesEmbedding\r\n",
                "from sklearn.ensemble import RandomForestClassifier, GradientBoostingClassifier\r\n",
                "from sklearn.linear_model import LogisticRegression\r\n",
                "from sklearn.tree import DecisionTreeClassifier, ExtraTreeClassifier\r\n",
                "\r\n",
                "import matplotlib.pyplot as plt\r\n",
                "import warnings\r\n",
                "warnings.filterwarnings(action='ignore')"
            ],
            "outputs": [],
            "metadata": {}
        },
        {
            "cell_type": "code",
            "execution_count": 4,
            "source": [
                "#\r\n",
                "# 1. DATA LOAD\r\n",
                "# \r\n",
                "# Kaggle에서 제공하는 [BNP Paribas Cardif Claims Management](https://www.kaggle.com/c/bnp-paribas-cardif-claims-management/data)데이터를 활용\r\n",
                "# BNP Paribas Cardif 청구관리 데이터 셋으로 고객의 클레임 여부를 판단하는 데이터셋의 Subset\r\n",
                "DATA_PATH = \"c:\\\\Users\\\\WAI\\\\OneDrive\\\\03.WORKSPACE\\\\00.DATA\\\\\"\r\n",
                "df = pandas.read_csv(DATA_PATH + \"BookExample.csv\")\r\n",
                "print(df.shape) # (20000, 33)\r\n",
                "\r\n",
                "# 연속형 변수만 추출\r\n",
                "n_obj_cols = []\r\n",
                "for col, type in zip(df.dtypes.index, df.dtypes.values):\r\n",
                "    if type != (\"object\"):\r\n",
                "        n_obj_cols.append(col)\r\n",
                "\r\n",
                "n_obj_df = df[n_obj_cols]\r\n",
                "print(n_obj_df.shape)\r\n",
                "\r\n",
                "\r\n",
                "x = n_obj_df.drop(labels=[\"ID\",\"target\"], axis=1)\r\n",
                "y = n_obj_df[\"target\"]\r\n",
                "\r\n"
            ],
            "outputs": [
                {
                    "output_type": "stream",
                    "name": "stdout",
                    "text": [
                        "(20000, 33)\n",
                        "(20000, 28)\n"
                    ]
                }
            ],
            "metadata": {}
        },
        {
            "cell_type": "code",
            "execution_count": 5,
            "source": [
                "# 1. Ridge Regression\r\n",
                "#  선형모델의 예측력 또는 설명력을 높이기 위해 여러 정규화 방법들을 사용합니다.\r\n",
                "#  대표적인 shrinkage 방법에는 ridge와 lasso가 있습니다. 기본선형모델과 유사하나, 잔차에 제약조건을 추가하여 \r\n",
                "#  선형회귀식을 정규화 시키는 방법입니다.\r\n",
                "#  Ridge는 각 계수의 제곱을 더한값을 제약조건으로 포함시켜 각 특성의 계수의 크기도 함께 최소화 만드는 차이가 있습니다.\r\n",
                "#  분산이 커지는 상황을 막기 위해 계수가 큰 특성에 페널티를 추가하여, 보다 부드럽게 계수를 선택할 수 있습니다. \r\n",
                "#  특성의 크기가 결과에 큰 영향을 미치기 때문에, 스케일링(Scaling)을 통해 특성의 사이즈를 비슷하게 만들어 주어야 합니다.\r\n",
                " \r\n",
                "# 표준화\r\n",
                "#x = StandardScaler().fit_transform(x) \r\n",
                "# Ridge regression 파라미터 normalize 를 사용하여\r\n",
                "ridgeReg = Ridge(alpha=0.5, normalize=True)\r\n",
                "ridgeReg.fit(x, y)\r\n",
                "test_x = x.tail(1)\r\n",
                "test_y = y.tail(1)\r\n",
                "pred = ridgeReg.predict(test_x)\r\n",
                "mse = numpy.mean((pred - test_y)**2)\r\n",
                "\r\n",
                "print(ridgeReg.coef_)\r\n",
                "\r\n",
                "# Ridge Coefficients plot\r\n",
                "\r\n",
                "coef_df = pandas.DataFrame({\"colname\" : x.columns.values, \"coef\" : ridgeReg.coef_})\r\n",
                "coef_df = coef_df.sort_values(\"coef\", ascending=True)\r\n",
                "coef_df.set_index(\"colname\", inplace=True)\r\n",
                "expression = \"y = \"\r\n",
                "for colname, coef in zip(coef_df.index, coef_df.coef):\r\n",
                "    expression = expression + \"(\" + str(round(coef,5)) + \")\"+ colname + \" + \" \r\n",
                "expression = expression + str(round(ridgeReg.intercept_,5))\r\n",
                "print(expression)\r\n",
                "\r\n",
                "# Ridge의 회귀 계수의 값의 임계치를 정해 임계치 이상의 특성만 추출하여 Feature Selection을 할 수 있습니다.\r\n",
                "\r\n",
                "threshold = 0.0008\r\n",
                "selection_df = coef_df.loc[ numpy.abs(coef_df.coef) > threshold]\r\n",
                "print(selection_df.columns)\r\n",
                "\r\n",
                "coef_df.plot.bar()"
            ],
            "outputs": [
                {
                    "output_type": "stream",
                    "name": "stdout",
                    "text": [
                        "[-0.00277377  0.00070383  0.00128166 -0.00047166  0.00255667  0.00070384\n",
                        " -0.00086559 -0.00044627  0.03281774 -0.00035073 -0.02282838 -0.0006322\n",
                        "  0.01903138 -0.00188731 -0.00042178  0.00070379  0.00449733 -0.01409045\n",
                        " -0.00026616 -0.00284282 -0.00119099 -0.00145339 -0.00099186  0.00070706\n",
                        " -0.00077408 -0.00033097]\n",
                        "y = (-0.02283)v12 + (-0.01409)v19 + (-0.00284)v21 + (-0.00277)v1 + (-0.00189)v15 + (-0.00145)v25 + (-0.00119)v23 + (-0.00099)v26 + (-0.00087)v8 + (-0.00077)v28 + (-0.00063)v13 + (-0.00047)v5 + (-0.00045)v9 + (-0.00042)v16 + (-0.00035)v11 + (-0.00033)v29 + (-0.00027)v20 + (0.0007)v17 + (0.0007)v2 + (0.0007)v7 + (0.00071)v27 + (0.00128)v4 + (0.00256)v6 + (0.0045)v18 + (0.01903)v14 + (0.03282)v10 + 0.65498\n",
                        "Index(['coef'], dtype='object')\n"
                    ]
                },
                {
                    "output_type": "execute_result",
                    "data": {
                        "text/plain": [
                            "<AxesSubplot:xlabel='colname'>"
                        ]
                    },
                    "metadata": {},
                    "execution_count": 5
                },
                {
                    "output_type": "display_data",
                    "data": {
                        "text/plain": [
                            "<Figure size 432x288 with 1 Axes>"
                        ],
                        "image/png": "[encoded data removed]"
                    },
                    "metadata": {
                        "needs_background": "light"
                    }
                }
            ],
            "metadata": {}
        },
        {
            "cell_type": "code",
            "execution_count": 6,
            "source": [
                "# 2. Lasso\r\n",
                "#  Lasso 역시 Ridge와 마찬가지로 모형의 예측력을 높히기 위해 정규화 방법을 사용하는 선형회귀 모델입니다.\r\n",
                "#  Ridge 와 다른점은 정규화 방법으로 '각 계수의 절대값의 합'을 수식에 포함하여 계수의 크기를 최소화하는 방법을 사용합니다. \r\n",
                "#  Lasso의 잔차제곱합에 계수의 절대값의 합을 경사하강법을 수행하면 일부 덜 중요한 계수들이 0으로 수렴하는 결과가 나옵니다. \r\n",
                "#  이렇게 계수가 0이 되는 특성들을 제외할수 있으므로, 자연스럽게 Feature selection 효과가 나타납니다datetime A combination of a date and a time. Attributes: ()\r\n",
                "\r\n",
                "lassoReg = Lasso(alpha = 0.005)\r\n",
                "lassoReg.fit(x,y)\r\n",
                "pred = lassoReg.predict(test_x)\r\n",
                "mse =  numpy.mean((pred - test_y)**2)\r\n",
                "\r\n",
                "print(mse)\r\n",
                "\r\n",
                "# Lasso Coefficients plot\r\n",
                "\r\n",
                "coef_df = pandas.DataFrame({\"colname\" : x.columns.values, \"coef\" : lassoReg.coef_})\r\n",
                "coef_df = coef_df.sort_values(\"coef\", ascending=True)\r\n",
                "coef_df.set_index(\"colname\", inplace=True)\r\n",
                "expression = \"y = \"\r\n",
                "for colname, coef in zip(coef_df.index, coef_df.coef):\r\n",
                "    expression = expression + \"(\" + str(round(coef,5)) + \")\"+ colname + \" + \" \r\n",
                "expression = expression + str(round(ridgeReg.intercept_,5))\r\n",
                "print(expression)\r\n",
                "\r\n",
                "\r\n",
                "coef_df.plot.bar()\r\n",
                "\r\n",
                "threshold = 0.0008\r\n",
                "selection_df = coef_df.loc[numpy.abs(coef_df.coef) != 0]\r\n",
                "\r\n",
                "# 0으로 수렴한 특성을 제외한 나머지 특성들을 통해 Feature selection을 수행할 수 있습니다. \r\n",
                "print(selection_df)\r\n"
            ],
            "outputs": [
                {
                    "output_type": "stream",
                    "name": "stdout",
                    "text": [
                        "0.4556884578678631\n",
                        "y = (-0.15198)v12 + (-0.00159)v25 + (-0.00146)v11 + (-0.00139)v23 + (-0.0004)v20 + (-0.0)v1 + (0.0)v27 + (-0.0)v26 + (-0.0)v21 + (-0.0)v19 + (0.0)v18 + (0.0)v17 + (-0.0)v16 + (-0.0)v29 + (-0.0)v28 + (-0.0)v13 + (-0.0)v9 + (-0.0)v8 + (0.0)v7 + (0.0)v6 + (-0.0)v5 + (0.0)v4 + (-0.0)v15 + (0.0021)v2 + (0.015)v14 + (0.12713)v10 + 0.65498\n",
                        "             coef\n",
                        "colname          \n",
                        "v12     -0.151983\n",
                        "v25     -0.001587\n",
                        "v11     -0.001461\n",
                        "v23     -0.001388\n",
                        "v20     -0.000402\n",
                        "v2       0.002097\n",
                        "v14      0.014997\n",
                        "v10      0.127134\n"
                    ]
                },
                {
                    "output_type": "display_data",
                    "data": {
                        "text/plain": [
                            "<Figure size 432x288 with 1 Axes>"
                        ],
                        "image/png": "[encoded data removed]"
                    },
                    "metadata": {
                        "needs_background": "light"
                    }
                }
            ],
            "metadata": {}
        },
        {
            "cell_type": "code",
            "execution_count": 16,
            "source": [
                "# 3. Elastic Nets(L1 + L2 Regularization)\r\n",
                "# Lasso 와 Ridge의 제약조건을 균형있게 조정하여 구성된 회귀모델\r\n",
                "# 하이퍼파라미터인 α의 값을 변화해가며 L1, L2 정규화의 비중을 조절할 수 있고,\r\n",
                "# Lasso의 문제점인 지나친 정규화, Feature Selection 방법으로 적합하지 않던 Ridge의 단점을 보완할 수 있다.\r\n",
                "\r\n",
                "\r\n",
                "esnReg = ElasticNet(alpha=0.005)\r\n",
                "esnReg.fit(x,y)\r\n",
                "pred = esnReg.predict(test_x)\r\n",
                "mse = numpy.mean((pred - test_y)**2)\r\n",
                "print(mse)\r\n",
                "\r\n",
                "# Elastic Net Coefficients plot\r\n",
                "\r\n",
                "coef_df = pandas.DataFrame({\"colname\" : x.columns.values, \"coef\" : esnReg.coef_})\r\n",
                "coef_df = coef_df.sort_values(\"coef\", ascending=True)\r\n",
                "coef_df.set_index(\"colname\", inplace=True)\r\n",
                "expression = \"y = \"\r\n",
                "for colname, coef in zip(coef_df.index, coef_df.coef):\r\n",
                "    expression = expression + \"(\" + str(round(coef,5)) + \")\"+ colname + \" + \" \r\n",
                "expression = expression + str(round(ridgeReg.intercept_,5))\r\n",
                "print(expression)\r\n",
                "\r\n",
                "\r\n",
                "coef_df.plot.bar()\r\n",
                "\r\n",
                "threshold = 0.0008\r\n",
                "selection_df = coef_df.loc[numpy.abs(coef_df.coef) != 0]\r\n",
                "\r\n",
                "# 0으로 수렴한 특성을 제외한 나머지 특성들을 통해 Feature selection을 수행할 수 있습니다. \r\n",
                "print(selection_df)\r\n",
                "\r\n",
                "\r\n"
            ],
            "outputs": [
                {
                    "output_type": "stream",
                    "name": "stdout",
                    "text": [
                        "0.4343541266960565\n",
                        "y = (-0.17184)v12 + (-0.00688)v21 + (-0.00212)v20 + (-0.00199)v25 + (-0.00136)v11 + (-0.00108)v23 + (-0.0)v1 + (0.0)v27 + (-0.0)v26 + (0.0)v19 + (0.0)v18 + (-0.0)v17 + (-0.0)v16 + (-0.0)v29 + (0.0)v28 + (0.0)v13 + (0.0)v9 + (-0.0)v8 + (0.0)v7 + (-0.0)v5 + (-0.0)v15 + (0.002)v4 + (0.00256)v2 + (0.00714)v6 + (0.02207)v14 + (0.13678)v10 + 0.65498\n",
                        "             coef\n",
                        "colname          \n",
                        "v12     -0.171844\n",
                        "v21     -0.006878\n",
                        "v20     -0.002120\n",
                        "v25     -0.001993\n",
                        "v11     -0.001362\n",
                        "v23     -0.001079\n",
                        "v4       0.002003\n",
                        "v2       0.002563\n",
                        "v6       0.007138\n",
                        "v14      0.022073\n",
                        "v10      0.136777\n"
                    ]
                },
                {
                    "output_type": "display_data",
                    "data": {
                        "text/plain": [
                            "<Figure size 432x288 with 1 Axes>"
                        ],
                        "image/png": "[encoded data removed]"
                    },
                    "metadata": {
                        "needs_background": "light"
                    }
                }
            ],
            "metadata": {}
        },
        {
            "cell_type": "code",
            "execution_count": 17,
            "source": [
                "# 4. Select From Model\r\n",
                "# scikit-learn에서 제공하는 API의 Feature_Selection중 SelectFromModel 메소드를 사용합니다.\r\n",
                "# 모델 훈련이 끝난 후 사용자가 지정한 임계깞을 기반으로 특성을 선택하는 방법입니다. \r\n",
                "# Tree 기반의 모델은 Feature Importance라는 Attribute를 이미 가지고 있습니다. \r\n",
                "# RandomForest, GradientBoosting, LogisticRegression의 세 가지 모델의 FeatureSelection 결과를 비교해 보겠습니다.\r\n",
                "# SelectFromModel에 임계치를 지정하는 파라미너 threshold가 있습니다.\r\n",
                "# float형의 값을 지정하거나, \"mean\", \"median\" 과 같은 String 값을 지정할 수 있습니다\r\n",
                "# 기본값은 mean 입니다.\r\n",
                "rfSelector = SelectFromModel(estimator = RandomForestClassifier(n_estimators=10), threshold=\"mean\").fit(x,y)\r\n",
                "gbSelector = SelectFromModel(estimator = GradientBoostingClassifier(n_estimators=10), threshold=\"mean\").fit(x,y)\r\n",
                "lrSelector = SelectFromModel(estimator = LogisticRegression(C=0.05), threshold=\"mean\").fit(x,y)\r\n",
                "\r\n",
                "columns = x.columns\r\n",
                "\r\n",
                "rf_selected = columns[rfSelector.get_support()]\r\n",
                "gb_selected = columns[gbSelector.get_support()]\r\n",
                "lr_seleted = columns[lrSelector.get_support()]\r\n",
                "\r\n",
                "print(\"RandomForest 로 선택된 변수 개수 : {}, 컬럼명 : {}\".format(len(rf_selected),rf_selected.values))\r\n",
                "print(\"GradientBoosting 으로 선택된 변수 개수 : {}, 컬럼명 : {}\".format(len(gb_selected), gb_selected.values))\r\n",
                "print(\"Logistic 으로 선택된 변수 개수 : {}, 컬럼명 : {}\".format(len(lr_seleted), lr_seleted.values))\r\n",
                "\r\n"
            ],
            "outputs": [
                {
                    "output_type": "stream",
                    "name": "stdout",
                    "text": [
                        "RandomForest 로 선택된 변수 개수 : 4, 컬럼명 : ['v10' 'v12' 'v14' 'v21']\n",
                        "GradientBoosting 으로 선택된 변수 개수 : 3, 컬럼명 : ['v10' 'v12' 'v14']\n",
                        "Logistic 으로 선택된 변수 개수 : 6, 컬럼명 : ['v7' 'v10' 'v12' 'v13' 'v15' 'v26']\n"
                    ]
                }
            ],
            "metadata": {}
        },
        {
            "cell_type": "code",
            "execution_count": 18,
            "source": [
                "# 5. Feature Importance\r\n",
                "# Tree 기반 모형은 Feature Importance를 제공합니다. Feature Importance는 불확실도를 많이 낮출수록 증가하므로\r\n",
                "# 이를 기준으로 Feature Selection을 할 수 있습니다\r\n",
                "\r\n",
                "\r\n",
                "# Decision Tree\r\n",
                "dt_clf = DecisionTreeClassifier(criterion='gini',max_depth=5)\r\n",
                "dt_clf.fit(x,y)\r\n",
                "dt_clf.feature_importances_\r\n",
                "dt_df = pandas.DataFrame({\"colname\" : x.columns.values, \"feature_importance\" : dt_clf.feature_importances_}).sort_values(\"feature_importance\",ascending=False)\r\n",
                "print(dt_df)\r\n",
                "selected_dt_df = dt_df.loc[dt_df.feature_importance > 0 ]\r\n",
                "print(\"Decision Tree로 선택된 특성수 : {} , 컬럼명 : {}\".format(len(selected_dt_df), selected_dt_df.colname.values))\r\n",
                "\r\n",
                "# Extra Tree \r\n",
                "et_clf = ExtraTreeClassifier(criterion='gini',max_depth=5)\r\n",
                "et_clf.fit(x,y)\r\n",
                "et_clf.feature_importances_\r\n",
                "et_df = pandas.DataFrame({\"colname\" : x.columns.values, \"feature_importance\" : et_clf.feature_importances_}).sort_values(\"feature_importance\",ascending=False)\r\n",
                "print(et_df)\r\n",
                "selected_et_df = dt_df.loc[et_df.feature_importance > 0 ]\r\n",
                "print(\"Extra Tree로 선택된 특성수 : {} , 컬럼명 : {}\".format(len(selected_et_df), selected_et_df.colname.values))\r\n",
                "\r\n",
                "\r\n",
                "# RandomForest \r\n",
                "rf_clf = RandomForestClassifier(n_estimators=10,max_depth=5)\r\n",
                "rf_clf.fit(x,y)\r\n",
                "rf_df = pandas.DataFrame({\"colname\" : x.columns.values, \"feature_importance\" : rf_clf.feature_importances_}).sort_values(\"feature_importance\",ascending=False)\r\n",
                "print(rf_df)\r\n",
                "selected_rf_df = rf_df.loc[rf_df.feature_importance > 0 ]\r\n",
                "print(\"Extra Tree로 선택된 특성수 : {} , 컬럼명 : {}\".format(len(selected_rf_df), selected_rf_df.colname.values))\r\n",
                "\r\n"
            ],
            "outputs": [
                {
                    "output_type": "stream",
                    "name": "stdout",
                    "text": [
                        "   colname  feature_importance\n",
                        "8      v10            0.642614\n",
                        "10     v12            0.300957\n",
                        "9      v11            0.014254\n",
                        "1       v2            0.009763\n",
                        "12     v14            0.008018\n",
                        "4       v6            0.007078\n",
                        "5       v7            0.005696\n",
                        "19     v21            0.004787\n",
                        "0       v1            0.004035\n",
                        "20     v23            0.002799\n",
                        "17     v19            0.000000\n",
                        "24     v28            0.000000\n",
                        "23     v27            0.000000\n",
                        "22     v26            0.000000\n",
                        "21     v25            0.000000\n",
                        "18     v20            0.000000\n",
                        "13     v15            0.000000\n",
                        "16     v18            0.000000\n",
                        "15     v17            0.000000\n",
                        "14     v16            0.000000\n",
                        "11     v13            0.000000\n",
                        "7       v9            0.000000\n",
                        "6       v8            0.000000\n",
                        "3       v5            0.000000\n",
                        "2       v4            0.000000\n",
                        "25     v29            0.000000\n",
                        "Decision Tree로 선택된 특성수 : 10 , 컬럼명 : ['v10' 'v12' 'v11' 'v2' 'v14' 'v6' 'v7' 'v21' 'v1' 'v23']\n",
                        "   colname  feature_importance\n",
                        "0       v1            0.322895\n",
                        "19     v21            0.169661\n",
                        "1       v2            0.161776\n",
                        "11     v13            0.076985\n",
                        "7       v9            0.054871\n",
                        "4       v6            0.054050\n",
                        "25     v29            0.047294\n",
                        "15     v17            0.033105\n",
                        "21     v25            0.028200\n",
                        "17     v19            0.028173\n",
                        "20     v23            0.021216\n",
                        "12     v14            0.001217\n",
                        "10     v12            0.000556\n",
                        "6       v8            0.000000\n",
                        "2       v4            0.000000\n",
                        "24     v28            0.000000\n",
                        "23     v27            0.000000\n",
                        "22     v26            0.000000\n",
                        "16     v18            0.000000\n",
                        "18     v20            0.000000\n",
                        "8      v10            0.000000\n",
                        "14     v16            0.000000\n",
                        "3       v5            0.000000\n",
                        "5       v7            0.000000\n",
                        "9      v11            0.000000\n",
                        "13     v15            0.000000\n",
                        "Extra Tree로 선택된 특성수 : 13 , 컬럼명 : ['v12' 'v2' 'v14' 'v6' 'v21' 'v1' 'v23' 'v19' 'v25' 'v17' 'v13' 'v9' 'v29']\n",
                        "   colname  feature_importance\n",
                        "8      v10            0.260268\n",
                        "10     v12            0.225923\n",
                        "12     v14            0.109811\n",
                        "19     v21            0.100874\n",
                        "9      v11            0.028310\n",
                        "21     v25            0.027990\n",
                        "17     v19            0.026269\n",
                        "11     v13            0.020464\n",
                        "15     v17            0.018231\n",
                        "22     v26            0.016894\n",
                        "0       v1            0.016038\n",
                        "16     v18            0.015905\n",
                        "6       v8            0.014881\n",
                        "1       v2            0.013791\n",
                        "18     v20            0.012661\n",
                        "14     v16            0.011755\n",
                        "2       v4            0.011420\n",
                        "5       v7            0.011045\n",
                        "3       v5            0.009326\n",
                        "13     v15            0.008871\n",
                        "7       v9            0.008424\n",
                        "4       v6            0.007873\n",
                        "24     v28            0.007318\n",
                        "23     v27            0.006786\n",
                        "20     v23            0.006101\n",
                        "25     v29            0.002772\n",
                        "Extra Tree로 선택된 특성수 : 26 , 컬럼명 : ['v10' 'v12' 'v14' 'v21' 'v11' 'v25' 'v19' 'v13' 'v17' 'v26' 'v1' 'v18'\n",
                        " 'v8' 'v2' 'v20' 'v16' 'v4' 'v7' 'v5' 'v15' 'v9' 'v6' 'v28' 'v27' 'v23'\n",
                        " 'v29']\n"
                    ]
                }
            ],
            "metadata": {}
        }
    ],
    "metadata": {
        "orig_nbformat": 4,
        "language_info": {
            "name": "python"
        }
    },
    "nbformat": 4,
    "nbformat_minor": 2
}