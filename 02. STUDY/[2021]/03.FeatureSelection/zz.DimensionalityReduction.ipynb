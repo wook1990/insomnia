{
    "cells": [
        {
            "cell_type": "code",
            "execution_count": null,
            "source": [],
            "outputs": [],
            "metadata": {}
        },
        {
            "cell_type": "markdown",
            "source": [
                "### 차원 축소(Demensionaly Reduction)  \r\n",
                "\r\n",
                "차원이라는 말은 데이터가 가지는 특성의 개수를 의미한다. 차원 축소는 다양한 특성으로 구성된 다차원의 데이터 세트의 특성을 줄여  \r\n",
                "데이터의 차원을 축소해 새로운 차원의 데이터를 생성하는 것을 말한다.\r\n",
                "차원이 증가할 수록 생기는 문제점으로는 \r\n",
                "1. 예측 신뢰도가 떨어진다.\r\n",
                "2. 과적합이 발생활 가능성이 높아진다.\r\n",
                "3. 각각의 특성간의 상관관계가 높아져 다중 공선성의 문제가 발생할수 있다.\r\n",
                "다시말해, 차원의 저주에 빠질 수 있다라는 말로 표현할 수 있다. \r\n",
                "\r\n",
                "이런 차원에 저주에 빠지지않기 위해 차원 축소를 사용하는 이유는 \r\n",
                "1. 다차원 데이터를 축소하여 특성수를 줄이면 더 직관적으로 데이터를 해석할 수 있다.\r\n",
                "2. 학습 데이터의 크기가 줄어 학습에 사용되는 자원을 줄일수 있다.\r\n",
                "\r\n",
                "\r\n",
                "일반적으로 차원 축소는 특성선택(Feature Selection)과 특성추출(Feature Extraction)로 나눌 수 있다.  \r\n",
                "\r\n",
                "두 방법의 차이를 간단히 설명하자면,   \r\n",
                "특성 선택은 데이터의 특징을 잘 나타내는 주요 특성만 선택하고, 불필요한 특성은 제거하는 방법을 얘기한다.  \r\n",
                "반면, 특성 추출은 기존의 특성을 저차원의 중요 특성으로 압축해서 기존의 특성과는 완전히 다른 새로운 특성을 만드는 방법을 말한다. \r\n",
                "\r\n",
                "차원 축소는 단순히 데이터의 압축만을 의미하는 것이 아니다. 차원 축소를 통해 좀더 데이터를 잘 설명할 수 있는 잠재적인 요소를 추출하는데 있다.  \r\n",
                "차원 축소방법에는 대표적으로 PCA(Principal Component Analysis), SVD(Single Value Decompostion), NMF(Non-negative Matirx Factorization)라는 알고리즘이 있다.\r\n",
                "\r\n"
            ],
            "metadata": {}
        },
        {
            "cell_type": "markdown",
            "source": [
                "#### 1) PCA(Principal Component  Anaylsis) - 주성분분석\r\n",
                "\r\n",
                "\r\n",
                "가장 대표적인 차원 축소 기법이다. 상관관계까 있는 변수들을 선형결합하여 이를 대표하는 주성분의 특징을 추출해 차원을 축소하는 기법이다.  \r\n",
                "간단하게 가장 높은 분산을 가지는 데이터의 축을 찾아 차원을 축소하는데, 이것이 PCA의 주성분이 되는 방식이다.   \r\n",
                "즉, 차원을 축소하면서도 원본 데이터의 특성을 가지고 있도록 하는 것이 핵심이다.  \r\n",
                "첫번째 주성분은 전체 데이터의 변동을 가장많이 설명하고,  \r\n",
                "두번째 주성분은 첫번째 주성분과 상관성이 낮아 첫번째 주성분이 설명하지 못하는 나머지 변동을 정보의 손실 없이 가장 많이 설명할 수 있도록 변수들을 조합하여\r\n",
                "차원 축소를 하는 알고리즘이다. \r\n",
                "\r\n",
                "일반적으로 주성분분석 결과에서 누적기울기(Cumulative Proportion)이 85%이상인 주성분(Screen plot에서 고유값이 수평을 유지하기 전단계)까지 선택하여사용"
            ],
            "metadata": {}
        },
        {
            "cell_type": "code",
            "execution_count": 9,
            "source": [
                "# import 모듈 \r\n",
                "import pandas\r\n",
                "import numpy\r\n",
                "\r\n",
                "url = \"https://archive.ics.uci.edu/ml/machine-learning-databases/iris/iris.data\"\r\n",
                "iris = pandas.read_csv(url, names=['sepal length','sepal width','petal length','petal width','target'])\r\n",
                "print(iris.head())\r\n",
                "\r\n",
                "# PCA를 하기전에 데이터 스케일링을 해주어야 한다.\r\n",
                "# 데이터의 스케일에 따라 주성분의 설명가능한 분산량이 달라질 수 있기 때문이다.\r\n"
            ],
            "outputs": [
                {
                    "output_type": "stream",
                    "name": "stdout",
                    "text": [
                        "   sepal length  sepal width  petal length  petal width       target\n",
                        "0           5.1          3.5           1.4          0.2  Iris-setosa\n",
                        "1           4.9          3.0           1.4          0.2  Iris-setosa\n",
                        "2           4.7          3.2           1.3          0.2  Iris-setosa\n",
                        "3           4.6          3.1           1.5          0.2  Iris-setosa\n",
                        "4           5.0          3.6           1.4          0.2  Iris-setosa\n"
                    ]
                }
            ],
            "metadata": {}
        },
        {
            "cell_type": "code",
            "execution_count": null,
            "source": [],
            "outputs": [],
            "metadata": {}
        }
    ],
    "metadata": {
        "orig_nbformat": 4,
        "language_info": {
            "name": "python"
        }
    },
    "nbformat": 4,
    "nbformat_minor": 2
}