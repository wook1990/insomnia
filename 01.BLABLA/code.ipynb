{
 "cells": [
  {
   "cell_type": "code",
   "execution_count": 1,
   "source": [
    "num1 = 7894\r\n",
    "string = str(num1)\r\n",
    "if string[0] == \"-\":\r\n",
    "    print(\"음수\")\r\n",
    "    reverse = string[0] + string[1:len(string)][::-1]\r\n",
    "    print(int(reverse))\r\n",
    "else:\r\n",
    "    print(\"양수\")\r\n",
    "    reverse = string[::-1]\r\n",
    "    print(int(reverse))\r\n",
    "\r\n",
    "\r\n",
    "\r\n",
    "\r\n",
    "\r\n"
   ],
   "outputs": [
    {
     "output_type": "stream",
     "name": "stdout",
     "text": [
      "양수\n",
      "4987\n"
     ]
    }
   ],
   "metadata": {
    "collapsed": false,
    "pycharm": {
     "name": "#%%\n"
    }
   }
  },
  {
   "cell_type": "code",
   "execution_count": 5,
   "source": [
    "import pandas\r\n",
    "import xml.etree.ElementTree as et\r\n",
    "tree = et.parse(\"C:\\\\Users\\\\WAI\\\\Downloads\\\\803 골든출력본.xml\")\r\n",
    "root = tree.getroot()\r\n",
    "\r\n",
    "tag = root.findall(\"ROW\")\r\n",
    "\r\n",
    "for child in root.iter():\r\n",
    "    print(child.attrib)\r\n",
    "\r\n",
    "'''\r\n",
    "for idx, t in enumerate(tag):\r\n",
    "    child = t.getchildren()\r\n",
    "'''\r\n",
    "    #print(child.__getattribute__())\r\n",
    "    '''\r\n",
    "    for idx, chi in enumerate(child):\r\n",
    "        if idx == 1:\r\n",
    "    '''\r\n",
    "\r\n",
    "    #        print(chi.tag, chi.text)\r\n",
    "\r\n",
    "\r\n",
    "'''\r\n",
    "for child in range(len(tag)){}\r\n",
    "for i in iter(child):\r\n",
    "    print(i.tag, i.text)\r\n",
    "'''\r\n"
   ],
   "outputs": [
    {
     "output_type": "error",
     "ename": "IndentationError",
     "evalue": "unexpected indent (<ipython-input-5-bd6a73fd81a9>, line 16)",
     "traceback": [
      "\u001b[1;36m  File \u001b[1;32m\"<ipython-input-5-bd6a73fd81a9>\"\u001b[1;36m, line \u001b[1;32m16\u001b[0m\n\u001b[1;33m    '''\u001b[0m\n\u001b[1;37m    ^\u001b[0m\n\u001b[1;31mIndentationError\u001b[0m\u001b[1;31m:\u001b[0m unexpected indent\n"
     ]
    }
   ],
   "metadata": {
    "collapsed": false,
    "pycharm": {
     "name": "#%%\n"
    }
   }
  },
  {
   "cell_type": "code",
   "execution_count": 15,
   "source": [
    "import pandas \r\n",
    "\r\n",
    "DATA_PATH = \"c:\\\\Users\\\\WAI\\\\OneDrive\\\\03.WORKSPACE\\\\00.DATA\\\\\"\r\n",
    "\r\n",
    "df = pandas.read_csv(DATA_PATH + \"03.FeatureSelection/01.Wrapper/train.csv\" , nrows=20000)\r\n",
    "\r\n",
    "df.shape\r\n",
    "df_sub = df.iloc[:,:33].fillna(0)\r\n",
    "df_sub.to_csv(DATA_PATH + \"BookExample.csv\")"
   ],
   "outputs": [],
   "metadata": {}
  }
 ],
 "metadata": {
  "kernelspec": {
   "name": "lab_kernel",
   "language": "python",
   "display_name": "lab_kernel"
  },
  "language_info": {
   "codemirror_mode": {
    "name": "ipython",
    "version": 2
   },
   "file_extension": ".py",
   "mimetype": "text/x-python",
   "name": "python",
   "nbconvert_exporter": "python",
   "pygments_lexer": "ipython2",
   "version": "2.7.6"
  }
 },
 "nbformat": 4,
 "nbformat_minor": 2
}