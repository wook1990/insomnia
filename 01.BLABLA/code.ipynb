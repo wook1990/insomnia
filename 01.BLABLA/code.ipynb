{
 "cells": [
  {
   "cell_type": "code",
   "execution_count": 1,
   "source": [
    "num1 = 7894\r\n",
    "string = str(num1)\r\n",
    "if string[0] == \"-\":\r\n",
    "    print(\"음수\")\r\n",
    "    reverse = string[0] + string[1:len(string)][::-1]\r\n",
    "    print(int(reverse))\r\n",
    "else:\r\n",
    "    print(\"양수\")\r\n",
    "    reverse = string[::-1]\r\n",
    "    print(int(reverse))\r\n",
    "\r\n",
    "\r\n",
    "\r\n",
    "\r\n",
    "\r\n"
   ],
   "outputs": [
    {
     "output_type": "stream",
     "name": "stdout",
     "text": [
      "양수\n",
      "4987\n"
     ]
    }
   ],
   "metadata": {
    "collapsed": false,
    "pycharm": {
     "name": "#%%\n"
    }
   }
  },
  {
   "cell_type": "code",
   "execution_count": 15,
   "source": [
    "import pandas \r\n",
    "\r\n",
    "DATA_PATH = \"c:\\\\Users\\\\WAI\\\\OneDrive\\\\03.WORKSPACE\\\\00.DATA\\\\\"\r\n",
    "\r\n",
    "df = pandas.read_csv(DATA_PATH + \"03.FeatureSelection/01.Wrapper/train.csv\" , nrows=20000)\r\n",
    "\r\n",
    "df.shape\r\n",
    "df_sub = df.iloc[:,:33].fillna(0)\r\n",
    "df_sub.to_csv(DATA_PATH + \"BookExample.csv\")"
   ],
   "outputs": [],
   "metadata": {}
  }
 ],
 "metadata": {
  "kernelspec": {
   "name": "lab_kernel",
   "language": "python",
   "display_name": "lab_kernel"
  },
  "language_info": {
   "codemirror_mode": {
    "name": "ipython",
    "version": 2
   },
   "file_extension": ".py",
   "mimetype": "text/x-python",
   "name": "python",
   "nbconvert_exporter": "python",
   "pygments_lexer": "ipython2",
   "version": "2.7.6"
  }
 },
 "nbformat": 4,
 "nbformat_minor": 2
}