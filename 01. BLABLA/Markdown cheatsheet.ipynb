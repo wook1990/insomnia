{
 "cells": [
  {
   "cell_type": "code",
   "execution_count": null,
   "metadata": {
    "collapsed": true
   },
   "outputs": [],
   "source": []
  },
  {
   "cell_type": "markdown",
   "source": [
    "## MarkDown CheatSheet\n",
    "[- Markdown 문법, 태그사용법](https://firework-ham.tistory.com/58)\n",
    "### - 문법의 종류\n",
    "- Headings\n",
    "- Blockquotes\n",
    "- Code Section\n",
    "- Line Break\n",
    "- Bold and Italic Text\n",
    "- Horizontal Lines\n",
    "- Ordered List\n",
    "- Unordered List\n",
    "- External Link\n",
    "- Table\n",
    "- Images\n",
    "\n",
    "#### Headings\n",
    "Heading은 #으로 시작한다. # 의 개수에 따라 heading의 종류가 결정되며 1~6까지 사용할 수 있다.\n",
    "#을 대신해 html 태그와 같이 사용가능하다.\n",
    "\n",
    "# Header#1 title\n",
    "## Header#2 title\n",
    "### Header#3 title\n",
    "#### Header#4 title\n",
    "##### Header#5 title\n",
    "###### header#6 title\n",
    "\n",
    "<h1>Header#1 title</h1>\n",
    "<h2>Header#2 title</h2>\n",
    "<h3>Header#3 title</h3>\n",
    "<h4>Header#4 title</h4>\n",
    "<h5>Header#5 title</h5>\n",
    "<h6>Header#6 title</h6>\n",
    "\n",
    "\n",
    "#### Blockquotes(인용문)\n",
    "'>'로 문장을 시작하거나 <blockquotes></blockquotes>를 사용한다.\n",
    "> Block quotes\n",
    "\n",
    " <blockquote>Block quotes</blockquote>\n",
    "\n",
    "#### CodeSection(코드)\n",
    "코드를 표현할때 일반 텍스트가 아닌 코드 형식에 맞춰 표현이 가능하다.\n",
    "첫 문단에 해당 언어를 추가하면 언어에 맞게 표현이된다.\n",
    "```python\n",
    "import numpy\n",
    "import pandas\n",
    "print(pandas.__version__)\n",
    "```\n",
    "\n",
    "\n",
    "#### Mathematical Symbol(수식)\n",
    "수식의 표현도 가능하며 표기로 묶어서 수식을 표현한다.\n",
    "$\\sqrt{k}$\n",
    "$$RMSE=\\sqrt {\\sum_{i}^N (Y_{i} - \\hat Y_{i})^2}$$\n",
    "\n",
    "\n",
    "#### Bold and Italic Text\n",
    "<b>Bold</b>\n",
    "**Bold**\n",
    "__Bold__\n",
    "\n",
    "<i>Italic</b>\n",
    "*Italic*\n",
    "_Italic_\n",
    "\n",
    "#### Horizontail Line(구분선)\n",
    "---\n",
    "<hr>\n",
    "\n",
    "#### External Link(외부링크)\n",
    "<a href=\"https://naver.com\">Link to Naver</a>\n",
    "a태그를 사용하거나\n",
    "[NAVER](\"https://naver.com\")\n"
   ],
   "metadata": {
    "collapsed": false
   }
  }
 ],
 "metadata": {
  "kernelspec": {
   "name": "lab_kernel",
   "language": "python",
   "display_name": "lab_kernel"
  },
  "language_info": {
   "codemirror_mode": {
    "name": "ipython",
    "version": 2
   },
   "file_extension": ".py",
   "mimetype": "text/x-python",
   "name": "python",
   "nbconvert_exporter": "python",
   "pygments_lexer": "ipython2",
   "version": "2.7.6"
  }
 },
 "nbformat": 4,
 "nbformat_minor": 0
}